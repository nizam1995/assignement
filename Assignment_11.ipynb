{
 "cells": [
  {
   "cell_type": "code",
   "execution_count": 1,
   "id": "5ed5d62c",
   "metadata": {},
   "outputs": [],
   "source": [
    "# 1. Create an assert statement that throws an AssertionError if the variable spam is a negative integer.\n",
    "\n",
    "#Answer: The assert statement is used to continue the execute if the given condition evaluates to True. If the assert condition evaluates to False, then it raises the AssertionError exception with the specified error message."
   ]
  },
  {
   "cell_type": "code",
   "execution_count": null,
   "id": "02b71944",
   "metadata": {},
   "outputs": [],
   "source": [
    "import pyinputplus as pyip\n",
    "\n",
    "spam = pyip.inputNum(\" Enter a positive number :\")\n",
    "assert spam > 0\n",
    "print(spam,'is a positive number')"
   ]
  },
  {
   "cell_type": "code",
   "execution_count": null,
   "id": "72bca6d1",
   "metadata": {},
   "outputs": [],
   "source": [
    "#2. Write an assert statement that triggers an AssertionError if the variables eggs and bacon contain\n",
    "#   strings that are the same as each other, even if their cases are different (that is, &#39;hello and &hello; are\n",
    "#   considered the same, and &#39;goodbye&#39; and &#39;GOODbye&#39; are also considered the same)."
   ]
  },
  {
   "cell_type": "code",
   "execution_count": null,
   "id": "7a8e7079",
   "metadata": {},
   "outputs": [],
   "source": [
    "eggs='Hello'\n",
    "bacon ='hello'\n",
    "\n",
    "assert eggs.lower() != bacon.lower() or eggs.upper() != bacon.upper()\n",
    "print('The eggs and bacon variables are not the same!')"
   ]
  },
  {
   "cell_type": "code",
   "execution_count": null,
   "id": "8ba86935",
   "metadata": {},
   "outputs": [],
   "source": [
    "# 3. Create an assert statement that throws an AssertionError every time.\n",
    "# Answer: assert False -> this always triggers an exception"
   ]
  },
  {
   "cell_type": "code",
   "execution_count": null,
   "id": "c667e51d",
   "metadata": {},
   "outputs": [],
   "source": [
    "assert False"
   ]
  },
  {
   "cell_type": "code",
   "execution_count": null,
   "id": "6c0a15a3",
   "metadata": {},
   "outputs": [],
   "source": [
    "# 4. What are the two lines that must be present in your software in order to call logging.debug()?\n",
    "#Answer: To be able to call logging.debug(), we must have these two lines at the start of your program: \n",
    "import logging \n",
    "logging.basicConfig(level=logging.DEBUG, format=' %(asctime)s - %(levelname)s - %(message)s')"
   ]
  },
  {
   "cell_type": "code",
   "execution_count": null,
   "id": "65186d97",
   "metadata": {},
   "outputs": [],
   "source": [
    "import logging as lg\n",
    "lg.basicConfig(level=lg.DEBUG, format=' %(asctime)s - %(levelname)s - %(message)s')"
   ]
  },
  {
   "cell_type": "code",
   "execution_count": null,
   "id": "465e2a74",
   "metadata": {},
   "outputs": [],
   "source": [
    "# 5. What are the two lines that your program must have in order to have logging.debug() send a logging message to a file named programLog.txt?"
   ]
  },
  {
   "cell_type": "code",
   "execution_count": null,
   "id": "43fea1a8",
   "metadata": {},
   "outputs": [],
   "source": [
    "import logging as lg\n",
    "lg.basicConfig(filename='programLog.txt', level=lg.DEBUG, format=' %(asctime)s - %(levelname)s - %(message)s')"
   ]
  },
  {
   "cell_type": "code",
   "execution_count": null,
   "id": "e4660933",
   "metadata": {},
   "outputs": [],
   "source": [
    "# 6. What are the five levels of logging?"
   ]
  },
  {
   "cell_type": "code",
   "execution_count": null,
   "id": "19f4fc71",
   "metadata": {},
   "outputs": [],
   "source": [
    "Answer= \"\"\" Five level of loggins are DEBUG, INFO, WARNING, ERROR, and CRITICAL\n",
    "logging.debug() - variable's state and small details\n",
    "logging.info() - general events, confirm a program is working\n",
    "logging.warning() - potiental problem to work on in the future\n",
    "logging.error() - record an error that caused program to fail to do something\n",
    "logging.critical() - fatal error that has caused  \"\"\""
   ]
  },
  {
   "cell_type": "code",
   "execution_count": null,
   "id": "77cdd9b8",
   "metadata": {},
   "outputs": [],
   "source": [
    "# 7. What line of code would you add to your software to disable all logging messages?\n",
    "\n",
    "#Answer: logging.disable(level) -> Disables all logging calls of severity 'level' and below. set level = logging.CRITICAL since\n",
    "#        CRITICAL being the highest level , every other level loggings will be disabled."
   ]
  },
  {
   "cell_type": "code",
   "execution_count": null,
   "id": "cfec9100",
   "metadata": {},
   "outputs": [],
   "source": [
    "import logging as lg\n",
    "lg.disable(lg.CRITICAL)"
   ]
  },
  {
   "cell_type": "code",
   "execution_count": null,
   "id": "1e4d45a6",
   "metadata": {},
   "outputs": [],
   "source": [
    "# 8.Why is using logging messages better than using print() to display the same message?\n",
    "\n",
    "#Answer: You can disable logging messages without removing the logging function calls. \n",
    "#        You can selectively disable lower-level logging messages. \n",
    "#        You can create logging messages. Logging messages provides a timestamp."
   ]
  },
  {
   "cell_type": "code",
   "execution_count": null,
   "id": "26a5c28c",
   "metadata": {},
   "outputs": [],
   "source": [
    "# 9. What are the differences between the Step Over, Step In, and Step Out buttons in the debugger?\n",
    "\n",
    "# ANswer: The Step in button will move the debugger into a function call. \n",
    "#         The Over button will quickly execute the function call without stepping into it. \n",
    "#         The Out button will quickly execute the rest of the code until it steps out of the function it currently is in."
   ]
  },
  {
   "cell_type": "code",
   "execution_count": null,
   "id": "9a97353c",
   "metadata": {},
   "outputs": [],
   "source": [
    "# 10.After you click Continue, when will the debugger stop ?\n",
    "\n",
    "# Answer: It will stops at next breakpoint, if there are no further breakpoints program will be fully executed."
   ]
  },
  {
   "cell_type": "code",
   "execution_count": null,
   "id": "0217b222",
   "metadata": {},
   "outputs": [],
   "source": [
    "# 11. What is the concept of a breakpoint?\n",
    "# Answer: The Python breakpoint() built-in function is a tool that allows developers to set points in code at which a debugger is called. By default, this function results in an instantiation of Python's native debugger class. "
   ]
  },
  {
   "cell_type": "code",
   "execution_count": null,
   "id": "b7a521a8",
   "metadata": {},
   "outputs": [],
   "source": []
  },
  {
   "cell_type": "code",
   "execution_count": null,
   "id": "f236fcac",
   "metadata": {},
   "outputs": [],
   "source": []
  },
  {
   "cell_type": "code",
   "execution_count": null,
   "id": "6efa0d37",
   "metadata": {},
   "outputs": [],
   "source": []
  }
 ],
 "metadata": {
  "kernelspec": {
   "display_name": "Python 3 (ipykernel)",
   "language": "python",
   "name": "python3"
  },
  "language_info": {
   "codemirror_mode": {
    "name": "ipython",
    "version": 3
   },
   "file_extension": ".py",
   "mimetype": "text/x-python",
   "name": "python",
   "nbconvert_exporter": "python",
   "pygments_lexer": "ipython3",
   "version": "3.9.7"
  }
 },
 "nbformat": 4,
 "nbformat_minor": 5
}
