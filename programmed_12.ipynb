{
 "cells": [
  {
   "cell_type": "markdown",
   "id": "c1139386",
   "metadata": {},
   "source": [
    "1. Write a Python program to Extract Unique values dictionary values?\n",
    "2. Write a Python program to find the sum of all items in a dictionary?\n",
    "3. Write a Python program to Merging two Dictionaries?\n",
    "4. Write a Python program to convert key-values list to flat dictionary?\n",
    "5. Write a Python program to insertion at the beginning in OrderedDict?\n",
    "6. Write a Python program to check order of character in string using OrderedDict()?\n",
    "7. Write a Python program to sort Python Dictionaries by Key or Value?"
   ]
  },
  {
   "cell_type": "code",
   "execution_count": 1,
   "id": "d1215456",
   "metadata": {},
   "outputs": [],
   "source": [
    "#Write a Python program to Extract Unique values dictionary values?"
   ]
  },
  {
   "cell_type": "code",
   "execution_count": 26,
   "id": "c661496a",
   "metadata": {},
   "outputs": [],
   "source": [
    "d= {'a':[2,3,4], 'b':[1, 2,4], 'c': 2}"
   ]
  },
  {
   "cell_type": "code",
   "execution_count": 27,
   "id": "f7cce7dc",
   "metadata": {},
   "outputs": [],
   "source": [
    "tmp=[]\n",
    "for i in d.values():\n",
    "    if type(i)==int:\n",
    "        if i not in tmp:\n",
    "                tmp.append(i)\n",
    "    if type(i)==list:\n",
    "        \n",
    "        for j in i:\n",
    "            if j not in tmp:\n",
    "                tmp.append(j)"
   ]
  },
  {
   "cell_type": "code",
   "execution_count": 28,
   "id": "74755983",
   "metadata": {},
   "outputs": [
    {
     "data": {
      "text/plain": [
       "[2, 3, 4, 1]"
      ]
     },
     "execution_count": 28,
     "metadata": {},
     "output_type": "execute_result"
    }
   ],
   "source": [
    "tmp"
   ]
  },
  {
   "cell_type": "code",
   "execution_count": 29,
   "id": "692aded3",
   "metadata": {},
   "outputs": [],
   "source": [
    "# Write a Python program to find the sum of all items in a dictionary?\n"
   ]
  },
  {
   "cell_type": "code",
   "execution_count": 44,
   "id": "97694617",
   "metadata": {},
   "outputs": [],
   "source": [
    "def sum_dic(d):\n",
    "    k=[]\n",
    "    for i in d:\n",
    "        if type(d) ==int:\n",
    "            k.append(i)\n",
    "    for j in d.values():\n",
    "        if type(j) ==int: \n",
    "             k.append(j)\n",
    "                \n",
    "        if type(j)==list:\n",
    "            for a in j:\n",
    "                if type(a) ==int: \n",
    "                    k.append(a)\n",
    "        \n",
    "    \n",
    "    return \"value of k is: \", k, \" and sum of k is: \", sum(k)\n",
    "    \n",
    "\n"
   ]
  },
  {
   "cell_type": "code",
   "execution_count": 45,
   "id": "9942f7e9",
   "metadata": {},
   "outputs": [
    {
     "data": {
      "text/plain": [
       "('value of k is: ', [2, 3, 4, 1, 2, 4, 2], ' and sum of k is: ', 18)"
      ]
     },
     "execution_count": 45,
     "metadata": {},
     "output_type": "execute_result"
    }
   ],
   "source": [
    "sum_dic(d)"
   ]
  },
  {
   "cell_type": "code",
   "execution_count": 41,
   "id": "38669dd2",
   "metadata": {},
   "outputs": [
    {
     "ename": "NameError",
     "evalue": "name 'k' is not defined",
     "output_type": "error",
     "traceback": [
      "\u001b[1;31m---------------------------------------------------------------------------\u001b[0m",
      "\u001b[1;31mNameError\u001b[0m                                 Traceback (most recent call last)",
      "\u001b[1;32m~\\AppData\\Local\\Temp/ipykernel_25064/692749835.py\u001b[0m in \u001b[0;36m<module>\u001b[1;34m\u001b[0m\n\u001b[1;32m----> 1\u001b[1;33m \u001b[0msum\u001b[0m\u001b[1;33m(\u001b[0m\u001b[0mk\u001b[0m\u001b[1;33m)\u001b[0m\u001b[1;33m\u001b[0m\u001b[1;33m\u001b[0m\u001b[0m\n\u001b[0m",
      "\u001b[1;31mNameError\u001b[0m: name 'k' is not defined"
     ]
    }
   ],
   "source": [
    "sum(k)"
   ]
  },
  {
   "cell_type": "code",
   "execution_count": null,
   "id": "fe3db940",
   "metadata": {},
   "outputs": [],
   "source": [
    "# Write a Python program to Merging two Dictionaries?"
   ]
  },
  {
   "cell_type": "code",
   "execution_count": 46,
   "id": "9696feb8",
   "metadata": {},
   "outputs": [],
   "source": [
    "d1= d= {'d':[2,3,4], 'e':['xyz'], 'c': 'f'}"
   ]
  },
  {
   "cell_type": "code",
   "execution_count": 47,
   "id": "1e88a8f1",
   "metadata": {},
   "outputs": [],
   "source": [
    "d.update(d1)"
   ]
  },
  {
   "cell_type": "code",
   "execution_count": 48,
   "id": "4c37896a",
   "metadata": {},
   "outputs": [
    {
     "data": {
      "text/plain": [
       "{'d': [2, 3, 4], 'e': ['xyz'], 'c': 'f'}"
      ]
     },
     "execution_count": 48,
     "metadata": {},
     "output_type": "execute_result"
    }
   ],
   "source": [
    "d"
   ]
  },
  {
   "cell_type": "code",
   "execution_count": null,
   "id": "96e7f6ea",
   "metadata": {},
   "outputs": [],
   "source": [
    "# Write a Python program to convert key-values list to flat dictionary?"
   ]
  },
  {
   "cell_type": "code",
   "execution_count": 49,
   "id": "270cf8a4",
   "metadata": {},
   "outputs": [
    {
     "name": "stdout",
     "output_type": "stream",
     "text": [
      "The original dictionary is : {'month': [1, 2, 3], 'name': ['Jan', 'Feb', 'March']}\n",
      "Flattened dictionary : {1: 'Jan', 2: 'Feb', 3: 'March'}\n"
     ]
    }
   ],
   "source": [
    "# initializing dictionary\n",
    "test_dict = {'month' : [1, 2, 3],\n",
    "             'name' : ['Jan', 'Feb', 'March']}\n",
    "  \n",
    "# printing original dictionary\n",
    "print(\"The original dictionary is : \" + str(test_dict))\n",
    "  \n",
    "# Convert key-values list to flat dictionary\n",
    "# Using dict() + zip()\n",
    "res = dict(zip(test_dict['month'], test_dict['name']))\n",
    "  \n",
    "# printing result \n",
    "print(\"Flattened dictionary : \" + str(res)) "
   ]
  },
  {
   "cell_type": "code",
   "execution_count": 50,
   "id": "dea9be54",
   "metadata": {},
   "outputs": [],
   "source": [
    "# Write a Python program to insertion at the beginning in OrderedDict?"
   ]
  },
  {
   "cell_type": "code",
   "execution_count": 58,
   "id": "4961d30f",
   "metadata": {},
   "outputs": [
    {
     "name": "stdout",
     "output_type": "stream",
     "text": [
      "Resultant Dictionary :OrderedDict([('manjeet', '4'), ('akash', '4'), ('akshat', '1'), ('nikhil', '2')])\n"
     ]
    }
   ],
   "source": [
    "# Python code to demonstrate\n",
    "# insertion of items in beginning of ordered dict\n",
    "from collections import OrderedDict\n",
    " \n",
    "# initialising ordered_dict\n",
    "ini_dict1 = OrderedDict([('akshat', '1'), ('nikhil', '2')])\n",
    "ini_dict2 = OrderedDict([(\"manjeet\", '4'), (\"akash\", '4')])\n",
    "\n",
    " \n",
    "# adding in beginning of dict\n",
    "both = OrderedDict(list(ini_dict2.items()) + list(ini_dict1.items()))\n",
    " \n",
    "# print result\n",
    "print (\"Resultant Dictionary :\"+(str(both)))"
   ]
  },
  {
   "cell_type": "code",
   "execution_count": 53,
   "id": "459fae4b",
   "metadata": {},
   "outputs": [
    {
     "name": "stdout",
     "output_type": "stream",
     "text": [
      "Resultant Dictionary : OrderedDict([('manjeet', '3'), ('akshat', '1'), ('nikhil', '2')])\n"
     ]
    }
   ],
   "source": [
    "# Python code to demonstrate\n",
    "# insertion of items in beginning of ordered dict\n",
    "from collections import OrderedDict\n",
    " \n",
    "# initialising ordered_dict\n",
    "iniordered_dict = OrderedDict([('akshat', '1'), ('nikhil', '2')])\n",
    " \n",
    "# inserting items in starting of dict\n",
    "iniordered_dict.update({'manjeet':'3'})\n",
    "iniordered_dict.move_to_end('manjeet', last = False)\n",
    " \n",
    "# print result\n",
    "print (\"Resultant Dictionary : \"+str(iniordered_dict))"
   ]
  },
  {
   "cell_type": "code",
   "execution_count": 59,
   "id": "3ec5afda",
   "metadata": {},
   "outputs": [
    {
     "data": {
      "text/plain": [
       "collections.OrderedDict"
      ]
     },
     "execution_count": 59,
     "metadata": {},
     "output_type": "execute_result"
    }
   ],
   "source": [
    "#Write a Python program to check order of character in string using OrderedDict()?"
   ]
  },
  {
   "cell_type": "code",
   "execution_count": 116,
   "id": "99134fd8",
   "metadata": {},
   "outputs": [],
   "source": [
    "from collections import OrderedDict\n",
    "def check (str1, str2):\n",
    "    dict1= OrderedDict.fromkeys(str1)\n",
    "    l=0\n",
    "    for k in dict1:\n",
    "        if (k==str2[l]):\n",
    "            l=l+1\n",
    "        if (l==(len(str2))):\n",
    "            return print(\"valid \")\n",
    "    return print(\"Invalied\")"
   ]
  },
  {
   "cell_type": "code",
   "execution_count": 117,
   "id": "04f6115a",
   "metadata": {},
   "outputs": [],
   "source": [
    "x= 'abcd'\n",
    "y= 'cd'"
   ]
  },
  {
   "cell_type": "code",
   "execution_count": 118,
   "id": "b56f1602",
   "metadata": {},
   "outputs": [
    {
     "name": "stdout",
     "output_type": "stream",
     "text": [
      "valid \n"
     ]
    }
   ],
   "source": [
    "check(x,y)"
   ]
  },
  {
   "cell_type": "code",
   "execution_count": 119,
   "id": "88796191",
   "metadata": {},
   "outputs": [],
   "source": []
  },
  {
   "cell_type": "code",
   "execution_count": 120,
   "id": "a34082ff",
   "metadata": {},
   "outputs": [],
   "source": [
    "string = \"engineers rock\"\n",
    "pattern = \"er\""
   ]
  },
  {
   "cell_type": "code",
   "execution_count": 122,
   "id": "5866cdb0",
   "metadata": {},
   "outputs": [
    {
     "name": "stdout",
     "output_type": "stream",
     "text": [
      "valid \n"
     ]
    }
   ],
   "source": [
    "check(string,pattern)"
   ]
  },
  {
   "cell_type": "code",
   "execution_count": null,
   "id": "63d8bd0e",
   "metadata": {},
   "outputs": [],
   "source": [
    "#Write a Python program to sort Python Dictionaries by Key or Value?"
   ]
  },
  {
   "cell_type": "code",
   "execution_count": null,
   "id": "9ac549fd",
   "metadata": {},
   "outputs": [],
   "source": [
    "x=  {2: 56, 1: 2, 5: 12, 4: 24, 6: 18, 3: 323}"
   ]
  },
  {
   "cell_type": "code",
   "execution_count": 125,
   "id": "b2e7b112",
   "metadata": {},
   "outputs": [
    {
     "name": "stdout",
     "output_type": "stream",
     "text": [
      "OrderedDict([('rajnish', '9'), ('ravi', '10'), ('sanjeev', '15'), ('suraj', '32'), ('yash', '2')])\n"
     ]
    }
   ],
   "source": [
    "from collections import OrderedDict\n",
    " \n",
    "dict = {'ravi': '10', 'rajnish': '9',\n",
    "        'sanjeev': '15', 'yash': '2', 'suraj': '32'}\n",
    "dict1 = OrderedDict(sorted(dict.items()))\n",
    "print(dict1)"
   ]
  },
  {
   "cell_type": "code",
   "execution_count": 124,
   "id": "3e1950af",
   "metadata": {},
   "outputs": [
    {
     "ename": "TypeError",
     "evalue": "dict() takes 0 positional arguments but 1 was given",
     "output_type": "error",
     "traceback": [
      "\u001b[1;31m---------------------------------------------------------------------------\u001b[0m",
      "\u001b[1;31mTypeError\u001b[0m                                 Traceback (most recent call last)",
      "\u001b[1;32m~\\AppData\\Local\\Temp/ipykernel_25064/525867267.py\u001b[0m in \u001b[0;36m<module>\u001b[1;34m\u001b[0m\n\u001b[1;32m----> 1\u001b[1;33m \u001b[0mdict\u001b[0m\u001b[1;33m(\u001b[0m\u001b[0mx\u001b[0m\u001b[1;33m)\u001b[0m\u001b[1;33m\u001b[0m\u001b[1;33m\u001b[0m\u001b[0m\n\u001b[0m",
      "\u001b[1;31mTypeError\u001b[0m: dict() takes 0 positional arguments but 1 was given"
     ]
    }
   ],
   "source": []
  },
  {
   "cell_type": "code",
   "execution_count": null,
   "id": "88de5a4d",
   "metadata": {},
   "outputs": [],
   "source": []
  }
 ],
 "metadata": {
  "kernelspec": {
   "display_name": "Python 3 (ipykernel)",
   "language": "python",
   "name": "python3"
  },
  "language_info": {
   "codemirror_mode": {
    "name": "ipython",
    "version": 3
   },
   "file_extension": ".py",
   "mimetype": "text/x-python",
   "name": "python",
   "nbconvert_exporter": "python",
   "pygments_lexer": "ipython3",
   "version": "3.9.7"
  }
 },
 "nbformat": 4,
 "nbformat_minor": 5
}
