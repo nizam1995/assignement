{
 "cells": [
  {
   "cell_type": "markdown",
   "id": "a6a2bc8c",
   "metadata": {},
   "source": [
    "1. Write a Python program to find sum of elements in list?\n",
    "2. Write a Python program to Multiply all numbers in the list?\n",
    "3. Write a Python program to find smallest number in a list?\n",
    "4. Write a Python program to find largest number in a list?\n",
    "5. Write a Python program to find second largest number in a list?\n",
    "6. Write a Python program to find N largest elements from a list?\n",
    "7. Write a Python program to print even numbers in a list?\n",
    "8. Write a Python program to print odd numbers in a List?\n",
    "9. Write a Python program to Remove empty List from List?\n",
    "10. Write a Python program to Cloning or Copying a list?\n",
    "11. Write a Python program to Count occurrences of an element in a list?"
   ]
  },
  {
   "cell_type": "code",
   "execution_count": 89,
   "id": "a2aa805d",
   "metadata": {},
   "outputs": [],
   "source": [
    "# Write a Python program to find sum of elements in list?"
   ]
  },
  {
   "cell_type": "code",
   "execution_count": 100,
   "id": "00608556",
   "metadata": {},
   "outputs": [],
   "source": [
    "l=[4,6,5,3,2,1]\n"
   ]
  },
  {
   "cell_type": "code",
   "execution_count": 91,
   "id": "0401b5cc",
   "metadata": {},
   "outputs": [
    {
     "data": {
      "text/plain": [
       "21"
      ]
     },
     "execution_count": 91,
     "metadata": {},
     "output_type": "execute_result"
    }
   ],
   "source": [
    "sum(l)"
   ]
  },
  {
   "cell_type": "code",
   "execution_count": 92,
   "id": "d7895a54",
   "metadata": {},
   "outputs": [],
   "source": [
    "# Write a Python program to Multiply all numbers in the list?"
   ]
  },
  {
   "cell_type": "code",
   "execution_count": 93,
   "id": "d79488ae",
   "metadata": {},
   "outputs": [
    {
     "name": "stdout",
     "output_type": "stream",
     "text": [
      "720\n"
     ]
    }
   ],
   "source": [
    "t= 1\n",
    "for i in (l):\n",
    "    t=t*i\n",
    "print(t)"
   ]
  },
  {
   "cell_type": "code",
   "execution_count": 94,
   "id": "3c49701a",
   "metadata": {},
   "outputs": [],
   "source": [
    "# Write a Python program to find smallest number in a list?"
   ]
  },
  {
   "cell_type": "code",
   "execution_count": 95,
   "id": "574e44d5",
   "metadata": {},
   "outputs": [
    {
     "data": {
      "text/plain": [
       "1"
      ]
     },
     "execution_count": 95,
     "metadata": {},
     "output_type": "execute_result"
    }
   ],
   "source": [
    "min(l)"
   ]
  },
  {
   "cell_type": "code",
   "execution_count": 96,
   "id": "b321bb2a",
   "metadata": {},
   "outputs": [],
   "source": [
    "# Write a Python program to find largest number in a list?"
   ]
  },
  {
   "cell_type": "code",
   "execution_count": 103,
   "id": "5d8ef953",
   "metadata": {},
   "outputs": [
    {
     "name": "stdout",
     "output_type": "stream",
     "text": [
      " largest number is : 6\n"
     ]
    }
   ],
   "source": [
    "l.sort()\n",
    "\n",
    "print(\" largest number is :\", l[-1])"
   ]
  },
  {
   "cell_type": "code",
   "execution_count": 98,
   "id": "b606272e",
   "metadata": {},
   "outputs": [],
   "source": [
    "#Write a Python program to find second largest number in a list?\n"
   ]
  },
  {
   "cell_type": "code",
   "execution_count": 99,
   "id": "4a9bd9fc",
   "metadata": {},
   "outputs": [
    {
     "name": "stdout",
     "output_type": "stream",
     "text": [
      "Seconf largest number is : 5\n"
     ]
    }
   ],
   "source": [
    "l.sort()\n",
    "\n",
    "print(\"Seconf largest number is :\", l[-2])\n",
    "    "
   ]
  },
  {
   "cell_type": "code",
   "execution_count": null,
   "id": "dc7fd27b",
   "metadata": {},
   "outputs": [],
   "source": []
  },
  {
   "cell_type": "code",
   "execution_count": null,
   "id": "67853eff",
   "metadata": {},
   "outputs": [],
   "source": []
  },
  {
   "cell_type": "code",
   "execution_count": 104,
   "id": "06fcf1e2",
   "metadata": {},
   "outputs": [],
   "source": [
    "# Write a Python program to find N largest elements from a list?"
   ]
  },
  {
   "cell_type": "code",
   "execution_count": 105,
   "id": "aeb4cd04",
   "metadata": {},
   "outputs": [
    {
     "data": {
      "text/plain": [
       "[1, 2, 3, 4, 5, 6]"
      ]
     },
     "execution_count": 105,
     "metadata": {},
     "output_type": "execute_result"
    }
   ],
   "source": [
    "l"
   ]
  },
  {
   "cell_type": "code",
   "execution_count": 106,
   "id": "8a8453e8",
   "metadata": {},
   "outputs": [
    {
     "name": "stdout",
     "output_type": "stream",
     "text": [
      " Enter the number that you would like to extract from the list: 3\n",
      "6\n",
      "5\n",
      "4\n"
     ]
    }
   ],
   "source": [
    "n= int(input( \" Enter the number that you would like to extract from the list: \"))\n",
    "l.sort()\n",
    "for i in range(1,n+1):\n",
    "    print(l[-i])"
   ]
  },
  {
   "cell_type": "code",
   "execution_count": 50,
   "id": "e58189a8",
   "metadata": {},
   "outputs": [],
   "source": [
    "#Write a Python program to print even numbers in a list?\n"
   ]
  },
  {
   "cell_type": "code",
   "execution_count": 107,
   "id": "fec520b0",
   "metadata": {},
   "outputs": [
    {
     "name": "stdout",
     "output_type": "stream",
     "text": [
      "2\n",
      "4\n",
      "6\n"
     ]
    }
   ],
   "source": [
    "for i in l:\n",
    "    if i>1 and  i%2==0:\n",
    "        print(i)\n",
    "    "
   ]
  },
  {
   "cell_type": "code",
   "execution_count": 108,
   "id": "11a399dd",
   "metadata": {},
   "outputs": [],
   "source": [
    "#Write a Python program to print odd numbers in a List?"
   ]
  },
  {
   "cell_type": "code",
   "execution_count": 109,
   "id": "6c01cfc3",
   "metadata": {},
   "outputs": [
    {
     "name": "stdout",
     "output_type": "stream",
     "text": [
      "1\n",
      "3\n",
      "5\n"
     ]
    }
   ],
   "source": [
    "for i in l:\n",
    "    if    i%2!=0:\n",
    "        print(i)"
   ]
  },
  {
   "cell_type": "code",
   "execution_count": 110,
   "id": "1e90eaa6",
   "metadata": {},
   "outputs": [],
   "source": [
    "#Write a Python program to Remove empty List from List?"
   ]
  },
  {
   "cell_type": "code",
   "execution_count": 111,
   "id": "0d9f4b9b",
   "metadata": {},
   "outputs": [],
   "source": [
    "list_= [1,2 ,3,[],'', []]"
   ]
  },
  {
   "cell_type": "code",
   "execution_count": 112,
   "id": "8b8f9741",
   "metadata": {},
   "outputs": [
    {
     "data": {
      "text/plain": [
       "[1, 2, 3]"
      ]
     },
     "execution_count": 112,
     "metadata": {},
     "output_type": "execute_result"
    }
   ],
   "source": [
    "list(filter(None,list_ ))\n",
    "        "
   ]
  },
  {
   "cell_type": "code",
   "execution_count": 113,
   "id": "e5c26657",
   "metadata": {},
   "outputs": [],
   "source": [
    "#Write a Python program to Cloning or Copying a list?"
   ]
  },
  {
   "cell_type": "code",
   "execution_count": 114,
   "id": "2adbeaa1",
   "metadata": {},
   "outputs": [],
   "source": [
    "new_list=[]\n",
    "for i in l:\n",
    "    new_list.append(i)"
   ]
  },
  {
   "cell_type": "code",
   "execution_count": 115,
   "id": "d573b525",
   "metadata": {},
   "outputs": [
    {
     "data": {
      "text/plain": [
       "[1, 2, 3, 4, 5, 6]"
      ]
     },
     "execution_count": 115,
     "metadata": {},
     "output_type": "execute_result"
    }
   ],
   "source": [
    "new_list"
   ]
  },
  {
   "cell_type": "code",
   "execution_count": 116,
   "id": "12d20814",
   "metadata": {},
   "outputs": [],
   "source": [
    "# Write a Python program to Count occurrences of an element in a list?"
   ]
  },
  {
   "cell_type": "code",
   "execution_count": 117,
   "id": "59b666a0",
   "metadata": {},
   "outputs": [
    {
     "data": {
      "text/plain": [
       "2    4\n",
       "3    4\n",
       "4    2\n",
       "5    1\n",
       "dtype: int64"
      ]
     },
     "execution_count": 117,
     "metadata": {},
     "output_type": "execute_result"
    }
   ],
   "source": [
    "\n",
    "import pandas as pd\n",
    "pd.Series(d).value_counts()"
   ]
  },
  {
   "cell_type": "code",
   "execution_count": null,
   "id": "a4fdfe1c",
   "metadata": {},
   "outputs": [],
   "source": []
  },
  {
   "cell_type": "code",
   "execution_count": null,
   "id": "c2dcccda",
   "metadata": {},
   "outputs": [],
   "source": []
  },
  {
   "cell_type": "code",
   "execution_count": null,
   "id": "0250573a",
   "metadata": {},
   "outputs": [],
   "source": []
  },
  {
   "cell_type": "code",
   "execution_count": null,
   "id": "da0bb087",
   "metadata": {},
   "outputs": [],
   "source": []
  }
 ],
 "metadata": {
  "kernelspec": {
   "display_name": "Python 3 (ipykernel)",
   "language": "python",
   "name": "python3"
  },
  "language_info": {
   "codemirror_mode": {
    "name": "ipython",
    "version": 3
   },
   "file_extension": ".py",
   "mimetype": "text/x-python",
   "name": "python",
   "nbconvert_exporter": "python",
   "pygments_lexer": "ipython3",
   "version": "3.9.7"
  }
 },
 "nbformat": 4,
 "nbformat_minor": 5
}
