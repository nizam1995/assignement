{
 "cells": [
  {
   "cell_type": "code",
   "execution_count": 2,
   "id": "c9daefd5",
   "metadata": {},
   "outputs": [],
   "source": [
    "# 1. What exactly is []?\n",
    "# Answer: These are the bracket that is used in python to  create the list.  a list is created by placing elements inside square brackets [] , separated by commas. A list can have any number of items and they may be of different types (integer, float, string, etc.). A list can also have another list as an item."
   ]
  },
  {
   "cell_type": "code",
   "execution_count": 1,
   "id": "8fa02c22",
   "metadata": {},
   "outputs": [],
   "source": [
    "#2. In a list of values stored in a variable called spam, how would you assign the value 'hello' as the third value? (Assume [2, 4, 6, 8, 10] are in spam.)\n",
    "\n",
    "# Answer:\n",
    "\n",
    "spam= [2, 4, 6, 8, 10] \n",
    "spam.insert(2, \"hello\")\n"
   ]
  },
  {
   "cell_type": "code",
   "execution_count": 4,
   "id": "12fd923b",
   "metadata": {},
   "outputs": [
    {
     "data": {
      "text/plain": [
       "8"
      ]
     },
     "execution_count": 4,
     "metadata": {},
     "output_type": "execute_result"
    }
   ],
   "source": [
    "#3. What is the value of spam[int(int('3' * 2) / 11)]?\n",
    "spam= [2, 4, 6, 8, 10] \n",
    "spam[int(int('3' * 2) / 11)]\n",
    "\n",
    "#Answer: 8"
   ]
  },
  {
   "cell_type": "code",
   "execution_count": 5,
   "id": "ca7ab2bb",
   "metadata": {},
   "outputs": [
    {
     "data": {
      "text/plain": [
       "10"
      ]
     },
     "execution_count": 5,
     "metadata": {},
     "output_type": "execute_result"
    }
   ],
   "source": [
    "#4. What is the value of spam[-1]?\n",
    "spam[-1]"
   ]
  },
  {
   "cell_type": "code",
   "execution_count": 6,
   "id": "96b016ac",
   "metadata": {},
   "outputs": [],
   "source": [
    "#Answer is 10"
   ]
  },
  {
   "cell_type": "code",
   "execution_count": 8,
   "id": "d51009ad",
   "metadata": {},
   "outputs": [
    {
     "data": {
      "text/plain": [
       "[2, 4]"
      ]
     },
     "execution_count": 8,
     "metadata": {},
     "output_type": "execute_result"
    }
   ],
   "source": [
    "#5. What is the value of spam[:2]?\n",
    "\n",
    "spam[:2]"
   ]
  },
  {
   "cell_type": "code",
   "execution_count": 9,
   "id": "315d00b5",
   "metadata": {},
   "outputs": [],
   "source": [
    "#Answer is [2, 4]"
   ]
  },
  {
   "cell_type": "code",
   "execution_count": 15,
   "id": "b177c6da",
   "metadata": {},
   "outputs": [],
   "source": [
    "#Let's pretend bacon has the list [3.14, 'cat,' 11, 'cat,' True] for the next three questions.\n",
    "\n",
    "bacon =[3.14, 'cat', 11, 'cat', True]"
   ]
  },
  {
   "cell_type": "code",
   "execution_count": 16,
   "id": "346aa12e",
   "metadata": {},
   "outputs": [
    {
     "data": {
      "text/plain": [
       "1"
      ]
     },
     "execution_count": 16,
     "metadata": {},
     "output_type": "execute_result"
    }
   ],
   "source": [
    "#6. What is the value of bacon.index('cat')?\n",
    "\n",
    "bacon.index('cat')"
   ]
  },
  {
   "cell_type": "code",
   "execution_count": 17,
   "id": "ae81135f",
   "metadata": {},
   "outputs": [],
   "source": [
    "#Answer is 1"
   ]
  },
  {
   "cell_type": "code",
   "execution_count": 18,
   "id": "7022608b",
   "metadata": {},
   "outputs": [],
   "source": [
    "#7. How does bacon.append(99) change the look of the list value in bacon?\n",
    "bacon.append(99)"
   ]
  },
  {
   "cell_type": "code",
   "execution_count": 19,
   "id": "f756c923",
   "metadata": {},
   "outputs": [
    {
     "data": {
      "text/plain": [
       "[3.14, 'cat', 11, 'cat', True, 99]"
      ]
     },
     "execution_count": 19,
     "metadata": {},
     "output_type": "execute_result"
    }
   ],
   "source": [
    "bacon"
   ]
  },
  {
   "cell_type": "code",
   "execution_count": 20,
   "id": "09eefe45",
   "metadata": {},
   "outputs": [],
   "source": [
    "#Answr: it add the value 99 as the end of the list as shown above. "
   ]
  },
  {
   "cell_type": "code",
   "execution_count": 21,
   "id": "852ebe2a",
   "metadata": {},
   "outputs": [],
   "source": [
    "#8. How does bacon.remove('cat') change the look of the list in bacon?\n",
    "\n",
    "bacon.remove('cat')"
   ]
  },
  {
   "cell_type": "code",
   "execution_count": 22,
   "id": "69c40ac8",
   "metadata": {},
   "outputs": [
    {
     "data": {
      "text/plain": [
       "[3.14, 11, 'cat', True, 99]"
      ]
     },
     "execution_count": 22,
     "metadata": {},
     "output_type": "execute_result"
    }
   ],
   "source": [
    "bacon"
   ]
  },
  {
   "cell_type": "code",
   "execution_count": 23,
   "id": "90982a86",
   "metadata": {},
   "outputs": [],
   "source": [
    "#Ansswer: it remove the value of first cat value from the list as shown above. "
   ]
  },
  {
   "cell_type": "code",
   "execution_count": 24,
   "id": "1cb45f89",
   "metadata": {},
   "outputs": [],
   "source": [
    "#9. What are the list concatenation and list replication operators?\n",
    "\n",
    "#The operator for list concatenation is +, while the operator for replication is *."
   ]
  },
  {
   "cell_type": "code",
   "execution_count": 26,
   "id": "13d8e1c9",
   "metadata": {},
   "outputs": [],
   "source": [
    "#10. What is difference between the list methods append() and insert()?\n",
    "#Answer: append at the value in the list basically at the end of the list where insert add the value at the specified index. "
   ]
  },
  {
   "cell_type": "code",
   "execution_count": 27,
   "id": "99210a2b",
   "metadata": {},
   "outputs": [],
   "source": [
    "#11. What are the two methods for removing items from a list?\n",
    "#Answer: The methods are remove(), pop() and clear(). It helps to remove the very first given element matching from the list. The pop() method removes an element from the list based on the index given. The clear() method will remove all the elements present in the lis"
   ]
  },
  {
   "cell_type": "code",
   "execution_count": 29,
   "id": "6bdd792f",
   "metadata": {},
   "outputs": [],
   "source": [
    "# 12. Describe how list values and string values are identical.\n",
    "#Answer:  Lists are mutable but Strings are immutable.same applied to their values, list values is mutable and can be changed and replace where string values is not mutable. \n"
   ]
  },
  {
   "cell_type": "code",
   "execution_count": 30,
   "id": "b75c9cff",
   "metadata": {},
   "outputs": [],
   "source": [
    "# 13. What's the difference between tuples and lists?\n",
    "#Answer: The key difference between the tuples and lists is that while the tuples are immutable objects the lists are mutable. This means that tuples cannot be changed while the lists can be modified. Tuples are more memory efficient than the lists"
   ]
  },
  {
   "cell_type": "code",
   "execution_count": 31,
   "id": "4f760533",
   "metadata": {},
   "outputs": [],
   "source": [
    "# 14. How do you type a tuple value that only contains the integer 42?\n",
    "# Answer:  (42,) (The trailing comma is mandatory.)\n"
   ]
  },
  {
   "cell_type": "code",
   "execution_count": 32,
   "id": "24f96a81",
   "metadata": {},
   "outputs": [],
   "source": [
    "# 15. How do you get a list value's tuple form? How do you get a tuple value's list form?\n",
    "\n",
    "#Answer:Use a for-loop to iterate though a list of tuples. Within the for-loop, use the indexing syntax tuple[0] to access the first element of each tuple , and call list. append(object) with object as the tuple's first element to append each first element to list ."
   ]
  },
  {
   "cell_type": "code",
   "execution_count": 33,
   "id": "43690df3",
   "metadata": {},
   "outputs": [],
   "source": [
    "#use the list comprehension statement [tuple(x) for x in list] to convert each element in your list to a tuple"
   ]
  },
  {
   "cell_type": "code",
   "execution_count": null,
   "id": "3237a1a5",
   "metadata": {},
   "outputs": [],
   "source": [
    "# 16. Variables that \"contain\" list values are not necessarily lists themselves. Instead, what do they contain?\n",
    "\n",
    "#Answer: Variables will contain references to list values rather than list values themselves."
   ]
  },
  {
   "cell_type": "code",
   "execution_count": null,
   "id": "686e7748",
   "metadata": {},
   "outputs": [],
   "source": [
    "# 17. How do you distinguish between copy.copy() and copy.deepcopy()?\n",
    "# Answer: copy() create reference to original object. If you change copied object - you change the original object. . deepcopy() creates new object and does real copying of original object to new one. Changing new deepcopied object doesn't affect original object."
   ]
  }
 ],
 "metadata": {
  "kernelspec": {
   "display_name": "Python 3 (ipykernel)",
   "language": "python",
   "name": "python3"
  },
  "language_info": {
   "codemirror_mode": {
    "name": "ipython",
    "version": 3
   },
   "file_extension": ".py",
   "mimetype": "text/x-python",
   "name": "python",
   "nbconvert_exporter": "python",
   "pygments_lexer": "ipython3",
   "version": "3.9.7"
  }
 },
 "nbformat": 4,
 "nbformat_minor": 5
}
