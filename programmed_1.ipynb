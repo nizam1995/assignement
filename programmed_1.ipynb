{
 "cells": [
  {
   "cell_type": "markdown",
   "id": "aa9ab342",
   "metadata": {},
   "source": [
    "1. Write a Python program to print Hello Python;?\n",
    "2. Write a Python program to do arithmetical operations addition and division.?\n",
    "3. Write a Python program to find the area of a triangle?\n",
    "4. Write a Python program to swap two variables?\n",
    "5. Write a Python program to generate a random number?"
   ]
  },
  {
   "cell_type": "code",
   "execution_count": 2,
   "id": "a98600a7",
   "metadata": {},
   "outputs": [
    {
     "name": "stdout",
     "output_type": "stream",
     "text": [
      "Hello Python\n"
     ]
    }
   ],
   "source": [
    "#1. Write a Python program to print Hello Python;?\n",
    "\n",
    "a= \"Hello Python\"\n",
    "print(a)"
   ]
  },
  {
   "cell_type": "code",
   "execution_count": 6,
   "id": "ed167283",
   "metadata": {},
   "outputs": [
    {
     "name": "stdout",
     "output_type": "stream",
     "text": [
      "Please enter the first number: 10\n",
      "Please enter the second numebr: 4\n",
      "Addition :  14\n",
      "Division   : 2.5\n"
     ]
    }
   ],
   "source": [
    "# 2. Write a Python program to do arithmetical operations addition and division.?\n",
    "\n",
    "a=int(input( \"Please enter the first number: \"))\n",
    "\n",
    "b=int(input(\"Please enter the second numebr: \"))\n",
    "\n",
    "add= a+b\n",
    "div=a/b\n",
    "print(\"Addition\" ,\": \" , add)\n",
    "print(\"Division \", \" :\", div)"
   ]
  },
  {
   "cell_type": "code",
   "execution_count": 9,
   "id": "e0a095c2",
   "metadata": {},
   "outputs": [
    {
     "name": "stdout",
     "output_type": "stream",
     "text": [
      "Please enter   length  of base in a triangle10\n",
      "Please enter   length  of hight in a triangle2\n",
      "Area of a trinagle is  :  10.0\n"
     ]
    }
   ],
   "source": [
    "#3. Write a Python program to find the area of a triangle?\n",
    "\n",
    "b=int(input( \"Please enter   length  of base in a triangle\"))\n",
    "h= int(input( \"Please enter   length  of hight in a triangle\"))\n",
    "\n",
    "bh= (b*h)\n",
    "area=bh/2\n",
    "print(\"Area of a trinagle is \",  \": \", area)"
   ]
  },
  {
   "cell_type": "code",
   "execution_count": 10,
   "id": "65210514",
   "metadata": {},
   "outputs": [
    {
     "name": "stdout",
     "output_type": "stream",
     "text": [
      "2\n",
      "4\n"
     ]
    }
   ],
   "source": [
    "#4. Write a Python program to swap two variables?\n",
    "\n",
    "a=1\n",
    "b=2\n",
    "a=2\n",
    "b=a+b\n",
    "print(a)\n",
    "print(b)"
   ]
  },
  {
   "cell_type": "code",
   "execution_count": null,
   "id": "d6a82a8b",
   "metadata": {},
   "outputs": [],
   "source": [
    "#5. Write a Python program to generate a random number?"
   ]
  },
  {
   "cell_type": "code",
   "execution_count": 18,
   "id": "585750e3",
   "metadata": {},
   "outputs": [
    {
     "name": "stdout",
     "output_type": "stream",
     "text": [
      "0.8487046632255518\n"
     ]
    }
   ],
   "source": [
    "import random \n",
    "n = random. random()\n",
    "print(n)"
   ]
  },
  {
   "cell_type": "code",
   "execution_count": null,
   "id": "e4288fcc",
   "metadata": {},
   "outputs": [],
   "source": []
  },
  {
   "cell_type": "code",
   "execution_count": null,
   "id": "a4845319",
   "metadata": {},
   "outputs": [],
   "source": []
  }
 ],
 "metadata": {
  "kernelspec": {
   "display_name": "Python 3 (ipykernel)",
   "language": "python",
   "name": "python3"
  },
  "language_info": {
   "codemirror_mode": {
    "name": "ipython",
    "version": 3
   },
   "file_extension": ".py",
   "mimetype": "text/x-python",
   "name": "python",
   "nbconvert_exporter": "python",
   "pygments_lexer": "ipython3",
   "version": "3.9.7"
  }
 },
 "nbformat": 4,
 "nbformat_minor": 5
}
