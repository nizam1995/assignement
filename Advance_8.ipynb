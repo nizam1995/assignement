{
 "cells": [
  {
   "cell_type": "markdown",
   "id": "6ebb7135",
   "metadata": {},
   "source": [
    "Q1. What are the two latest user-defined exception constraints in Python 3.X?\n",
    "\n",
    "Q2. How are class-based exceptions that have been raised matched to handlers?\n",
    "\n",
    "Q3. Describe two methods for attaching context information to exception artefacts.\n",
    "\n",
    "Q4. Describe two methods for specifying the text of an exception object&#39;s error message.\n",
    "\n",
    "Q5. Why do you no longer use string-based exceptions?"
   ]
  },
  {
   "cell_type": "code",
   "execution_count": null,
   "id": "435ad042",
   "metadata": {},
   "outputs": [],
   "source": [
    "#Q1. What are the two latest user-defined exception constraints in Python 3.X?"
   ]
  },
  {
   "cell_type": "markdown",
   "id": "5b61b47a",
   "metadata": {},
   "source": [
    " Two latest user-defined exception constraints in Python 3.X?\n",
    "\n",
    "\n",
    "TabError\tRaised when indentation consists of inconsistent tabs and spaces.\n",
    "SystemError\tRaised when interpreter detects internal error.\n"
   ]
  },
  {
   "cell_type": "code",
   "execution_count": null,
   "id": "aad00c61",
   "metadata": {},
   "outputs": [],
   "source": [
    "# Q2. How are class-based exceptions that have been raised matched to handlers?"
   ]
  },
  {
   "cell_type": "code",
   "execution_count": 4,
   "id": "cd3e13d4",
   "metadata": {},
   "outputs": [
    {
     "name": "stdout",
     "output_type": "stream",
     "text": [
      "10\n",
      "0\n",
      " Denominator can not be zero \n"
     ]
    }
   ],
   "source": [
    "a= int (input())\n",
    "b= int (input())\n",
    "\n",
    "try:\n",
    "        if b==0:\n",
    "            raise ZeroDivisionError (\" Denominator can not be zero \")\n",
    "        c=a/b\n",
    "        print(c)\n",
    "except ZeroDivisionError as e:\n",
    "    print(e)"
   ]
  },
  {
   "cell_type": "code",
   "execution_count": null,
   "id": "9c8be5d2",
   "metadata": {},
   "outputs": [],
   "source": [
    "# it called the  base class to execute the exception. "
   ]
  },
  {
   "cell_type": "code",
   "execution_count": null,
   "id": "d3034a41",
   "metadata": {},
   "outputs": [],
   "source": [
    "#Q3. Describe two methods for attaching context information to exception artefacts."
   ]
  },
  {
   "cell_type": "markdown",
   "id": "a02af95b",
   "metadata": {},
   "source": [
    "1. First method is rais  where you can atteched your csutomer message.\n",
    "2. in the except block you can use your own statment to print the error. \n"
   ]
  },
  {
   "cell_type": "code",
   "execution_count": 6,
   "id": "12375484",
   "metadata": {},
   "outputs": [],
   "source": [
    "#Q4. Describe two methods for specifying the text of an exception object&#39;s error message."
   ]
  },
  {
   "cell_type": "markdown",
   "id": "72dcf23a",
   "metadata": {},
   "source": [
    "1. ZeroDivisionError occurs when a number is divided by a zero. In Mathematics, when a number is divided by a zero, the result is an infinite number.\n",
    "\n",
    "2. ValueError in Python is raised when a user gives an invalid value to a function but is of a valid argument. It usually occurs in mathematical operations that will require a certain kind of value, even when the value is the correct argument."
   ]
  },
  {
   "cell_type": "code",
   "execution_count": null,
   "id": "5fcea93d",
   "metadata": {},
   "outputs": [],
   "source": [
    "\n",
    "Q5. Why do you no longer use string-based exceptions?"
   ]
  },
  {
   "cell_type": "code",
   "execution_count": null,
   "id": "f4779a45",
   "metadata": {},
   "outputs": [],
   "source": [
    "# In string based exception , progammer has to defined the onw error message by inherting the type of error class.  it require more effort and it lead to less efficincy of the programmer. "
   ]
  },
  {
   "cell_type": "code",
   "execution_count": null,
   "id": "a33cdceb",
   "metadata": {},
   "outputs": [],
   "source": []
  },
  {
   "cell_type": "code",
   "execution_count": null,
   "id": "52d491d5",
   "metadata": {},
   "outputs": [],
   "source": []
  },
  {
   "cell_type": "code",
   "execution_count": null,
   "id": "8730cd99",
   "metadata": {},
   "outputs": [],
   "source": []
  },
  {
   "cell_type": "code",
   "execution_count": null,
   "id": "5fe7972d",
   "metadata": {},
   "outputs": [],
   "source": []
  },
  {
   "cell_type": "code",
   "execution_count": null,
   "id": "2597585e",
   "metadata": {},
   "outputs": [],
   "source": []
  },
  {
   "cell_type": "code",
   "execution_count": null,
   "id": "627056b5",
   "metadata": {},
   "outputs": [],
   "source": []
  },
  {
   "cell_type": "code",
   "execution_count": null,
   "id": "ee770c68",
   "metadata": {},
   "outputs": [],
   "source": []
  },
  {
   "cell_type": "code",
   "execution_count": null,
   "id": "1c1f810a",
   "metadata": {},
   "outputs": [],
   "source": []
  }
 ],
 "metadata": {
  "kernelspec": {
   "display_name": "Python 3 (ipykernel)",
   "language": "python",
   "name": "python3"
  },
  "language_info": {
   "codemirror_mode": {
    "name": "ipython",
    "version": 3
   },
   "file_extension": ".py",
   "mimetype": "text/x-python",
   "name": "python",
   "nbconvert_exporter": "python",
   "pygments_lexer": "ipython3",
   "version": "3.9.7"
  }
 },
 "nbformat": 4,
 "nbformat_minor": 5
}
