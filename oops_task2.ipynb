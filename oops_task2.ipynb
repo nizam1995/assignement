{
 "cells": [
  {
   "cell_type": "markdown",
   "id": "fc3dd219",
   "metadata": {},
   "source": [
    "# create 10 example of  each topic\n",
    "\n",
    "\n",
    "class\n",
    "constructor\n",
    "inheritance\n",
    "private\n",
    "public\n",
    "protected\n",
    "abstraction \n",
    "encapsulation \n",
    "polymorpism\n",
    "package\n",
    "modules\n",
    "method overridding\n",
    "\n"
   ]
  },
  {
   "cell_type": "markdown",
   "id": "1adeda98",
   "metadata": {},
   "source": [
    "# class and constructor"
   ]
  },
  {
   "cell_type": "code",
   "execution_count": 26,
   "id": "0d6c00cd",
   "metadata": {},
   "outputs": [],
   "source": [
    "import logging\n",
    "logging.basicConfig(filename='oops_log', level=logging.DEBUG, format ='%(levelname)s %(asctime)s %(message)s')\n",
    "\n",
    "\n",
    "class laptop:\n",
    "    logging.info(\"we are in laptop class  . \")\n",
    "\n",
    "    def __init__(self, brand_name, ram, processor, storage):\n",
    "        \"\"\" This function takes 4 arguments of laptop sepcification \"\"\"\n",
    "        logging.info(\"we are in init function. \")\n",
    "        \n",
    "        self.brand_name = brand_name\n",
    "        self.ram = ram\n",
    "        self.processor = processor\n",
    "        self.storage = storage\n",
    "        \n",
    "        \n",
    "    def good_laptop(self):\n",
    "        \"\"\"  this function check , if the laptop is good or average based on the specifiaction\"\"\"\n",
    "        logging.info(\"we are in good_laptop function \")\n",
    "        \n",
    "        try: \n",
    "            if self.ram>4  and self.processor>'i3':\n",
    "                logging.info(\"laptop is good\")\n",
    "                return \"laptop is good\"\n",
    "\n",
    "            else:\n",
    "                logging.info( \"laptop is average\")\n",
    "                return \"laptop is average\"\n",
    "            \n",
    "        except Exception as e:\n",
    "            logging.exception (e)\n",
    "            print(e)"
   ]
  },
  {
   "cell_type": "markdown",
   "id": "17f6d682",
   "metadata": {},
   "source": []
  },
  {
   "cell_type": "code",
   "execution_count": 27,
   "id": "79195888",
   "metadata": {},
   "outputs": [],
   "source": [
    "com= laptop('hp', 8,'i4', '1tb')"
   ]
  },
  {
   "cell_type": "code",
   "execution_count": 28,
   "id": "8727a208",
   "metadata": {},
   "outputs": [
    {
     "data": {
      "text/plain": [
       "'laptop is good'"
      ]
     },
     "execution_count": 28,
     "metadata": {},
     "output_type": "execute_result"
    }
   ],
   "source": [
    "com.good_laptop()"
   ]
  },
  {
   "cell_type": "code",
   "execution_count": 29,
   "id": "61e4faf2",
   "metadata": {},
   "outputs": [],
   "source": [
    "import logging\n",
    "logging.basicConfig(filename='oops_log', level=logging.DEBUG, format ='%(levelname)s %(asctime)s %(message)s')\n",
    "\n",
    "\n",
    "class mobile:\n",
    "    logging.info(\"we are in mobile class. \")\n",
    "\n",
    "    def __init__(self, brand_name, ram, processor, storage):\n",
    "        \"\"\" This function takes 4 arguments of laptop sepcification  \"\"\"\n",
    "        logging.info(\"we are in init function. \")\n",
    "        \n",
    "        self.brand_name = brand_name\n",
    "        self.ram = ram\n",
    "        self.processor = processor\n",
    "        self.storage = storage\n",
    "        \n",
    "        \n",
    "    def good_mobile(self):\n",
    "        logging.info(\"we are in good_mobile function \")\n",
    "        \n",
    "        try: \n",
    "            if self.ram>4  and self.processor=='snapdragon' or self.processor=='A14' :\n",
    "                logging.info(\"good_mobile is good\")\n",
    "                return \"mobile is good\"\n",
    "\n",
    "            else:\n",
    "                logging.info( \"mobile is average\")\n",
    "                return \"mobile is average\"\n",
    "            \n",
    "        except Exception as e:\n",
    "            logging.exception (e)\n",
    "            print(e)"
   ]
  },
  {
   "cell_type": "code",
   "execution_count": 30,
   "id": "626f0500",
   "metadata": {},
   "outputs": [],
   "source": [
    "smart_phone= mobile('iphone', 8, 'A14', '250gb')"
   ]
  },
  {
   "cell_type": "code",
   "execution_count": 31,
   "id": "1ae72b12",
   "metadata": {},
   "outputs": [
    {
     "data": {
      "text/plain": [
       "'mobile is good'"
      ]
     },
     "execution_count": 31,
     "metadata": {},
     "output_type": "execute_result"
    }
   ],
   "source": [
    "smart_phone.good_mobile()"
   ]
  },
  {
   "cell_type": "code",
   "execution_count": 32,
   "id": "df46d46f",
   "metadata": {},
   "outputs": [],
   "source": [
    "import logging\n",
    "logging.basicConfig(filename='oops_log', level=logging.DEBUG, format ='%(levelname)s %(asctime)s %(message)s')\n",
    "\n",
    "\n",
    "\n",
    "class inuron:\n",
    "    logging.info(\"we are in inuron class. \")\n",
    "    def __init__ (self, a , b,c):\n",
    "        \"\"\" this function takes 3 arguments \"\"\"\n",
    "        logging.info(\"we are in init function. \")\n",
    "        self.a = a\n",
    "        self.b = b\n",
    "        self.c = c\n",
    "\n",
    "    \n",
    "    def high_demand_course(self):\n",
    "        \"\"\" this function check, if the user has enter the high demand course\"\"\"\n",
    "        logging.info(\"we are in init function. \")\n",
    "        \n",
    "        try: \n",
    "            if self.a=='data_scince' or self.b== 'data_scince' or self.c== 'data_scince':\n",
    "                logging.info(\" you have eneterd the high demand course\")\n",
    "                return \" you have eneterd the high demand course\"\n",
    "\n",
    "        except Exception as e:\n",
    "            logging.exception (e)\n",
    "            print(e)\n",
    "\n",
    "    "
   ]
  },
  {
   "cell_type": "code",
   "execution_count": 33,
   "id": "324124cd",
   "metadata": {},
   "outputs": [],
   "source": [
    "student= inuron('data_analyst', 'data_scince', 'sql_community' )"
   ]
  },
  {
   "cell_type": "code",
   "execution_count": 34,
   "id": "830fbafe",
   "metadata": {},
   "outputs": [
    {
     "data": {
      "text/plain": [
       "' you have eneterd the high demand course'"
      ]
     },
     "execution_count": 34,
     "metadata": {},
     "output_type": "execute_result"
    }
   ],
   "source": [
    "student.high_demand_course()\n"
   ]
  },
  {
   "cell_type": "code",
   "execution_count": 35,
   "id": "d691d8b9",
   "metadata": {},
   "outputs": [],
   "source": [
    "import logging\n",
    "logging.basicConfig(filename='oops_log', level=logging.DEBUG, format ='%(levelname)s %(asctime)s %(message)s')\n",
    "\n",
    "\n",
    "\n",
    "class home:\n",
    "    logging.info(\"we are in home class. \")\n",
    "    def __init__ (self, area , region ,price):\n",
    "        \"\"\" this function takes 3 arguments of the property \"\"\"\n",
    "        logging.info(\"we are in init function. \")\n",
    "        self.area = area\n",
    "        self.region = region\n",
    "        self.price = price\n",
    "\n",
    "    \n",
    "    def budget_home(self):\n",
    "        \"\"\" this function check , if the user has affordable home\"\"\"\n",
    "        \n",
    "        try: \n",
    "            if self.area> '100sqt' and self.region== 'delhi' and self.price> '21lac':\n",
    "                logging.info(\"congratulation!!   you have budget home\")\n",
    "                return \"congratulation!!   you have budget home\"\n",
    "            \n",
    "            else:\n",
    "                logging.info(\"keep searching for budget home\")\n",
    "                return \"keep searching for budget home\"\n",
    "        except Exception as e:\n",
    "            logging.exception (e)\n",
    "            print(e)\n",
    "\n",
    "    "
   ]
  },
  {
   "cell_type": "code",
   "execution_count": 36,
   "id": "ff2fbd3c",
   "metadata": {},
   "outputs": [],
   "source": [
    "purchase_house= home('90sqt', 'delhi','12lac' )"
   ]
  },
  {
   "cell_type": "code",
   "execution_count": 37,
   "id": "0fab4b80",
   "metadata": {},
   "outputs": [
    {
     "data": {
      "text/plain": [
       "'keep searching for budget home'"
      ]
     },
     "execution_count": 37,
     "metadata": {},
     "output_type": "execute_result"
    }
   ],
   "source": [
    "purchase_house.budget_home()"
   ]
  },
  {
   "cell_type": "code",
   "execution_count": 38,
   "id": "88333f02",
   "metadata": {},
   "outputs": [],
   "source": [
    "import logging\n",
    "logging.basicConfig(filename='oops_log', level=logging.DEBUG, format ='%(levelname)s %(asctime)s %(message)s')\n",
    "\n",
    "\n",
    "\n",
    "class reviosn_class:\n",
    "    logging.info(\"we are in reviosn_class. \")\n",
    "    def __init__ (self,course,  agree , disagree ):\n",
    "        \"\"\" this function takes 2 argumnets \"\"\"\n",
    "        logging.info(\"we are in init function. \")\n",
    "        self.course = course\n",
    "        self.agree = agree\n",
    "        self.disagree = disagree\n",
    "        \n",
    "\n",
    "    \n",
    "    def confirmation(self):\n",
    "        \"\"\" this function check wether revision class should conduct or not\"\"\"\n",
    "        try: \n",
    "            if self.agree> self.disagree :\n",
    "        \n",
    "                logging.info(\"congratulation!!   class will be conducted\")\n",
    "                return \"congratulation!!  class will be conducted\"\n",
    "            \n",
    "            else:\n",
    "                logging.info(\"class will not be conducted\")\n",
    "                return \"class will not be conducted\"\n",
    "        except Exception as e:\n",
    "            logging.exception (e)\n",
    "            print(e)\n",
    "\n",
    "    "
   ]
  },
  {
   "cell_type": "code",
   "execution_count": 39,
   "id": "c40b53ff",
   "metadata": {},
   "outputs": [],
   "source": [
    "fsds_batch = reviosn_class('data_science', 100, 99 )"
   ]
  },
  {
   "cell_type": "code",
   "execution_count": 40,
   "id": "cb9c7693",
   "metadata": {},
   "outputs": [
    {
     "data": {
      "text/plain": [
       "'congratulation!!  class will be conducted'"
      ]
     },
     "execution_count": 40,
     "metadata": {},
     "output_type": "execute_result"
    }
   ],
   "source": [
    "fsds_batch.confirmation()"
   ]
  },
  {
   "cell_type": "markdown",
   "id": "e4ba6356",
   "metadata": {},
   "source": [
    "# inheritance"
   ]
  },
  {
   "cell_type": "code",
   "execution_count": 41,
   "id": "48c3cb56",
   "metadata": {},
   "outputs": [],
   "source": [
    "import logging\n",
    "logging.basicConfig(filename='oops_log', level=logging.DEBUG, format ='%(levelname)s %(asctime)s %(message)s')\n",
    "\n",
    "\n",
    "class cloth:\n",
    "    logging.info(\" you are in cloth class\")\n",
    "    try: \n",
    "        def summer_cloth(self):\n",
    "            \"\"\" this function  is used for summer_cloth\"\"\"\n",
    "            \n",
    "            logging.info(\" you have puerchased summer_cloth\")\n",
    "            print(\" you have puerchased summer_cloth \")\n",
    "\n",
    "        def winter_cloth(self):\n",
    "            \"\"\" this function  is used for summer_cloth \"\"\"\n",
    "            logging.info(\" you have puerchased winter_cloth\")\n",
    "            print(\" you have puerchased winter_cloth \")\n",
    "            \n",
    "    except Exception as e:\n",
    "            logging.exception (e)\n",
    "            print(e)\n",
    "\n",
    "class child(cloth):\n",
    "    logging.info(\" you are in child class\")\n",
    "    try: \n",
    "        def part_wear(self):\n",
    "            logging.info(\" you have puerchased part_wear\")\n",
    "            print(\" you have puerchased part_wear \")\n",
    "            \n",
    "    except Exception as e:\n",
    "            logging.exception (e)\n",
    "            print(e)\n",
    "    "
   ]
  },
  {
   "cell_type": "code",
   "execution_count": 42,
   "id": "3b889e45",
   "metadata": {},
   "outputs": [],
   "source": [
    "purchase_cloth= child()"
   ]
  },
  {
   "cell_type": "code",
   "execution_count": 43,
   "id": "6451ad26",
   "metadata": {},
   "outputs": [
    {
     "name": "stdout",
     "output_type": "stream",
     "text": [
      " you have puerchased summer_cloth \n"
     ]
    }
   ],
   "source": [
    "purchase_cloth.summer_cloth()"
   ]
  },
  {
   "cell_type": "code",
   "execution_count": 44,
   "id": "31c1509a",
   "metadata": {},
   "outputs": [],
   "source": [
    "import logging\n",
    "logging.basicConfig(filename='oops_log', level=logging.DEBUG, format ='%(levelname)s %(asctime)s %(message)s')\n",
    "\n",
    "class ineuron1:\n",
    "    logging.info(\" you are in ineuron1 class \")\n",
    "    \n",
    "    try: \n",
    "        def data_science(self):\n",
    "            \"\"\"this function  is used for data_science \"\"\"\n",
    "            logging.info(\" you have enroll for data_science course\")\n",
    "            print(\" you have enroll for data_science course\")\n",
    "\n",
    "        def big_data(self):\n",
    "            \"\"\"this function  is used for big_data \"\"\"\n",
    "            logging.info(\" you have enroll for big_data course\")\n",
    "            print(\" you have enroll for big_data course\")\n",
    "            \n",
    "    except Exception as e:\n",
    "            logging.exception (e)\n",
    "            print(e)\n",
    "\n",
    "class Raise(ineuron1):\n",
    "    logging.info(\" you are in Raise class \")\n",
    "    try: \n",
    "        def raise_demand(self,a):\n",
    "            \"\"\" this function can be use to raise the demand \"\"\"\n",
    "            logging.info(\" you have raise_demand for the course %s\", a)\n",
    "            print(\" you have raise_demand for the course: \", a)\n",
    "                \n",
    "    except Exception as e:\n",
    "            logging.exception (e)\n",
    "            print(e)\n",
    "                \n",
    "\n",
    "        "
   ]
  },
  {
   "cell_type": "code",
   "execution_count": 45,
   "id": "a7bca909",
   "metadata": {},
   "outputs": [],
   "source": [
    "course=Raise()"
   ]
  },
  {
   "cell_type": "code",
   "execution_count": 46,
   "id": "ffa72f5e",
   "metadata": {},
   "outputs": [
    {
     "name": "stdout",
     "output_type": "stream",
     "text": [
      " you have raise_demand for the course:  blockchain\n"
     ]
    }
   ],
   "source": [
    "course.raise_demand('blockchain')"
   ]
  },
  {
   "cell_type": "code",
   "execution_count": 47,
   "id": "1c716e51",
   "metadata": {},
   "outputs": [
    {
     "name": "stdout",
     "output_type": "stream",
     "text": [
      " you have enroll for data_science course\n"
     ]
    }
   ],
   "source": [
    "course.data_science()"
   ]
  },
  {
   "cell_type": "code",
   "execution_count": 56,
   "id": "e03da52c",
   "metadata": {},
   "outputs": [],
   "source": [
    "import logging\n",
    "logging.basicConfig(filename='oops_log', level=logging.DEBUG, format ='%(levelname)s %(asctime)s %(message)s')\n",
    "\n",
    "class commute_option:\n",
    "    logging.info(\" you are in commute_option class \")\n",
    "    \n",
    "    try:\n",
    "        def first_class(self):\n",
    "            \"\"\" this function is used for first_class \"\"\"\n",
    "            \n",
    "            logging.info(\" you are traveling in first_class\")\n",
    "            print(\"you are traveling in first_class\")\n",
    "            \n",
    "        def second_class(self):\n",
    "            \"\"\" this function is used for second_class  \"\"\"\n",
    "            \n",
    "            logging.info(\" you are traveling in second_class\")\n",
    "            print(\"you are traveling in second_class\")\n",
    "            \n",
    "    except Exception as e:\n",
    "            logging.exception (e)\n",
    "            print(e)\n",
    "                \n",
    "class super_class(commute_option):\n",
    "    logging.info(\" you are in super_class  \")\n",
    "    try:\n",
    "        def not_travelling(self):\n",
    "             \"\"\" this function is used for not_travelling \"\"\"\n",
    "             logging.info(\" you have choose , not to travell at the moment\")\n",
    "             print(\" you have choose , not to travell at the moment\")\n",
    "            \n",
    "    except Exception as e:\n",
    "        logging.exception (e)\n",
    "        print(e)\n",
    "            \n",
    "\n",
    "        \n",
    "\n",
    "    "
   ]
  },
  {
   "cell_type": "code",
   "execution_count": 57,
   "id": "f5195290",
   "metadata": {},
   "outputs": [],
   "source": [
    "travel_option= super_class()"
   ]
  },
  {
   "cell_type": "code",
   "execution_count": 60,
   "id": "90c8fbdb",
   "metadata": {},
   "outputs": [
    {
     "name": "stdout",
     "output_type": "stream",
     "text": [
      " you have choose , not to travell at the moment\n"
     ]
    }
   ],
   "source": [
    "travel_option.not_travelling()"
   ]
  },
  {
   "cell_type": "code",
   "execution_count": 61,
   "id": "ed906b31",
   "metadata": {},
   "outputs": [
    {
     "name": "stdout",
     "output_type": "stream",
     "text": [
      "you are traveling in first_class\n"
     ]
    }
   ],
   "source": [
    "travel_option.first_class()"
   ]
  },
  {
   "cell_type": "code",
   "execution_count": 62,
   "id": "103458bf",
   "metadata": {},
   "outputs": [],
   "source": [
    "import logging\n",
    "logging.basicConfig(filename='oops_log', level=logging.DEBUG, format ='%(levelname)s %(asctime)s %(message)s')\n",
    "\n",
    "class merge:\n",
    "    logging.info(\" you are in merge class \")\n",
    "    try:\n",
    "        def Sum(self):\n",
    "            \"\"\" this is the function of merge class \"\"\"\n",
    "            a=10\n",
    "            b=10\n",
    "            c= a+b\n",
    "            logging.info(\"  This class has the value of a, b, c is %s, %s, %s\", a, b, c)\n",
    "            print(\"  This class has the value of a, b, c is \", a, b, c)\n",
    "            \n",
    "    except Exception as e:\n",
    "        logging.exception (e)\n",
    "        print(e)\n",
    "            \n",
    "\n",
    "class multiple_inheritance(merge,cloth, commute_option ):\n",
    "     logging.info(\" you are in multiple_inheritance class \")\n",
    "     try:\n",
    "            def choose(self):\n",
    "                \"\"\" this is the function of multiple_inheritance class \"\"\"\n",
    "                \n",
    "                logging.info(\"this class allows to access other class function. \")\n",
    "                print(\"this class allows to access other class function. \")\n",
    "     except Exception as e:\n",
    "            logging.exception (e)\n",
    "            print(e)\n",
    "            \n",
    "    \n",
    "    "
   ]
  },
  {
   "cell_type": "code",
   "execution_count": 63,
   "id": "f327510b",
   "metadata": {},
   "outputs": [],
   "source": [
    "nizam= multiple_inheritance()"
   ]
  },
  {
   "cell_type": "code",
   "execution_count": 64,
   "id": "b74ea85a",
   "metadata": {},
   "outputs": [
    {
     "name": "stdout",
     "output_type": "stream",
     "text": [
      "this class allows to access other class function. \n"
     ]
    }
   ],
   "source": [
    "nizam.choose()"
   ]
  },
  {
   "cell_type": "code",
   "execution_count": 65,
   "id": "18450782",
   "metadata": {},
   "outputs": [
    {
     "name": "stdout",
     "output_type": "stream",
     "text": [
      "you are traveling in second_class\n"
     ]
    }
   ],
   "source": [
    "nizam.second_class()"
   ]
  },
  {
   "cell_type": "markdown",
   "id": "40eac386",
   "metadata": {},
   "source": [
    "# Private, Public, Protected\n",
    "\n"
   ]
  },
  {
   "cell_type": "code",
   "execution_count": 66,
   "id": "86bafc45",
   "metadata": {},
   "outputs": [],
   "source": [
    "import logging\n",
    "logging.basicConfig(filename='oops_log', level=logging.DEBUG, format ='%(levelname)s %(asctime)s %(message)s')\n",
    "\n",
    "\n",
    "class laptop:\n",
    "    logging.info(\" you are in laptop class \")\n",
    "    def __init__(self, brand_name, ram, processor, storage):\n",
    "        \"\"\" This function takes 4 arguments of laptop sepcification \"\"\"\n",
    "        \n",
    "        logging.info(\"we are in init function. \")\n",
    "        \n",
    "        self._brand_name = brand_name # Protected \n",
    "        self.ram = ram # public\n",
    "        self.__processor = processor # private\n",
    "        self.storage = storage\n",
    "        \n",
    "        \n",
    "    def good_laptop(self):\n",
    "        \"\"\" this function check for the  good_laptop   \"\"\"\n",
    "        logging.info(\"we are in good_laptop function \")\n",
    "        \n",
    "        try: \n",
    "            if self.ram>4  and self._laptop__processor>'i3': # accessing the private variable in another class\n",
    "                logging.info(\"laptop is good\")\n",
    "                return \"laptop is good\"\n",
    "\n",
    "            else:\n",
    "                logging.info( \"laptop is average\")\n",
    "                return \"laptop is average\"\n",
    "            \n",
    "        except Exception as e:\n",
    "            logging.exception (e)\n",
    "            print(e)"
   ]
  },
  {
   "cell_type": "code",
   "execution_count": 67,
   "id": "eeb23bde",
   "metadata": {},
   "outputs": [],
   "source": [
    "happy= laptop('dell', 8, 'i7', '1TB')"
   ]
  },
  {
   "cell_type": "code",
   "execution_count": 68,
   "id": "11f0ce47",
   "metadata": {},
   "outputs": [
    {
     "data": {
      "text/plain": [
       "'dell'"
      ]
     },
     "execution_count": 68,
     "metadata": {},
     "output_type": "execute_result"
    }
   ],
   "source": [
    "happy._brand_name # accessing the protected variable of the class"
   ]
  },
  {
   "cell_type": "code",
   "execution_count": 69,
   "id": "a9f72bbc",
   "metadata": {},
   "outputs": [
    {
     "data": {
      "text/plain": [
       "'i7'"
      ]
     },
     "execution_count": 69,
     "metadata": {},
     "output_type": "execute_result"
    }
   ],
   "source": [
    "happy._laptop__processor # accessing the private variable"
   ]
  },
  {
   "cell_type": "code",
   "execution_count": 70,
   "id": "a2ffadb9",
   "metadata": {},
   "outputs": [],
   "source": [
    "happy._brand_name= \"hp\" #override the protecetd variable "
   ]
  },
  {
   "cell_type": "code",
   "execution_count": 71,
   "id": "a4c4467d",
   "metadata": {},
   "outputs": [
    {
     "data": {
      "text/plain": [
       "'hp'"
      ]
     },
     "execution_count": 71,
     "metadata": {},
     "output_type": "execute_result"
    }
   ],
   "source": [
    "happy._brand_name"
   ]
  },
  {
   "cell_type": "code",
   "execution_count": 72,
   "id": "1c96dc87",
   "metadata": {},
   "outputs": [],
   "source": [
    "happy._laptop__processor= 'i3'#override the private  variable "
   ]
  },
  {
   "cell_type": "code",
   "execution_count": 73,
   "id": "16308fe6",
   "metadata": {},
   "outputs": [
    {
     "data": {
      "text/plain": [
       "'i3'"
      ]
     },
     "execution_count": 73,
     "metadata": {},
     "output_type": "execute_result"
    }
   ],
   "source": [
    "happy._laptop__processor"
   ]
  },
  {
   "cell_type": "code",
   "execution_count": 74,
   "id": "4d79117a",
   "metadata": {},
   "outputs": [
    {
     "data": {
      "text/plain": [
       "'laptop is average'"
      ]
     },
     "execution_count": 74,
     "metadata": {},
     "output_type": "execute_result"
    }
   ],
   "source": [
    "happy.good_laptop()"
   ]
  },
  {
   "cell_type": "code",
   "execution_count": 85,
   "id": "b2dcafd7",
   "metadata": {},
   "outputs": [],
   "source": [
    "import logging\n",
    "logging.basicConfig(filename='oops_log', level=logging.DEBUG, format ='%(levelname)s %(asctime)s %(message)s')\n",
    "\n",
    "\n",
    "\n",
    "class inuron:\n",
    "    logging.info(\" you are in inuron class\")\n",
    "    def __init__ (self, a , b,c):\n",
    "     \n",
    "        \"\"\" this function   takes  3 arguments of \"\"\"\n",
    "        logging.info(\"we are in init function. \")\n",
    "        self.a = a\n",
    "        self._b = b # procted variable\n",
    "        self._c = c # procted variable\n",
    "\n",
    "    \n",
    "    def high_demand_course(self):\n",
    "        \"\"\" This function is used to check, if user has eneterd the high demand course \"\"\"\n",
    "        try: \n",
    "            if self.a=='data_scince' or self._b== 'data_scince' or self._c== 'data_scince':\n",
    "                logging.info(\" you have eneterd the high demand course\")\n",
    "                return \" you have eneterd the high demand course\"\n",
    "\n",
    "        except Exception as e:\n",
    "            logging.exception (e)\n",
    "            print(e)\n"
   ]
  },
  {
   "cell_type": "code",
   "execution_count": 86,
   "id": "a4da804d",
   "metadata": {},
   "outputs": [],
   "source": [
    "course= inuron('data_analyst', 'data_scince', 'sql_community' )"
   ]
  },
  {
   "cell_type": "code",
   "execution_count": 87,
   "id": "1dcb55a6",
   "metadata": {},
   "outputs": [
    {
     "data": {
      "text/plain": [
       "'data_scince'"
      ]
     },
     "execution_count": 87,
     "metadata": {},
     "output_type": "execute_result"
    }
   ],
   "source": [
    "course._b"
   ]
  },
  {
   "cell_type": "code",
   "execution_count": 88,
   "id": "f7a5de4e",
   "metadata": {},
   "outputs": [
    {
     "data": {
      "text/plain": [
       "' you have eneterd the high demand course'"
      ]
     },
     "execution_count": 88,
     "metadata": {},
     "output_type": "execute_result"
    }
   ],
   "source": [
    "course.high_demand_course()"
   ]
  },
  {
   "cell_type": "code",
   "execution_count": 89,
   "id": "c8c9be08",
   "metadata": {},
   "outputs": [],
   "source": [
    "import logging\n",
    "logging.basicConfig(filename='oops_log', level=logging.DEBUG, format ='%(levelname)s %(asctime)s %(message)s')\n",
    "\n",
    "class chair:\n",
    "    logging.info(\" you are in chair class\")\n",
    "    \n",
    "    try: \n",
    "        def __init__(self, a):\n",
    "            \"\"\" this function takes one argumnets \"\"\"\n",
    "            logging.info(\"we are in init function. \")\n",
    "            self.__a = a\n",
    "\n",
    "        \n",
    "        def check(self):\n",
    "            \"\"\" this function check for the comfirt chair\"\"\"\n",
    "            \n",
    "            if  self._chair__a == \"sport_chair\": # accesing private variable\n",
    "                logging.info( \" you have choose comfort chair\")\n",
    "                return (\" you have choose comfort chair\")\n",
    "            else:\n",
    "                logging.info (\" you choose standard chair \")\n",
    "                return \" you choose standard chair \"\n",
    "    \n",
    "    except Exception as e:\n",
    "            logging.exception (e)\n",
    "            print(e)\n",
    "\n",
    "\n"
   ]
  },
  {
   "cell_type": "code",
   "execution_count": 90,
   "id": "c860c9dc",
   "metadata": {},
   "outputs": [],
   "source": [
    "purchase_chair= chair(\"sport_chair\")"
   ]
  },
  {
   "cell_type": "code",
   "execution_count": 91,
   "id": "dabe4d0c",
   "metadata": {},
   "outputs": [
    {
     "data": {
      "text/plain": [
       "' you have choose comfort chair'"
      ]
     },
     "execution_count": 91,
     "metadata": {},
     "output_type": "execute_result"
    }
   ],
   "source": [
    "purchase_chair.check()"
   ]
  },
  {
   "cell_type": "code",
   "execution_count": 92,
   "id": "0e2a20c7",
   "metadata": {},
   "outputs": [],
   "source": [
    "purchase_chair1 = chair(\"fooldable_chair\")"
   ]
  },
  {
   "cell_type": "code",
   "execution_count": 93,
   "id": "999e0ddd",
   "metadata": {},
   "outputs": [
    {
     "data": {
      "text/plain": [
       "' you choose standard chair '"
      ]
     },
     "execution_count": 93,
     "metadata": {},
     "output_type": "execute_result"
    }
   ],
   "source": [
    "purchase_chair1.check()"
   ]
  },
  {
   "cell_type": "markdown",
   "id": "6e32748e",
   "metadata": {},
   "source": [
    "# Abstraction , Encapsulation , Polymorpism\n",
    "\n"
   ]
  },
  {
   "cell_type": "code",
   "execution_count": 94,
   "id": "64fee1e6",
   "metadata": {},
   "outputs": [
    {
     "name": "stdout",
     "output_type": "stream",
     "text": [
      "print the class of students  data science\n"
     ]
    }
   ],
   "source": [
    "import logging\n",
    "logging.basicConfig(filename='oops_log', level=logging.DEBUG, format ='%(levelname)s %(asctime)s %(message)s')\n",
    "\n",
    "class ineuron:\n",
    "    logging.info(\" we are in ineuron \")\n",
    "    __students = 'data science'\n",
    "\n",
    "    def student(self):\n",
    "        \"\"\" this function is used to change the value of ineuron class variable  \"\"\"\n",
    "        print('print the class of students ', ineuron.__students)\n",
    "\n",
    "i= ineuron()\n",
    "i.student()\n"
   ]
  },
  {
   "cell_type": "code",
   "execution_count": 95,
   "id": "b1e81437",
   "metadata": {},
   "outputs": [
    {
     "data": {
      "text/plain": [
       "'data science'"
      ]
     },
     "execution_count": 95,
     "metadata": {},
     "output_type": "execute_result"
    }
   ],
   "source": [
    "i._ineuron__students"
   ]
  },
  {
   "cell_type": "code",
   "execution_count": 96,
   "id": "64d30541",
   "metadata": {},
   "outputs": [],
   "source": [
    "import logging\n",
    "logging.basicConfig(filename='oops_log', level=logging.DEBUG, format ='%(levelname)s %(asctime)s %(message)s')\n",
    "\n",
    "class sum1:\n",
    "    logging.info(\" you are in sum1 class\")\n",
    "    __a= 20\n",
    "    try:\n",
    "        def sum2(self, b):\n",
    "            \"\"\" this function takes 3/2 argumnents to perform some  \"\"\"\n",
    "            logging.info(\" some of the number is %s\" ,( b+ sum1.__a))\n",
    "            return ( b+ sum1.__a)\n",
    "        \n",
    "    except Exception as e:\n",
    "            logging.exception (e)\n",
    "            print(e)"
   ]
  },
  {
   "cell_type": "code",
   "execution_count": 97,
   "id": "9757fd3f",
   "metadata": {},
   "outputs": [],
   "source": [
    "addition = sum1()"
   ]
  },
  {
   "cell_type": "code",
   "execution_count": 98,
   "id": "36d8929f",
   "metadata": {},
   "outputs": [
    {
     "data": {
      "text/plain": [
       "25"
      ]
     },
     "execution_count": 98,
     "metadata": {},
     "output_type": "execute_result"
    }
   ],
   "source": [
    "addition.sum2(5)"
   ]
  },
  {
   "cell_type": "code",
   "execution_count": 99,
   "id": "2d6b421c",
   "metadata": {},
   "outputs": [],
   "source": [
    "import logging\n",
    "logging.basicConfig(filename='oops_log', level=logging.DEBUG, format ='%(levelname)s %(asctime)s %(message)s')\n",
    "\n",
    "class birth_year:\n",
    "    \n",
    "    logging.info(\" you are in birth_year class\")\n",
    "    __a= 1995\n",
    "    try:\n",
    "        def age(self, b):\n",
    "            \"\"\" this is  claculate the  how old are you \"\"\"\n",
    "            logging.info(\" Age of user is  %s\" ,( b- birth_year.__a))\n",
    "            return ( b- birth_year.__a)\n",
    "        \n",
    "    except Exception as e:\n",
    "            logging.exception (e)\n",
    "            print(e)"
   ]
  },
  {
   "cell_type": "code",
   "execution_count": 100,
   "id": "6ac4fef4",
   "metadata": {},
   "outputs": [],
   "source": [
    "nizam=birth_year()"
   ]
  },
  {
   "cell_type": "code",
   "execution_count": 101,
   "id": "1ccbe81b",
   "metadata": {},
   "outputs": [
    {
     "data": {
      "text/plain": [
       "27"
      ]
     },
     "execution_count": 101,
     "metadata": {},
     "output_type": "execute_result"
    }
   ],
   "source": [
    "nizam.age(2022)"
   ]
  },
  {
   "cell_type": "code",
   "execution_count": 102,
   "id": "1787c412",
   "metadata": {},
   "outputs": [],
   "source": [
    "import logging\n",
    "logging.basicConfig(filename='oops_log', level=logging.DEBUG, format ='%(levelname)s %(asctime)s %(message)s')\n",
    "\n",
    "class num:\n",
    "    logging.info(\" you are in num class\")\n",
    "    a= 20\n",
    "    try:\n",
    "        def modify(self):\n",
    "            \"\"\" this function is used to  0\"\"\"\n",
    "            logging.info(\" The new modified vale of a is %s\",(self.a ))\n",
    "            return ( \" The new modified vale of a is: \",(self.a ))\n",
    "        \n",
    "    except Exception as e:\n",
    "            logging.exception (e)\n",
    "            print(e)"
   ]
  },
  {
   "cell_type": "code",
   "execution_count": 103,
   "id": "b5fa23c4",
   "metadata": {},
   "outputs": [],
   "source": [
    "k=num()"
   ]
  },
  {
   "cell_type": "code",
   "execution_count": 104,
   "id": "cdcb7f27",
   "metadata": {},
   "outputs": [],
   "source": [
    "k.a=40"
   ]
  },
  {
   "cell_type": "code",
   "execution_count": 105,
   "id": "d5d48b26",
   "metadata": {},
   "outputs": [
    {
     "data": {
      "text/plain": [
       "(' The new modified vale of a is: ', 40)"
      ]
     },
     "execution_count": 105,
     "metadata": {},
     "output_type": "execute_result"
    }
   ],
   "source": [
    "k.modify()"
   ]
  },
  {
   "cell_type": "code",
   "execution_count": 106,
   "id": "002cfcea",
   "metadata": {},
   "outputs": [],
   "source": [
    "import logging\n",
    "logging.basicConfig(filename='oops_log', level=logging.DEBUG, format ='%(levelname)s %(asctime)s %(message)s')\n",
    "\n",
    "class car:\n",
    "    logging.info(\" you are in car class\")\n",
    "    __speed=200\n",
    "    try:\n",
    "        def set_speed(self, value):\n",
    "            \"\"\" this is the function of car class and take one input\"\"\"\n",
    "            logging.info(\" you are in set_speed function\")\n",
    "            self.__speed= value\n",
    "\n",
    "            logging.info(\" the new updated value is %s\",( self.__speed) )\n",
    "            return (\"  the new updated value is\",( self.__speed))\n",
    "        \n",
    "    except Exception as e:\n",
    "            logging.exception (e)\n",
    "            print(e)"
   ]
  },
  {
   "cell_type": "code",
   "execution_count": 107,
   "id": "4b12fbea",
   "metadata": {},
   "outputs": [],
   "source": [
    "nano=car()"
   ]
  },
  {
   "cell_type": "code",
   "execution_count": 108,
   "id": "ceb18ab3",
   "metadata": {},
   "outputs": [
    {
     "data": {
      "text/plain": [
       "('  the new updated value is', 300)"
      ]
     },
     "execution_count": 108,
     "metadata": {},
     "output_type": "execute_result"
    }
   ],
   "source": [
    "nano.set_speed(300)"
   ]
  },
  {
   "cell_type": "code",
   "execution_count": 109,
   "id": "541c8305",
   "metadata": {},
   "outputs": [
    {
     "data": {
      "text/plain": [
       "300"
      ]
     },
     "execution_count": 109,
     "metadata": {},
     "output_type": "execute_result"
    }
   ],
   "source": [
    "nano._car__speed"
   ]
  },
  {
   "cell_type": "code",
   "execution_count": 110,
   "id": "9e6606e7",
   "metadata": {},
   "outputs": [],
   "source": [
    "import logging\n",
    "logging.basicConfig(filename='oops_log', level=logging.DEBUG, format ='%(levelname)s %(asctime)s %(message)s')\n",
    "class test1:\n",
    "    logging.info(\" you are in add1 class\")\n",
    "   \n",
    "    def __init__(self, x, y, z = 0):\n",
    "        \"\"\" this function take 3 arguments  \"\"\"\n",
    "        self.x= x\n",
    "        self.y=y\n",
    "        self.z= z\n",
    "        \n",
    "            \n",
    "        try:\n",
    "                logging.info(\"addtion of the number is %s\", ( x + y+z))\n",
    "                print ( x + y+z)\n",
    "\n",
    "\n",
    "        except Exception as e:\n",
    "                logging.exception (e)\n",
    "                print(e)\n"
   ]
  },
  {
   "cell_type": "code",
   "execution_count": 111,
   "id": "9f479118",
   "metadata": {},
   "outputs": [
    {
     "name": "stdout",
     "output_type": "stream",
     "text": [
      "9\n"
     ]
    }
   ],
   "source": [
    "d=test1(2,3,4)"
   ]
  },
  {
   "cell_type": "code",
   "execution_count": null,
   "id": "7bea63f7",
   "metadata": {},
   "outputs": [],
   "source": []
  },
  {
   "cell_type": "code",
   "execution_count": null,
   "id": "20b5d3c0",
   "metadata": {},
   "outputs": [],
   "source": []
  },
  {
   "cell_type": "code",
   "execution_count": null,
   "id": "829818fe",
   "metadata": {},
   "outputs": [],
   "source": []
  }
 ],
 "metadata": {
  "kernelspec": {
   "display_name": "Python 3 (ipykernel)",
   "language": "python",
   "name": "python3"
  },
  "language_info": {
   "codemirror_mode": {
    "name": "ipython",
    "version": 3
   },
   "file_extension": ".py",
   "mimetype": "text/x-python",
   "name": "python",
   "nbconvert_exporter": "python",
   "pygments_lexer": "ipython3",
   "version": "3.9.7"
  }
 },
 "nbformat": 4,
 "nbformat_minor": 5
}
