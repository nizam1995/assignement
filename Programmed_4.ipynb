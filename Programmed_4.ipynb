{
 "cells": [
  {
   "cell_type": "markdown",
   "id": "56be0bcc",
   "metadata": {},
   "source": [
    "1. Write a Python Program to Find the Factorial of a Number?\n",
    "2. Write a Python Program to Display the multiplication Table?\n",
    "3. Write a Python Program to Print the Fibonacci sequence?\n",
    "4. Write a Python Program to Check Armstrong Number?\n",
    "5. Write a Python Program to Find Armstrong Number in an Interval?\n",
    "6. Write a Python Program to Find the Sum of Natural Numbers?"
   ]
  },
  {
   "cell_type": "code",
   "execution_count": null,
   "id": "a12d3826",
   "metadata": {},
   "outputs": [],
   "source": [
    "#Write a Python Program to Find the Factorial of a Number?"
   ]
  },
  {
   "cell_type": "code",
   "execution_count": 13,
   "id": "d2890530",
   "metadata": {},
   "outputs": [
    {
     "name": "stdout",
     "output_type": "stream",
     "text": [
      "Enter the number : \n",
      "5\n",
      "120\n"
     ]
    }
   ],
   "source": [
    "n=int(input(\"Enter the number : \\n\"))\n",
    "k=1\n",
    "for i in  range(n+1):\n",
    "    if i>0:\n",
    "        k=k*i\n",
    "print(k)\n",
    "        "
   ]
  },
  {
   "cell_type": "code",
   "execution_count": 9,
   "id": "086b9576",
   "metadata": {},
   "outputs": [
    {
     "data": {
      "text/plain": [
       "120"
      ]
     },
     "execution_count": 9,
     "metadata": {},
     "output_type": "execute_result"
    }
   ],
   "source": [
    "# write a Python Program to Display the multiplication Table?"
   ]
  },
  {
   "cell_type": "code",
   "execution_count": 19,
   "id": "926e7eca",
   "metadata": {},
   "outputs": [
    {
     "name": "stdout",
     "output_type": "stream",
     "text": [
      "Enter the  number to get the table 4\n",
      "4 X 1 = 4\n",
      "4 X 2 = 8\n",
      "4 X 3 = 12\n",
      "4 X 4 = 16\n",
      "4 X 5 = 20\n",
      "4 X 6 = 24\n",
      "4 X 7 = 28\n",
      "4 X 8 = 32\n",
      "4 X 9 = 36\n",
      "4 X 10 = 40\n"
     ]
    }
   ],
   "source": [
    "n=10\n",
    "a= int(input(\"Enter the  number to get the table \"))\n",
    "for i in range (1,n+1):\n",
    "    print(a,\"X\",i,\"=\" , a*i)"
   ]
  },
  {
   "cell_type": "code",
   "execution_count": null,
   "id": "b56d09a7",
   "metadata": {},
   "outputs": [],
   "source": [
    "# Write a Python Program to Print the Fibonacci sequence?"
   ]
  },
  {
   "cell_type": "code",
   "execution_count": 31,
   "id": "3f0364d0",
   "metadata": {},
   "outputs": [
    {
     "name": "stdout",
     "output_type": "stream",
     "text": [
      "Enter the range of the series10\n",
      "1\n",
      "1\n",
      "2\n",
      "3\n",
      "5\n",
      "8\n",
      "13\n",
      "21\n",
      "34\n",
      "55\n"
     ]
    }
   ],
   "source": [
    "a=1\n",
    "b=1\n",
    "n=int(input(\"Enter the range of the series\"))\n",
    "for i in range ( n):\n",
    "    print(a)\n",
    "    a,b= b,a+b     \n",
    "        \n",
    "    \n",
    "\n"
   ]
  },
  {
   "cell_type": "code",
   "execution_count": null,
   "id": "fade7053",
   "metadata": {},
   "outputs": [],
   "source": [
    "# Write a Python Program to Check Armstrong Number?"
   ]
  },
  {
   "cell_type": "code",
   "execution_count": 43,
   "id": "8ba5b1f6",
   "metadata": {},
   "outputs": [
    {
     "name": "stdout",
     "output_type": "stream",
     "text": [
      "Enter the number to cehck for Armstrong: \n",
      "153\n",
      "153 is an Armstrong number\n"
     ]
    }
   ],
   "source": [
    "n=int(input(\"Enter the number to cehck for Armstrong: \\n\"))\n",
    "\n",
    "p=len(str(n))\n",
    "sum=0\n",
    "temp=n\n",
    "while temp>0:\n",
    "    digit= temp % 10\n",
    "    sum=sum+digit**p\n",
    "    temp=temp//10\n",
    "    \n",
    "if sum==n:\n",
    "    print(n,\"is an Armstrong number\")\n",
    "else:\n",
    "   print(n,\"is not an Armstrong number\")\n"
   ]
  },
  {
   "cell_type": "code",
   "execution_count": null,
   "id": "613faf70",
   "metadata": {},
   "outputs": [],
   "source": [
    "# Write a Python Program to Find Armstrong Number in an Interval?"
   ]
  },
  {
   "cell_type": "code",
   "execution_count": 46,
   "id": "fa07ce6b",
   "metadata": {},
   "outputs": [
    {
     "name": "stdout",
     "output_type": "stream",
     "text": [
      "Enter the range of the number : \n",
      "200\n",
      "1\n",
      "2\n",
      "3\n",
      "4\n",
      "5\n",
      "6\n",
      "7\n",
      "8\n",
      "9\n",
      "153\n"
     ]
    }
   ],
   "source": [
    "n=int(input(\"Enter the range of the number : \\n\"))\n",
    "for i in range (1, n+1):\n",
    "        p=len(str(i))\n",
    "        sum=0\n",
    "        temp=i\n",
    "        while temp>0:\n",
    "             digit= temp % 10\n",
    "             sum=sum+digit**p\n",
    "             temp=temp//10\n",
    "        if sum==i:\n",
    "            print(i)\n",
    "            \n",
    "        \n",
    "   \n",
    "            \n",
    "\n",
    "        \n",
    "                \n",
    "            \n",
    "   \n",
    "    \n",
    "    \n",
    "        \n",
    "\n",
    "\n",
    "\n",
    "    \n"
   ]
  },
  {
   "cell_type": "code",
   "execution_count": 47,
   "id": "2e6ab52e",
   "metadata": {},
   "outputs": [],
   "source": [
    "#Write a Python Program to Find the Sum of Natural Numbers?"
   ]
  },
  {
   "cell_type": "code",
   "execution_count": 48,
   "id": "d32f4dfc",
   "metadata": {},
   "outputs": [
    {
     "name": "stdout",
     "output_type": "stream",
     "text": [
      "Enter the range of the number : \n",
      "10\n",
      "The sum is 55\n"
     ]
    }
   ],
   "source": [
    "num=int(input(\"Enter the range of the number : \\n\"))\n",
    "\n",
    "if num < 0:\n",
    "   print(\"Enter a positive number\")\n",
    "else:\n",
    "   sum = 0\n",
    "   # use while loop to iterate until zero\n",
    "   while(num > 0):\n",
    "       sum += num\n",
    "       num -= 1\n",
    "   print(\"The sum is\", sum)"
   ]
  },
  {
   "cell_type": "code",
   "execution_count": null,
   "id": "8e3332ea",
   "metadata": {},
   "outputs": [],
   "source": []
  }
 ],
 "metadata": {
  "kernelspec": {
   "display_name": "Python 3 (ipykernel)",
   "language": "python",
   "name": "python3"
  },
  "language_info": {
   "codemirror_mode": {
    "name": "ipython",
    "version": 3
   },
   "file_extension": ".py",
   "mimetype": "text/x-python",
   "name": "python",
   "nbconvert_exporter": "python",
   "pygments_lexer": "ipython3",
   "version": "3.9.7"
  }
 },
 "nbformat": 4,
 "nbformat_minor": 5
}
