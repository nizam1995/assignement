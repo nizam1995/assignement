{
 "cells": [
  {
   "cell_type": "markdown",
   "id": "0e0b8ffd",
   "metadata": {},
   "source": [
    "# Use class, logging, exception handling to complete the task "
   ]
  },
  {
   "cell_type": "markdown",
   "id": "85854a9d",
   "metadata": {},
   "source": [
    "l = [3,4,5,6,7 , [23,456,67,8,78,78] , [345,56,87,8,98,9] , (234,6657,6) , {\"key1\" :\"sudh\" , 234:[23,45,656]}]\n",
    "1 . Try to reverse a list\n",
    "2. try to access 234 out of this list\n",
    "3 . try to access 456\n",
    "4 . Try to extract only a list collection form list l\n",
    "5 . Try to extract \"sudh\"\n",
    "6 . Try to list all the key in dict element avaible in list\n",
    "7 . Try to extract all the value element form dict available in list"
   ]
  },
  {
   "cell_type": "code",
   "execution_count": 2,
   "id": "544e3ad0",
   "metadata": {},
   "outputs": [],
   "source": [
    "l = [3,4,5,6,7 , [23,456,67,8,78,78] , [345,56,87,8,98,9] , (234,6657,6) , {\"key1\" :\"sudh\" , 234:[23,45,656]}]"
   ]
  },
  {
   "cell_type": "code",
   "execution_count": 22,
   "id": "496ca729",
   "metadata": {},
   "outputs": [],
   "source": [
    "import logging\n",
    "\n",
    "\n",
    "\n",
    "logging.basicConfig(filename='file.log', level=logging.DEBUG, format ='%(levelname)s %(asctime)s %(message)s')\n",
    "logging.info(\"Data provided by the user is %s\", l)\n",
    "\n",
    "class task: # class created \n",
    "    def __init__(self, data):\n",
    "        self.data = data\n",
    "    \n",
    "###1 . Try to reverse a list \n",
    "\n",
    "    def revese_list(self):\n",
    "        \"\"\" This function is used to reverse the list\"\"\"\n",
    "        \n",
    "        try:\n",
    "            logging.info(\"we are in  reverse function\")\n",
    "            a=self.data[::-1]\n",
    "            \n",
    "            return(\"reverse of the list is: \", a)\n",
    "            logging.info(\"reverse of the list is %s: \", a)\n",
    "        \n",
    "        except Exception as e:\n",
    "            logging.exception (e)\n",
    "            print(e)\n",
    "    ### 2. try to access 234 out of this list \n",
    "    \n",
    "    def extract_values(self):\n",
    "        \"\"\" This function will checck for the entered value in the list\"\"\"\n",
    "        \n",
    "        logging.info(\"We are in  extracting the value function \")\n",
    "        a= int(input(\"Enter the value to check \"))\n",
    "        logging.info(\" user request to check the value is %s\", a)\n",
    "        try:\n",
    "           \n",
    "            for i in self.data: \n",
    "                 if type(i)==list or  type(i)== tuple or  type(i)==dict:\n",
    "                    for j in i:\n",
    "                        if j==a:\n",
    "                            logging.info (\"Entered valued found in  %s\",i)\n",
    "                            return (\"Entered valued found in  \",i)\n",
    "                        \n",
    "                        else :\n",
    "                            pass\n",
    "        except Exception as e:\n",
    "            logging.exception(e)\n",
    "            print(e)\n",
    "            \n",
    "       #4 . Try to extract only a list collection form list l\n",
    "            \n",
    "    def extract_list(self):\n",
    "        logging. info (\" we are in  extract_list function \")\n",
    "        d=[]\n",
    "        try: \n",
    "            for i in self.data:\n",
    "                if type(i)== list:\n",
    "                    d.append(i)\n",
    "            logging.info(\" List avaible in the given variable is %s\",  d)\n",
    "            return d \n",
    "        except Exception as e:\n",
    "            logging.exception(e)\n",
    "            print(e)\n",
    "\n",
    "    #Try to list all the key in dict element avaible in list\n",
    "    \n",
    "    def  fetch_keys(self):\n",
    "        logging. info (\" we are in  fetch_keyst function \")\n",
    "        keys_dict=[]\n",
    "        try:\n",
    "            for i in self.data:\n",
    "                if type(i)==dict:\n",
    "                    for j in i :\n",
    "                        keys_dict.append(j)\n",
    "                    logging. info(\"Here are the available keys %s\", keys_dict)\n",
    "                    return keys_dict\n",
    "        except Exception as e:\n",
    "            logging.exception (e)\n",
    "            print(e)\n",
    "            \n",
    "          #  Try to extract all the value element form dict available in list\n",
    "    def   values (self):\n",
    "        logging. info (\" we are in value  function \")\n",
    "        value=[]\n",
    "        try:\n",
    "            for i in self.data:\n",
    "                if type(i)==dict:\n",
    "                    for j in i.items() :\n",
    "                        value.append(j)\n",
    "                    logging. info(\"Here are the available values of dictionary %s\", value)\n",
    "                    return value\n",
    "        except Exception as e:\n",
    "            logging.exception (e)\n",
    "            print(e)\n"
   ]
  },
  {
   "cell_type": "code",
   "execution_count": null,
   "id": "cb4413a2",
   "metadata": {},
   "outputs": [],
   "source": []
  },
  {
   "cell_type": "code",
   "execution_count": 26,
   "id": "f990899f",
   "metadata": {},
   "outputs": [],
   "source": [
    "k= task(l)\n"
   ]
  },
  {
   "cell_type": "code",
   "execution_count": 27,
   "id": "0aef9af9",
   "metadata": {},
   "outputs": [
    {
     "data": {
      "text/plain": [
       "('reverse of the list is: ',\n",
       " [{'key1': 'sudh', 234: [23, 45, 656]},\n",
       "  (234, 6657, 6),\n",
       "  [345, 56, 87, 8, 98, 9],\n",
       "  [23, 456, 67, 8, 78, 78],\n",
       "  7,\n",
       "  6,\n",
       "  5,\n",
       "  4,\n",
       "  3])"
      ]
     },
     "execution_count": 27,
     "metadata": {},
     "output_type": "execute_result"
    }
   ],
   "source": [
    "\n",
    "k.revese_list()"
   ]
  },
  {
   "cell_type": "code",
   "execution_count": 28,
   "id": "a6a5a222",
   "metadata": {},
   "outputs": [
    {
     "name": "stdout",
     "output_type": "stream",
     "text": [
      "Enter the value to check 234\n"
     ]
    },
    {
     "data": {
      "text/plain": [
       "('Entered valued found in  ', (234, 6657, 6))"
      ]
     },
     "execution_count": 28,
     "metadata": {},
     "output_type": "execute_result"
    }
   ],
   "source": [
    "k.extract_values()"
   ]
  },
  {
   "cell_type": "code",
   "execution_count": 29,
   "id": "a4b54b61",
   "metadata": {},
   "outputs": [
    {
     "data": {
      "text/plain": [
       "[[23, 456, 67, 8, 78, 78], [345, 56, 87, 8, 98, 9]]"
      ]
     },
     "execution_count": 29,
     "metadata": {},
     "output_type": "execute_result"
    }
   ],
   "source": [
    "k.extract_list()"
   ]
  },
  {
   "cell_type": "code",
   "execution_count": null,
   "id": "cf7ba9de",
   "metadata": {},
   "outputs": [],
   "source": []
  },
  {
   "cell_type": "code",
   "execution_count": null,
   "id": "adbd7981",
   "metadata": {},
   "outputs": [],
   "source": [
    "k.extract_list()"
   ]
  },
  {
   "cell_type": "code",
   "execution_count": 30,
   "id": "c274015c",
   "metadata": {},
   "outputs": [
    {
     "data": {
      "text/plain": [
       "['key1', 234]"
      ]
     },
     "execution_count": 30,
     "metadata": {},
     "output_type": "execute_result"
    }
   ],
   "source": [
    "k.fetch_keys()"
   ]
  },
  {
   "cell_type": "code",
   "execution_count": null,
   "id": "f03194db",
   "metadata": {},
   "outputs": [],
   "source": []
  },
  {
   "cell_type": "code",
   "execution_count": null,
   "id": "e5b75e54",
   "metadata": {},
   "outputs": [],
   "source": []
  },
  {
   "cell_type": "code",
   "execution_count": 31,
   "id": "75d7d4ce",
   "metadata": {},
   "outputs": [
    {
     "data": {
      "text/plain": [
       "[('key1', 'sudh'), (234, [23, 45, 656])]"
      ]
     },
     "execution_count": 31,
     "metadata": {},
     "output_type": "execute_result"
    }
   ],
   "source": [
    "k.values()"
   ]
  },
  {
   "cell_type": "code",
   "execution_count": 15,
   "id": "9d895f70",
   "metadata": {},
   "outputs": [],
   "source": [
    "\n"
   ]
  },
  {
   "cell_type": "code",
   "execution_count": 21,
   "id": "971ac2f7",
   "metadata": {},
   "outputs": [
    {
     "name": "stdout",
     "output_type": "stream",
     "text": [
      "('key1', 'sudh')\n",
      "(234, [23, 45, 656])\n"
     ]
    }
   ],
   "source": []
  },
  {
   "cell_type": "code",
   "execution_count": null,
   "id": "abc305e3",
   "metadata": {},
   "outputs": [],
   "source": []
  }
 ],
 "metadata": {
  "kernelspec": {
   "display_name": "Python 3 (ipykernel)",
   "language": "python",
   "name": "python3"
  },
  "language_info": {
   "codemirror_mode": {
    "name": "ipython",
    "version": 3
   },
   "file_extension": ".py",
   "mimetype": "text/x-python",
   "name": "python",
   "nbconvert_exporter": "python",
   "pygments_lexer": "ipython3",
   "version": "3.9.7"
  }
 },
 "nbformat": 4,
 "nbformat_minor": 5
}
