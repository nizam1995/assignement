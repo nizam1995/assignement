{
 "cells": [
  {
   "cell_type": "code",
   "execution_count": null,
   "id": "7bc712cf",
   "metadata": {},
   "outputs": [],
   "source": [
    "#Q1. What is the relationship between classes and modules?"
   ]
  },
  {
   "cell_type": "code",
   "execution_count": null,
   "id": "72edd518",
   "metadata": {},
   "outputs": [],
   "source": [
    "The relationship between a class and a module in python is that a class is used to define a blueprint for a given object, whereas a module is used to reuse a given piece of code inside another program."
   ]
  },
  {
   "cell_type": "code",
   "execution_count": null,
   "id": "7d0641f4",
   "metadata": {},
   "outputs": [],
   "source": [
    "#Q2. How do you make instances and classes?"
   ]
  },
  {
   "cell_type": "code",
   "execution_count": null,
   "id": "77667931",
   "metadata": {},
   "outputs": [],
   "source": [
    "To create instances of a class, you call the class using class name and pass in whatever arguments its __init__ method accepts."
   ]
  },
  {
   "cell_type": "code",
   "execution_count": null,
   "id": "5cc48350",
   "metadata": {},
   "outputs": [],
   "source": [
    "#Q3. Where and how should be class attributes created?"
   ]
  },
  {
   "cell_type": "code",
   "execution_count": null,
   "id": "54b47519",
   "metadata": {},
   "outputs": [],
   "source": [
    "A class attribute is shared by all instances of the class. To define a class attribute, you place it outside of the __init__() method.\n",
    "Use class_name. ...\n",
    "Use class attributes for storing class contants, track data across all instances, and setting default values for all instances of the class."
   ]
  },
  {
   "cell_type": "code",
   "execution_count": null,
   "id": "00a06d56",
   "metadata": {},
   "outputs": [],
   "source": [
    "#Q4. Where and how are instance attributes created?\n",
    "Instance attributes are defined in the constructor. Defined directly inside a class. Defined inside a constructor using the self paramete"
   ]
  },
  {
   "cell_type": "code",
   "execution_count": null,
   "id": "b043d9bc",
   "metadata": {},
   "outputs": [],
   "source": [
    "An instance attribute is a Python variable belonging to one, and only one, object. This variable is only accessible in the scope of this object and it is defined inside the constructor function, __init__(self,..) of the class."
   ]
  },
  {
   "cell_type": "code",
   "execution_count": null,
   "id": "5ad78eb3",
   "metadata": {},
   "outputs": [],
   "source": [
    "#Q5. What does the term &quot;self&quot; in a Python class mean?"
   ]
  },
  {
   "cell_type": "code",
   "execution_count": null,
   "id": "ffc56c89",
   "metadata": {},
   "outputs": [],
   "source": [
    "self represents the instance of the class. By using the “self” we can access the attributes and methods of the class in python. It binds the attributes with the given arguments. The reason you need to use self. is because Python does not use the @ syntax to refer to instance attributes."
   ]
  },
  {
   "cell_type": "code",
   "execution_count": null,
   "id": "ee9efd14",
   "metadata": {},
   "outputs": [],
   "source": [
    "# Q6. How does a Python class handle operator overloading?\n",
    "\n",
    "The operator overloading in Python means provide extended meaning beyond their predefined operational meaning. Such as, we use the \"+\" operator for adding two integers as well as joining two strings or merging two lists. We can achieve this as the \"+\" operator is overloaded by the \"int\" class and \"str\" class"
   ]
  },
  {
   "cell_type": "code",
   "execution_count": null,
   "id": "d9562a11",
   "metadata": {},
   "outputs": [],
   "source": [
    "#Q7. When do you consider allowing operator overloading of your classes?"
   ]
  },
  {
   "cell_type": "code",
   "execution_count": null,
   "id": "2a99e1be",
   "metadata": {},
   "outputs": [],
   "source": [
    "The purpose of operator overloading is to provide a special meaning of an operator for a user-defined data type. With the help of operator overloading, you can redefine the majority of the  operators. You can also use operator overloading to perform different operations using one operator"
   ]
  },
  {
   "cell_type": "code",
   "execution_count": null,
   "id": "fbdf71e9",
   "metadata": {},
   "outputs": [],
   "source": []
  },
  {
   "cell_type": "code",
   "execution_count": null,
   "id": "aaeb7db0",
   "metadata": {},
   "outputs": [],
   "source": []
  }
 ],
 "metadata": {
  "kernelspec": {
   "display_name": "Python 3 (ipykernel)",
   "language": "python",
   "name": "python3"
  },
  "language_info": {
   "codemirror_mode": {
    "name": "ipython",
    "version": 3
   },
   "file_extension": ".py",
   "mimetype": "text/x-python",
   "name": "python",
   "nbconvert_exporter": "python",
   "pygments_lexer": "ipython3",
   "version": "3.9.7"
  }
 },
 "nbformat": 4,
 "nbformat_minor": 5
}
