{
 "cells": [
  {
   "cell_type": "code",
   "execution_count": null,
   "id": "7aa168c6",
   "metadata": {},
   "outputs": [],
   "source": [
    "#1. Is the Python Standard Library included with PyInputPlus?\n",
    "\n",
    "#Answer: PyInputPlus is not a part of the Python Standard Library, so you must install it separately using Pip"
   ]
  },
  {
   "cell_type": "code",
   "execution_count": null,
   "id": "5a62c13a",
   "metadata": {},
   "outputs": [],
   "source": [
    "##!pip install pyinputplus\n"
   ]
  },
  {
   "cell_type": "code",
   "execution_count": null,
   "id": "9a3851eb",
   "metadata": {},
   "outputs": [],
   "source": [
    "# 2. Why is PyInputPlus commonly imported with import pyinputplus as pypi?\n",
    "Answer= \"\"\"  pypi is alias of PyInputPlus.\n",
    "The as pyip code in the import statement saves us from typing pyinputplus each time we want to call a PyInputPlus function. \n",
    "Instead we can use the shorter pyip name \"\"\""
   ]
  },
  {
   "cell_type": "code",
   "execution_count": null,
   "id": "5c767f8a",
   "metadata": {},
   "outputs": [],
   "source": [
    "# 3. How do you distinguish between inputInt() and inputFloat()?"
   ]
  },
  {
   "cell_type": "code",
   "execution_count": null,
   "id": "101a3c28",
   "metadata": {},
   "outputs": [],
   "source": [
    "#inputInt() : Accepts an integer value, and returns int value\n",
    "#inputFloat() : Accepts integer/floating point value and returns float value\n",
    "#Both takes additional parameters ‘min’, ‘max’, ‘greaterThan’ and ‘lessThan’  for bounds\n"
   ]
  },
  {
   "cell_type": "code",
   "execution_count": null,
   "id": "93f3a0ca",
   "metadata": {},
   "outputs": [],
   "source": [
    "import pyinputplus as pyip\n",
    "pyip.inputInt()\n",
    "pyip.inputFloat()"
   ]
  },
  {
   "cell_type": "code",
   "execution_count": 1,
   "id": "0889988b",
   "metadata": {},
   "outputs": [],
   "source": [
    "#4. Using PyInputPlus, how do you ensure that the user enters a whole number between 0 and 99?\n",
    "\n",
    "#Answer: In the inputint function we can set the min = 0 and max =99 to ensure user enters number between 0 and 99\n"
   ]
  },
  {
   "cell_type": "code",
   "execution_count": 2,
   "id": "feb7e33e",
   "metadata": {},
   "outputs": [],
   "source": [
    "# 5. What is transferred to the keyword arguments allowRegexes and blockRegexes?"
   ]
  },
  {
   "cell_type": "code",
   "execution_count": 3,
   "id": "0becf874",
   "metadata": {},
   "outputs": [],
   "source": [
    "#we can also use regular expressions to specify whether an input is allowed or not. The allowRegexes and blockRegexes \n",
    "#keyword arguments take a list of regular expression strings to determine what the PyInputPlus function will accept or \n",
    "#reject as valid input.\n"
   ]
  },
  {
   "cell_type": "code",
   "execution_count": 4,
   "id": "70c38609",
   "metadata": {},
   "outputs": [],
   "source": [
    "#6. If a blank input is entered three times, what does inputStr(limit=3) do?\n",
    "#Answer: it will throw RetryLimitException exception."
   ]
  },
  {
   "cell_type": "code",
   "execution_count": null,
   "id": "7851aea7",
   "metadata": {},
   "outputs": [],
   "source": [
    "# 7. If blank input is entered three times, what does inputStr(limit=3, default=&#39;hello&#39;) do?\n",
    "#Answer: When you use limit keyword arguments and also pass a default keyword argument, the function returns the default value instead of raising an exception"
   ]
  }
 ],
 "metadata": {
  "kernelspec": {
   "display_name": "Python 3 (ipykernel)",
   "language": "python",
   "name": "python3"
  },
  "language_info": {
   "codemirror_mode": {
    "name": "ipython",
    "version": 3
   },
   "file_extension": ".py",
   "mimetype": "text/x-python",
   "name": "python",
   "nbconvert_exporter": "python",
   "pygments_lexer": "ipython3",
   "version": "3.9.7"
  }
 },
 "nbformat": 4,
 "nbformat_minor": 5
}
