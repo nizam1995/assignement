{
 "cells": [
  {
   "cell_type": "code",
   "execution_count": null,
   "id": "85e59e3d",
   "metadata": {},
   "outputs": [],
   "source": [
    "# 1. What is the name of the feature responsible for generating Regex objects?\n",
    "\n",
    "#Answer: Regular Expressions, also known as “regex” or “regexp”, are used to match strings of text such as particular characters, words, or patterns of characters. It means that we can match and extract any string pattern from the text with the help of regular expressions"
   ]
  },
  {
   "cell_type": "code",
   "execution_count": null,
   "id": "63ec73fb",
   "metadata": {},
   "outputs": [],
   "source": [
    "# 2. Why do raw strings often appear in Regex objects?\n",
    "#Answer:  Raw strings are used so that backslashes do not have to be escaped. \n"
   ]
  },
  {
   "cell_type": "code",
   "execution_count": null,
   "id": "02c500c8",
   "metadata": {},
   "outputs": [],
   "source": [
    "#3. What is the return value of the search() method?\n",
    "#Answer: The search () method returns Match objects."
   ]
  },
  {
   "cell_type": "code",
   "execution_count": null,
   "id": "0ff29f74",
   "metadata": {},
   "outputs": [],
   "source": [
    "# 4. From a Match item, how do you get the actual strings that match the pattern?\n",
    "#Answer: The group() method returns strings of the matched text."
   ]
  },
  {
   "cell_type": "code",
   "execution_count": null,
   "id": "1a27247c",
   "metadata": {},
   "outputs": [],
   "source": [
    "#5. In the regex which created from the r(\\d\\d\\d)-(\\d\\d\\d-\\d\\d\\d\\d), what does group zero cover?Group 2? Group 1?\n",
    "# Answer: Group 0 is the entire match, group 1 covers the first set of parentheses, and group 2 covers the second set of parentheses."
   ]
  },
  {
   "cell_type": "code",
   "execution_count": null,
   "id": "5d01ed7a",
   "metadata": {},
   "outputs": [],
   "source": [
    "# 6. In standard expression syntax, parentheses and intervals have distinct meanings. How can you tell a regex that you want it to fit real parentheses and periods?\n",
    "\n",
    "#Answer: Periods and parentheses can be escaped with a backslash: \\., \\(, and \\)."
   ]
  },
  {
   "cell_type": "code",
   "execution_count": null,
   "id": "8c32fc98",
   "metadata": {},
   "outputs": [],
   "source": [
    "#7. The findall() method returns a string list or a list of string tuples. What causes it to return one of the two options?\n",
    "\n",
    "#Answer: If the regex has no groups, a list of strings is returned. If the regex has groups, a list of tuples of strings is returned."
   ]
  },
  {
   "cell_type": "code",
   "execution_count": null,
   "id": "30482acd",
   "metadata": {},
   "outputs": [],
   "source": [
    "#8. In standard expressions, what does the | character mean?\n",
    "#Answer: The | character signifies matching \"either, or\" between two groups."
   ]
  },
  {
   "cell_type": "code",
   "execution_count": null,
   "id": "b8be6fbd",
   "metadata": {},
   "outputs": [],
   "source": [
    "#9. In regular expressions, what does the character stand for?\n",
    "\n",
    "#Asnwer: A character set is an explicit list of the characters that may qualify for a match in a search. "
   ]
  },
  {
   "cell_type": "code",
   "execution_count": null,
   "id": "0f1c8c37",
   "metadata": {},
   "outputs": [],
   "source": [
    "\n",
    "# 10.In regular expressions, what is the difference between the + and * characters?\n",
    "#Answer: Each of them are quantifiers, the star quantifier(*) means that the preceding expression can match zero or more times it is like {0,} while the plus quantifier(+) indicate that the preceding expression MUST match at least one time or multiple times and it is the same as {1,}"
   ]
  },
  {
   "cell_type": "code",
   "execution_count": null,
   "id": "08a0e181",
   "metadata": {},
   "outputs": [],
   "source": [
    "#11. What is the difference between {4} and {4,5} in regular expression?\n",
    "#Answer: The {4} matches exactly four  instances of the preceding group. \n",
    "#The {4,5} matches between four  and five instances. \n"
   ]
  },
  {
   "cell_type": "code",
   "execution_count": null,
   "id": "ef522de9",
   "metadata": {},
   "outputs": [],
   "source": [
    "#12. What do you mean by the \\d, \\w, and \\s shorthand character classes signify in regular expressions?\n",
    "Answer= \"\"\" The \\d, stands for single digit, Any numeric digit from 0 to 9\n",
    "\\w, stands for single word, Any letter, numeric digit, or the underscore character. (Think of this as matching “word” \n",
    "characters.)\n",
    "\\s stands for single space character, Any space, tab, or newline character. (Think of this as matching “space” \n",
    "characters.) \"\"\""
   ]
  },
  {
   "cell_type": "code",
   "execution_count": null,
   "id": "f045fc95",
   "metadata": {},
   "outputs": [],
   "source": [
    "# 13. What do means by \\D, \\W, and \\S shorthand character classes signify in regular expressions?\n",
    "\n",
    "#Answer:\n",
    "\n",
    "# \\D - > Any character that is not a numeric digit from 0 to 9.\n",
    "# \\W - > Any character that is not a letter, numeric digit, or the underscore character.\n",
    "# \\S - > Any character that is not a space, tab, or newline.\n"
   ]
  },
  {
   "cell_type": "code",
   "execution_count": null,
   "id": "617639ed",
   "metadata": {},
   "outputs": [],
   "source": [
    "# 14. What is the difference between .*? and .*?\n",
    "Answer= \"\"\" .* - > The dot-star uses greedy mode: It will always try to match as much text as possible.\n",
    ".*? - > To match any and all text in a non-greedy fashion, use the dot, star, and question mark (.*?). Like with braces, \n",
    "the question mark tells Python to match in a non-greedy way. \"\"\""
   ]
  },
  {
   "cell_type": "code",
   "execution_count": null,
   "id": "5a75f21c",
   "metadata": {},
   "outputs": [],
   "source": [
    "\n",
    "# 15. What is the syntax for matching both numbers and lowercase letters with a character class?\n",
    "#Answr: Either [0-9a-z] or [a-z0-9]\n"
   ]
  },
  {
   "cell_type": "code",
   "execution_count": null,
   "id": "8fa33926",
   "metadata": {},
   "outputs": [],
   "source": [
    "reg1 = re.compile(r'[0-9a-z]')\n",
    "reg2 = re.compile(r'[a-z0-9]')\n",
    "\n",
    "mo1 = reg1.search('100 times I am Reading  this for 100 th time')\n",
    "mo1.group()\n",
    "'1'\n",
    "reg2 = re.compile(r'[a-z0-9]')\n",
    "\n",
    "mo1 = reg2.search('times I am Reading  this for 100 th time')\n",
    "mo1.group()\n",
    "'t'"
   ]
  },
  {
   "cell_type": "code",
   "execution_count": null,
   "id": "b39c0da9",
   "metadata": {},
   "outputs": [],
   "source": [
    "# 16. What is the procedure for making a normal expression in regax case insensitive?\n",
    "\n",
    "Answer= \"\"\" Passing re.I or re.IGNORECASE as the second argument to re.compile() will make the matching case insensitive\n",
    "casesen = re.compile(r'machine', re.I)\n",
    "casesen.search('Machine learning is part of data science').group()\n",
    "'Machine'\n",
    "casesen.search('MACHINE is learning.').group()\n",
    "'MACHINE'  \"\"\""
   ]
  },
  {
   "cell_type": "code",
   "execution_count": null,
   "id": "58735765",
   "metadata": {},
   "outputs": [],
   "source": [
    "# 17. What does the . character normally match? What does it match if re.DOTALL is passed as 2nd argument in re.compile()?\n",
    "# The . character normally matches any character except the newline character. \n",
    "#If re.DOTALL is passed as the second argument to re.compile(), then the dot will also match newline characters."
   ]
  },
  {
   "cell_type": "code",
   "execution_count": null,
   "id": "319d8704",
   "metadata": {},
   "outputs": [],
   "source": [
    "#18. If numReg = re.compile(r&#39;\\d+&#39;), what will numRegex.sub(&#39;X&#39;, &#39;11 drummers, 10 pipers, five rings, 4) return?"
   ]
  },
  {
   "cell_type": "code",
   "execution_count": null,
   "id": "eb2fa48b",
   "metadata": {},
   "outputs": [],
   "source": [
    "Answer= \"\"\"  numRegex = re.compile(r'\\d+')\n",
    "mo = numRegex.sub('X', '11 drummers, 10 pipers, five rings, 4 hen')\n",
    "mo\n",
    "\n",
    "\n",
    "X drummers, X pipers, five rings, X hen'  \"\"\""
   ]
  },
  {
   "cell_type": "code",
   "execution_count": null,
   "id": "2257ab98",
   "metadata": {},
   "outputs": [],
   "source": [
    "#19. What does passing re.VERBOSE as the 2nd argument to re.compile() allow to do?\n",
    "#Answer: The re.VERBOSE argument allows you to add whitespace and comments to the string passed to re.compile()"
   ]
  },
  {
   "cell_type": "code",
   "execution_count": null,
   "id": "b29edb24",
   "metadata": {},
   "outputs": [],
   "source": [
    "# 20. How would you write a regex that match a number with comma for every three digits? It must match the given following:\n",
    "\n",
    "'42'\n",
    "'1,234'\n",
    "'6,368,745'\n",
    "\n",
    " but not the following:\n",
    "\n",
    "'12,34,567' (which has only two digits between the commas)\n",
    "'1234' (which lacks commas)\n",
    "\n",
    "\n",
    "#Answer: "
   ]
  },
  {
   "cell_type": "code",
   "execution_count": null,
   "id": "bd768931",
   "metadata": {},
   "outputs": [],
   "source": [
    "reg1 = re.compile(r'^\\d{1,3}(,\\d{3})*$')\n",
    "mo1 = reg1.search('42')\n",
    "mo1.group()\n",
    "\n",
    "\n",
    "'42'\n",
    "\n",
    "reg1 = re.compile(r'^\\d{1,3}(,\\d{3})*$')\n",
    "mo1 = reg1.search('1,234')\n",
    "mo1.group()\n",
    "\n",
    "\n",
    "\n",
    "'1,234'\n",
    "\n",
    "\n",
    "reg1 = re.compile(r'^\\d{1,3}(,\\d{3})*$')\n",
    "mo1 = reg1.search('6,368,745')\n",
    "mo1.group()\n",
    "\n",
    "\n",
    "\n",
    "'6,368,745'"
   ]
  },
  {
   "cell_type": "code",
   "execution_count": null,
   "id": "f600fd6a",
   "metadata": {},
   "outputs": [],
   "source": [
    "#21. How would you write a regex that matches the full name of someone whose last name is\n",
    "Watanabe? You can assume that the first name that comes before it will always be one word that\n",
    "begins with a capital letter. The regex must match the following:\n",
    "&#39;Haruto Watanabe&#39;\n",
    "&#39;Alice Watanabe&#39;\n",
    "&#39;RoboCop Watanabe&#39;\n",
    "but not the following:\n",
    "&#39;haruto Watanabe&#39; (where the first name is not capitalized)\n",
    "&#39;Mr. Watanabe&#39; (where the preceding word has a nonletter character)\n",
    "&#39;Watanabe&#39; (which has no first name)\n",
    "&#39;Haruto watanabe&#39; (where Watanabe is not capitalized)"
   ]
  },
  {
   "cell_type": "code",
   "execution_count": null,
   "id": "9fa9c22b",
   "metadata": {},
   "outputs": [],
   "source": [
    "name = re.compile(r'[A-Z][a-z]*\\sWatanabe')\n",
    "reg1 = re.compile(r'^\\d{1,3}(,\\d{haruto Watanabe3})*$')\n",
    "mo1 = name.search('Haruto Watanabe')\n",
    "mo1.group()"
   ]
  },
  {
   "cell_type": "code",
   "execution_count": null,
   "id": "a4bd8890",
   "metadata": {},
   "outputs": [],
   "source": [
    "name = re.compile(r'[A-Z][a-z]*\\sWatanabe')\n",
    "reg1 = re.compile(r'^\\d{1,3}(,\\d{3})*$')\n",
    "mo1 = name.search('Alice Watanabe')\n",
    "mo1.group()"
   ]
  },
  {
   "cell_type": "code",
   "execution_count": null,
   "id": "53e0125d",
   "metadata": {},
   "outputs": [],
   "source": [
    "name = re.compile(r'[A-Z][a-z]*\\sWatanabe')\n",
    "reg1 = re.compile(r'^\\d{1,3}(,\\d{3})*$')\n",
    "mo1 = name.search('Robocop Watanabe')\n",
    "mo1.group()"
   ]
  },
  {
   "cell_type": "code",
   "execution_count": null,
   "id": "f838b4e3",
   "metadata": {},
   "outputs": [],
   "source": [
    "name = re.compile(r'[A-Z][a-z]*\\sWatanabe')\n",
    "reg1 = re.compile(r'^\\d{1,3}(,\\d{3})*$')\n",
    "mo1 = name.search('haruto Watanabe')\n",
    "mo1.group()"
   ]
  },
  {
   "cell_type": "code",
   "execution_count": null,
   "id": "ae487121",
   "metadata": {},
   "outputs": [],
   "source": [
    "# 22. How would you write a regex that matches a sentence where the first word is either Alice, Bob,or Carol; the second word is either eats, pets, or throws; the third word is apples, cats, or baseballs; and the sentence ends with a period? This regex should be case-insensitive. It must match the following:\n",
    "'Alice eats apples.'\n",
    "'Bob pets cats.'\n",
    "'Carol throws baseballs.'\n",
    "'Alice throws Apples.'\n",
    "'BOB EATS CATS.'\n",
    "\n",
    "but not the following:\n",
    "\n",
    "'RoboCop eats apples.'\n",
    "'ALICE THROWS FOOTBALLS.'\n",
    "'Carol eats 7 cats.'"
   ]
  },
  {
   "cell_type": "code",
   "execution_count": null,
   "id": "01293bd7",
   "metadata": {},
   "outputs": [],
   "source": [
    "name = re.compile(r'(Alice|Bob|Carol)\\s(eats|pets|throws)\\s(apples|cats|baseballs)\\.', re.IGNORECASE)\n",
    "\n",
    "mo1 = name.search('Alice eats apples.')\n",
    "mo1.group()\n",
    "'Alice eats apples.'"
   ]
  }
 ],
 "metadata": {
  "kernelspec": {
   "display_name": "Python 3 (ipykernel)",
   "language": "python",
   "name": "python3"
  },
  "language_info": {
   "codemirror_mode": {
    "name": "ipython",
    "version": 3
   },
   "file_extension": ".py",
   "mimetype": "text/x-python",
   "name": "python",
   "nbconvert_exporter": "python",
   "pygments_lexer": "ipython3",
   "version": "3.9.7"
  }
 },
 "nbformat": 4,
 "nbformat_minor": 5
}
