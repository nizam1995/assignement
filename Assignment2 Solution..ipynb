{
 "cells": [
  {
   "cell_type": "code",
   "execution_count": null,
   "id": "92d2cfec",
   "metadata": {},
   "outputs": [],
   "source": [
    "#Assignment2"
   ]
  },
  {
   "cell_type": "code",
   "execution_count": null,
   "id": "54f68384",
   "metadata": {},
   "outputs": [],
   "source": [
    "\n"
   ]
  },
  {
   "cell_type": "code",
   "execution_count": null,
   "id": "f58f471f",
   "metadata": {},
   "outputs": [],
   "source": [
    "#1.What are the two values of the Boolean data type? How do you write them?\n",
    "#Two boolean data types are True or False. Notice that 'T' and 'F' are capital. true and false are not valid booleans and Python will throw an error for them. Internally Python represents True as 1 and False as 0.\n"
   ]
  },
  {
   "cell_type": "code",
   "execution_count": null,
   "id": "dc6e9aa4",
   "metadata": {},
   "outputs": [],
   "source": [
    "#2. What are the three different types of Boolean operators?\n",
    "#The three different types of Boolean operators are_ and , or , and not \n",
    "\n"
   ]
  },
  {
   "cell_type": "code",
   "execution_count": null,
   "id": "bb43d5dc",
   "metadata": {},
   "outputs": [],
   "source": [
    "#3. Make a list of each Boolean operator's truth tables (i.e. every possible combination of Boolean values for the operator and what it evaluate ).\n",
    "\n",
    "# and\tTrue if both are true\tx and y\n",
    "# or\tTrue if at least one is true\tx or y\n",
    "# not\tTrue only if false\tnot x\n"
   ]
  },
  {
   "cell_type": "code",
   "execution_count": null,
   "id": "b17b8cee",
   "metadata": {},
   "outputs": [],
   "source": [
    "#4. What are the values of the following expressions?\n",
    "#(5 > 4) and (3 == 5) \n",
    "#Ans: False\n",
    "\n",
    "#not (5 > 4) \n",
    "#Ans: True\n",
    "\n",
    "#(5 > 4) or (3 == 5)\n",
    "#Ans: True\n",
    "\n",
    "#not ((5 > 4) or (3 == 5))\n",
    "#Ans: False\n",
    "\n",
    "#(True and True) and (True == False)\n",
    "#Ans: False\n",
    "\n",
    "#(not False) or (not True)\n",
    "#Ans: True\n"
   ]
  },
  {
   "cell_type": "code",
   "execution_count": null,
   "id": "fff45587",
   "metadata": {},
   "outputs": [],
   "source": [
    "#5. What are the six comparison operators?\n",
    "#Ans:  less than ( < ), less than or equal to ( <= ), greater than ( > ), greater than or equal to ( >= ), equal to ( == ), and not equal to ( != ).\n"
   ]
  },
  {
   "cell_type": "code",
   "execution_count": 5,
   "id": "6ce2da9c",
   "metadata": {},
   "outputs": [],
   "source": [
    "#6. How do you tell the difference between the equal to and assignment operators? Describe a condition and when you would use one.\n",
    "#The “=” is an assignment operator is used to assign the value on the right to the variable on the left. The '==' operator checks whether the two given operands are equal or not. If so, it returns true.\n",
    "#Example:\n",
    "\n",
    "#Assigning a value: \n",
    "#a=5\n",
    "\n",
    "#Comparison:\n",
    "#If a==5 \n"
   ]
  },
  {
   "cell_type": "code",
   "execution_count": null,
   "id": "607ef128",
   "metadata": {},
   "outputs": [],
   "source": [
    "#7. Identify the three blocks in this code:\n",
    "spam = 0\n",
    "if spam == 10: #Block1\n",
    "    print('eggs')\n",
    "if spam > 5:# Block2\n",
    "    print('bacon')\n",
    "else:# Block3\n",
    "    print('ham')\n",
    "    print('spam')\n",
    "    print('spam')\n"
   ]
  },
  {
   "cell_type": "code",
   "execution_count": null,
   "id": "4924e32c",
   "metadata": {},
   "outputs": [],
   "source": [
    "#8. Write code that prints Hello if 1 is stored in spam, prints Howdy if 2 is stored in spam, and prints Greetings! if anything else is stored in spam.\n",
    "\n",
    "\n",
    "\n",
    "spam=int(input())\n",
    "if spam == 1: \n",
    "    print(\"Hello\")\n",
    "if spam ==2: \n",
    "    print(\"Howdy\")\n",
    "else:\n",
    "    print(\"Greetings\")\n"
   ]
  },
  {
   "cell_type": "code",
   "execution_count": null,
   "id": "842a5df7",
   "metadata": {},
   "outputs": [],
   "source": [
    "# 9.If your programme is stuck in an endless loop, what keys you’ll press?"
   ]
  },
  {
   "cell_type": "code",
   "execution_count": null,
   "id": "28408ea6",
   "metadata": {},
   "outputs": [],
   "source": [
    "#An infinite loop occurs when a program keeps executing within one loop, never leaving it. To exit out of infinite loops on the command line, press CTRL + C ."
   ]
  },
  {
   "cell_type": "code",
   "execution_count": null,
   "id": "56d49944",
   "metadata": {},
   "outputs": [],
   "source": [
    "#10. How can you tell the difference between break and continue?"
   ]
  },
  {
   "cell_type": "code",
   "execution_count": null,
   "id": "fedee1f5",
   "metadata": {},
   "outputs": [],
   "source": [
    "#The main difference between both the statements is that when break keyword comes, it terminates the execution of the current loop and passes the control over the next loop or main body, whereas when continue keyword is encountered, it skips the current iteration and pass the control to the main function. "
   ]
  },
  {
   "cell_type": "code",
   "execution_count": null,
   "id": "5a73c36c",
   "metadata": {},
   "outputs": [],
   "source": [
    "#11. In a for loop, what is the difference between range(10), range(0, 10), and range(0, 10, 1)?"
   ]
  },
  {
   "cell_type": "code",
   "execution_count": 1,
   "id": "3ad827ec",
   "metadata": {},
   "outputs": [
    {
     "name": "stdout",
     "output_type": "stream",
     "text": [
      "0\n",
      "1\n",
      "2\n",
      "3\n",
      "4\n",
      "5\n",
      "6\n",
      "7\n",
      "8\n",
      "9\n"
     ]
    }
   ],
   "source": [
    "for i  in range(10):\n",
    "    print(i)"
   ]
  },
  {
   "cell_type": "code",
   "execution_count": 2,
   "id": "9362de3f",
   "metadata": {},
   "outputs": [
    {
     "name": "stdout",
     "output_type": "stream",
     "text": [
      "0\n",
      "1\n",
      "2\n",
      "3\n",
      "4\n",
      "5\n",
      "6\n",
      "7\n",
      "8\n",
      "9\n"
     ]
    }
   ],
   "source": [
    "for i  in range(0, 10):\n",
    "    print(i)"
   ]
  },
  {
   "cell_type": "code",
   "execution_count": 3,
   "id": "a91559ba",
   "metadata": {},
   "outputs": [
    {
     "name": "stdout",
     "output_type": "stream",
     "text": [
      "0\n",
      "1\n",
      "2\n",
      "3\n",
      "4\n",
      "5\n",
      "6\n",
      "7\n",
      "8\n",
      "9\n"
     ]
    }
   ],
   "source": [
    "for i  in range(0, 10,1):\n",
    "    print(i)"
   ]
  },
  {
   "cell_type": "code",
   "execution_count": 4,
   "id": "c8250e82",
   "metadata": {},
   "outputs": [],
   "source": [
    "# there no diference between  range(10), range(0, 10) ,  range(0, 10, 1) in foor loop\n"
   ]
  },
  {
   "cell_type": "code",
   "execution_count": null,
   "id": "149b15a1",
   "metadata": {},
   "outputs": [],
   "source": [
    "#12. Write a short program that prints the numbers 1 to 10 using a for loop."
   ]
  },
  {
   "cell_type": "code",
   "execution_count": 5,
   "id": "0feb2aa9",
   "metadata": {},
   "outputs": [
    {
     "name": "stdout",
     "output_type": "stream",
     "text": [
      "1\n",
      "2\n",
      "3\n",
      "4\n",
      "5\n",
      "6\n",
      "7\n",
      "8\n",
      "9\n"
     ]
    }
   ],
   "source": [
    "for i  in range(0, 10):\n",
    "    if i>0:\n",
    "         print(i)\n",
    "   "
   ]
  },
  {
   "cell_type": "code",
   "execution_count": null,
   "id": "979eee09",
   "metadata": {},
   "outputs": [],
   "source": [
    "# 13. If you had a function named bacon() inside a module named spam, how would you call it after\n",
    "importing spam?"
   ]
  },
  {
   "cell_type": "code",
   "execution_count": null,
   "id": "4cf0d035",
   "metadata": {},
   "outputs": [],
   "source": [
    "#If you had a function named bacon() inside a module named spam, how would you call it after importing spam ? This function can be called with spam. bacon()."
   ]
  }
 ],
 "metadata": {
  "kernelspec": {
   "display_name": "Python 3 (ipykernel)",
   "language": "python",
   "name": "python3"
  },
  "language_info": {
   "codemirror_mode": {
    "name": "ipython",
    "version": 3
   },
   "file_extension": ".py",
   "mimetype": "text/x-python",
   "name": "python",
   "nbconvert_exporter": "python",
   "pygments_lexer": "ipython3",
   "version": "3.9.7"
  }
 },
 "nbformat": 4,
 "nbformat_minor": 5
}
