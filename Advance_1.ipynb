{
 "cells": [
  {
   "cell_type": "code",
   "execution_count": null,
   "id": "a01c77ff",
   "metadata": {},
   "outputs": [],
   "source": [
    "# Q1. What is the purpose of Python&#39;s OOP?"
   ]
  },
  {
   "cell_type": "code",
   "execution_count": null,
   "id": "7f81ffa2",
   "metadata": {},
   "outputs": [],
   "source": [
    "In Python, object-oriented Programming (OOPs) is a programming paradigm that uses objects and classes in programming. It aims to implement real-world entities like inheritance, polymorphisms, encapsulation, etc. in the programming"
   ]
  },
  {
   "cell_type": "code",
   "execution_count": null,
   "id": "47ba6dae",
   "metadata": {},
   "outputs": [],
   "source": [
    "#Q2. Where does an inheritance search look for an attribute?"
   ]
  },
  {
   "cell_type": "code",
   "execution_count": null,
   "id": "1405fd66",
   "metadata": {},
   "outputs": [],
   "source": [
    "#In Python, inheritance happens when an object is qualified, and involves searching an attribute definition tree (one or more namespaces). Every time you use an expression of the form object."
   ]
  },
  {
   "cell_type": "code",
   "execution_count": null,
   "id": "69b7b1a9",
   "metadata": {},
   "outputs": [],
   "source": [
    "#Q3. How do you distinguish between a class object and an instance object?"
   ]
  },
  {
   "cell_type": "code",
   "execution_count": null,
   "id": "bc46d840",
   "metadata": {},
   "outputs": [],
   "source": [
    "An object is simply a collection of data (variables) and methods (functions) that act on those data. Similarly, a class is a blueprint for that object. We can think of a class as a sketch (prototype) of a house"
   ]
  },
  {
   "cell_type": "code",
   "execution_count": null,
   "id": "1b061c51",
   "metadata": {},
   "outputs": [],
   "source": [
    "Instance is an object that belongs to a class. For instance, list is a class in Python. When we create a list, we have an instance of the list class."
   ]
  },
  {
   "cell_type": "code",
   "execution_count": null,
   "id": "7e662bf7",
   "metadata": {},
   "outputs": [],
   "source": [
    "#Q4. What makes the first argument in a class’s method function special?"
   ]
  },
  {
   "cell_type": "code",
   "execution_count": null,
   "id": "538cfc2a",
   "metadata": {},
   "outputs": [],
   "source": [
    "The calling process is automatic while the receiving process is not (its explicit). This is the reason the first parameter of a function in class must be the object itself. Writing this parameter as self is merely a convention. It is not a keyword and has no special meaning in Python."
   ]
  },
  {
   "cell_type": "code",
   "execution_count": null,
   "id": "11770f3e",
   "metadata": {},
   "outputs": [],
   "source": [
    "#Q5. What is the purpose of the __init__ method?"
   ]
  },
  {
   "cell_type": "code",
   "execution_count": null,
   "id": "b90ec68d",
   "metadata": {},
   "outputs": [],
   "source": [
    "The purpose of the __init__() method is to initialize the class. It is usually responsible for populating the instance variables"
   ]
  },
  {
   "cell_type": "code",
   "execution_count": null,
   "id": "b39980b8",
   "metadata": {},
   "outputs": [],
   "source": [
    "#Q6. What is the process for creating a class instance?"
   ]
  },
  {
   "cell_type": "code",
   "execution_count": null,
   "id": "3f88fdb3",
   "metadata": {},
   "outputs": [],
   "source": [
    "To create instances of a class, you call the class using class name and pass in whatever arguments its __init__ method accepts."
   ]
  },
  {
   "cell_type": "code",
   "execution_count": null,
   "id": "a9a09f78",
   "metadata": {},
   "outputs": [],
   "source": [
    "#Q7. What is the process for creating a class?"
   ]
  },
  {
   "cell_type": "code",
   "execution_count": null,
   "id": "f7b82432",
   "metadata": {},
   "outputs": [],
   "source": [
    " a class can be created by using the keyword class, followed by the class name. The syntax to create a class is given below. In Python, we must notice that each class is associated with a documentation string which can be accessed by using <class-name>."
   ]
  },
  {
   "cell_type": "code",
   "execution_count": null,
   "id": "48c98147",
   "metadata": {},
   "outputs": [],
   "source": [
    "#Q8. How would you define the superclasses of a class?"
   ]
  },
  {
   "cell_type": "code",
   "execution_count": null,
   "id": "d31f955f",
   "metadata": {},
   "outputs": [],
   "source": [
    "The class from which a class inherits is called the parent or superclass. A class which inherits from a superclass is called a subclass, also called heir class or child class. Superclasses are sometimes called ancestors as well. There exists a hierarchical relationship between classes"
   ]
  }
 ],
 "metadata": {
  "kernelspec": {
   "display_name": "Python 3 (ipykernel)",
   "language": "python",
   "name": "python3"
  },
  "language_info": {
   "codemirror_mode": {
    "name": "ipython",
    "version": 3
   },
   "file_extension": ".py",
   "mimetype": "text/x-python",
   "name": "python",
   "nbconvert_exporter": "python",
   "pygments_lexer": "ipython3",
   "version": "3.9.7"
  }
 },
 "nbformat": 4,
 "nbformat_minor": 5
}
