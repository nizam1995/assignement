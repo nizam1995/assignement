{
 "cells": [
  {
   "cell_type": "code",
   "execution_count": 1,
   "id": "561e223e",
   "metadata": {},
   "outputs": [],
   "source": [
    "# 1. To what does a relative path refer?\n",
    "#Answer: The relative path is the path of a file with respect to your current working directory (PWD).\n"
   ]
  },
  {
   "cell_type": "code",
   "execution_count": 2,
   "id": "8aadc54d",
   "metadata": {},
   "outputs": [],
   "source": [
    "# 2. What does an absolute path start with your operating system?\n",
    "#Answer: An absolute path contains the full set of directories from the root of the file system up to your target file or directory. An absolute path start with the root folder, such as / or C:."
   ]
  },
  {
   "cell_type": "code",
   "execution_count": null,
   "id": "03ac8010",
   "metadata": {},
   "outputs": [],
   "source": [
    "#3. What do the functions os.getcwd() and os.chdir() do?\n",
    "\n",
    "# Answer: getcwd stands for \"get current working directory\". os.getcwd() returns the absolute path of the working directory where Python is currently running as a string str . chdir stabds of \"change directory\". os.chdir() method in Python used to change the current working directory to specified path. It takes only a single argument as new directory path.\n"
   ]
  },
  {
   "cell_type": "code",
   "execution_count": 3,
   "id": "71515d7a",
   "metadata": {},
   "outputs": [],
   "source": [
    "# 4. What are the . and .. folders?\n",
    "#Answer: The . is the current directory, while .. signifies the parent directory."
   ]
  },
  {
   "cell_type": "code",
   "execution_count": null,
   "id": "0303f6d1",
   "metadata": {},
   "outputs": [],
   "source": [
    "# 5. In C:\\bacon\\eggs\\spam.txt, which part is the dir name, and which part is the base name?\n",
    "\n",
    "#Answer: The basename is the final rightmost segment of the file path . In the above path base name is spam.txt. os.path.basename() can be used to extract base name from the path. dir name is th folder name in which file exists. In the above path dir name is C:\\bacon\\eggs . os.path.dirname() can be used to extract dir name form path."
   ]
  },
  {
   "cell_type": "code",
   "execution_count": null,
   "id": "eff56cb2",
   "metadata": {},
   "outputs": [],
   "source": [
    "# 6. What are the three “mode” arguments that can be passed to the open() function?\n",
    "\n",
    "# Answer: mode arguments that can be passed to open () function are: 'r' Open a file for reading. (default) 'w' Open a file for writing. Creates a new file if it does not exist or truncates the file if it exists. 'a' Open for appending at the end of the file without truncating it. Creates a new file if it does not exist. '+' Open a file for updating (reading and writing) "
   ]
  },
  {
   "cell_type": "code",
   "execution_count": null,
   "id": "b3ef3f22",
   "metadata": {},
   "outputs": [],
   "source": [
    "# 7. What happens if an existing file is opened in write mode?\n",
    "\n",
    "# when a existing file is opened in write mode, contens which were previously present will be overwritten by new content passed."
   ]
  },
  {
   "cell_type": "code",
   "execution_count": null,
   "id": "724e9113",
   "metadata": {},
   "outputs": [],
   "source": [
    "# 8. How do you tell the difference between read() and readlines()?\n",
    "\n",
    "#Answer: read() reads the entire contents of the file into a string. readline() just reads file till the next line."
   ]
  },
  {
   "cell_type": "code",
   "execution_count": null,
   "id": "048dca49",
   "metadata": {},
   "outputs": [],
   "source": []
  }
 ],
 "metadata": {
  "kernelspec": {
   "display_name": "Python 3 (ipykernel)",
   "language": "python",
   "name": "python3"
  },
  "language_info": {
   "codemirror_mode": {
    "name": "ipython",
    "version": 3
   },
   "file_extension": ".py",
   "mimetype": "text/x-python",
   "name": "python",
   "nbconvert_exporter": "python",
   "pygments_lexer": "ipython3",
   "version": "3.9.7"
  }
 },
 "nbformat": 4,
 "nbformat_minor": 5
}
