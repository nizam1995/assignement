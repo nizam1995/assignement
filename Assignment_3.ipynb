{
 "cells": [
  {
   "cell_type": "code",
   "execution_count": null,
   "id": "8c6678e7",
   "metadata": {},
   "outputs": [],
   "source": [
    "1. Why are functions advantageous to have in your programs?\n",
    "2. When does the code in a function run: when it&#39;s specified or when it&#39;s called?\n",
    "3. What statement creates a function?\n",
    "4. What is the difference between a function and a function call?\n",
    "5. How many global scopes are there in a Python program? How many local scopes?\n",
    "6. What happens to variables in a local scope when the function call returns?\n",
    "7. What is the concept of a return value? Is it possible to have a return value in an expression?\n",
    "8. If a function does not have a return statement, what is the return value of a call to that function?\n",
    "9. How do you make a function variable refer to the global variable?\n",
    "10. What is the data type of None?\n",
    "11. What does the sentence import areallyourpetsnamederic do?\n",
    "12. If you had a bacon() feature in a spam module, what would you call it after importing spam?\n",
    "13. What can you do to save a programme from crashing if it encounters an error?\n",
    "14. What is the purpose of the try clause? What is the purpose of the except clause?"
   ]
  },
  {
   "cell_type": "code",
   "execution_count": null,
   "id": "d61e3f88",
   "metadata": {},
   "outputs": [],
   "source": [
    "# 1. Why are functions advantageous to have in your programs?\n",
    "# Ans: Functions reduce the need for duplicate code. This makes programs shorter, easier to read, and easier to update."
   ]
  },
  {
   "cell_type": "code",
   "execution_count": null,
   "id": "a4cb164f",
   "metadata": {},
   "outputs": [],
   "source": [
    "# 2. When does the code in a function run: when it's specified or when  it's called?\n",
    "#Ans: A Function in Python is a piece of code which runs when it is referenced. It is used to utilize the code in more than one place in a program\n",
    "# When a function is called the program control jumps to that function definition and executes the statements inside the function body. After executing the body of the function, the program control jumps back to the part of the program which called the function, and resumes execution at that point"
   ]
  },
  {
   "cell_type": "code",
   "execution_count": null,
   "id": "71265f0f",
   "metadata": {},
   "outputs": [],
   "source": [
    "# 4. What is the difference between a function and a function call?\n",
    "\n",
    "#A function is a block of code that does a particular operation and returns a result. It usually accepts inputs as parameters and returns a result. The parameters are not mandatory.\n",
    "\n",
    "#E.g:\n",
    "#Function add(a,b)\n",
    "#return a+ b\n",
    "\n",
    "#A function call is the code used to pass control to a function.\n",
    "\n",
    "#E.g.:\n",
    "\n",
    "#b = add(5,6)\n",
    "\n",
    "#Now b will have the value 11."
   ]
  },
  {
   "cell_type": "code",
   "execution_count": null,
   "id": "e90587ec",
   "metadata": {},
   "outputs": [],
   "source": [
    "#5. How many global scopes are there in a Python program? How many local scopes?\n",
    "# There's only one global Python scope per program execution. This scope remains in existence until the program terminates and all its names are forgotten."
   ]
  },
  {
   "cell_type": "code",
   "execution_count": null,
   "id": "f0eda40f",
   "metadata": {},
   "outputs": [],
   "source": [
    "# 6. What happens to variables in a local scope when the function call returns?\n",
    "#When the execution of the function terminates (returns), the local variables are destroyed. Codelens helps you visualize this because the local variables disappear after the function returns."
   ]
  },
  {
   "cell_type": "code",
   "execution_count": 1,
   "id": "fcb19cb7",
   "metadata": {},
   "outputs": [],
   "source": [
    "#7. What is the concept of a return value? Is it possible to have a return value in an expression?\n",
    "\n",
    "#A return statement is used to end the execution of the function call and “returns” the result (value of the expression following the return keyword) to the caller.\n",
    "#yes, you can use that value in a math expression or any other kind of expression in which the value has a logical or coherent meaning.\n"
   ]
  },
  {
   "cell_type": "code",
   "execution_count": null,
   "id": "bdce8c14",
   "metadata": {},
   "outputs": [],
   "source": [
    "#8.  If a function does not have a return statement, what is the return value of a call to that function?\n",
    "# Ans: If no return statement appears in a function definition, control automatically returns to the calling function after the last statement of the called function is executed"
   ]
  },
  {
   "cell_type": "code",
   "execution_count": 2,
   "id": "2b25f3c2",
   "metadata": {},
   "outputs": [],
   "source": [
    "# 9. How do you make a function variable refer to the global variable?\n",
    "#Ans: If you want to refer to a global variable in a function, you can use the global keyword to declare which variables are global"
   ]
  },
  {
   "cell_type": "code",
   "execution_count": 6,
   "id": "fa0ee18b",
   "metadata": {},
   "outputs": [
    {
     "name": "stdout",
     "output_type": "stream",
     "text": [
      "None\n"
     ]
    }
   ],
   "source": [
    "#10. What is the data type of None?\n",
    "#Ans: The None keyword is used to define a null value, or no value at all. None is not the same as 0, False, or an empty string. None is a data type of its own (NoneType) and only None can be None."
   ]
  },
  {
   "cell_type": "code",
   "execution_count": null,
   "id": "518a8ebf",
   "metadata": {},
   "outputs": [],
   "source": [
    "#11. What does the sentence import areallyourpetsnamederic do?\n",
    "#Ans: it imports a module named areallyourpetsnamederic."
   ]
  },
  {
   "cell_type": "code",
   "execution_count": null,
   "id": "2869bea9",
   "metadata": {},
   "outputs": [],
   "source": [
    "#12. If you had a bacon() feature in a spam module, what would you call it after importing spam?\n",
    "\n",
    "# Ans: This function can be called with spam. bacon()."
   ]
  },
  {
   "cell_type": "code",
   "execution_count": null,
   "id": "744c1b2b",
   "metadata": {},
   "outputs": [],
   "source": [
    "#13. What can you do to save a programme from crashing if it encounters an error?\n",
    "#Ans: In order to handle error in the programe we can use  try and except in the programme. when the run time error occur in the programe the control pass to except block to handle it. "
   ]
  },
  {
   "cell_type": "code",
   "execution_count": 12,
   "id": "9d20e34a",
   "metadata": {},
   "outputs": [
    {
     "name": "stdout",
     "output_type": "stream",
     "text": [
      "1\n",
      "0\n",
      "division by zero\n"
     ]
    }
   ],
   "source": [
    "a=int(input())\n",
    "b=int(input())\n",
    "try:\n",
    "    c=a/b\n",
    "    print(c)\n",
    "except  Exception as e:\n",
    "    print(e)\n",
    "    \n"
   ]
  },
  {
   "cell_type": "code",
   "execution_count": null,
   "id": "09e63fa9",
   "metadata": {},
   "outputs": [],
   "source": [
    "# 14. What is the purpose of the try clause? What is the purpose of the except clause?\n",
    "#The try statement allows you to define a block of code to be tested for errors while it is being executed. The except statement allows you to define a block of code to be executed, if an error occurs in the try block.\n"
   ]
  }
 ],
 "metadata": {
  "kernelspec": {
   "display_name": "Python 3 (ipykernel)",
   "language": "python",
   "name": "python3"
  },
  "language_info": {
   "codemirror_mode": {
    "name": "ipython",
    "version": 3
   },
   "file_extension": ".py",
   "mimetype": "text/x-python",
   "name": "python",
   "nbconvert_exporter": "python",
   "pygments_lexer": "ipython3",
   "version": "3.9.7"
  }
 },
 "nbformat": 4,
 "nbformat_minor": 5
}
