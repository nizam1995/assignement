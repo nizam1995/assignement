{
 "cells": [
  {
   "cell_type": "markdown",
   "id": "339339ee",
   "metadata": {},
   "source": [
    "1. Write a Python program to find words which are greater than given length k?\n",
    "2. Write a Python program for removing i-th character from a string?\n",
    "3. Write a Python program to split and join a string?\n",
    "4. Write a Python to check if a given string is binary string or not?\n",
    "5. Write a Python program to find uncommon words from two Strings?\n",
    "6. Write a Python to find all duplicate characters in string?\n",
    "7. Write a Python Program to check if a string contains any special character?"
   ]
  },
  {
   "cell_type": "code",
   "execution_count": 1,
   "id": "85c783c2",
   "metadata": {},
   "outputs": [],
   "source": [
    "#Write a Python program to find words which are greater than given length k?"
   ]
  },
  {
   "cell_type": "code",
   "execution_count": 7,
   "id": "464b9e8b",
   "metadata": {},
   "outputs": [
    {
     "name": "stdout",
     "output_type": "stream",
     "text": [
      "Nizam\n"
     ]
    }
   ],
   "source": [
    "l=\" well done Nizam\"\n",
    "k=4\n",
    "for i in l.split():\n",
    "    if len(i)>k:\n",
    "        print(i)"
   ]
  },
  {
   "cell_type": "code",
   "execution_count": null,
   "id": "d551a1b5",
   "metadata": {},
   "outputs": [],
   "source": [
    "#Write a Python program for removing i-th character from a string?"
   ]
  },
  {
   "cell_type": "code",
   "execution_count": 19,
   "id": "4a398138",
   "metadata": {},
   "outputs": [
    {
     "name": "stdout",
     "output_type": "stream",
     "text": [
      "2\n"
     ]
    },
    {
     "data": {
      "text/plain": [
       "'wel done Nizam'"
      ]
     },
     "execution_count": 19,
     "metadata": {},
     "output_type": "execute_result"
    }
   ],
   "source": [
    "l=\"well done Nizam\"\n",
    "new_str = \"\"\n",
    "n= int(input())\n",
    "for i in range(len(l)):\n",
    "    if i != n:\n",
    "        new_str = new_str + l[i]\n",
    "        \n",
    "new_str"
   ]
  },
  {
   "cell_type": "code",
   "execution_count": 13,
   "id": "6375487a",
   "metadata": {},
   "outputs": [],
   "source": [
    "#write a Python program to split and join a string?"
   ]
  },
  {
   "cell_type": "code",
   "execution_count": 28,
   "id": "b99961a0",
   "metadata": {},
   "outputs": [
    {
     "data": {
      "text/plain": [
       "'well , done , Nizam'"
      ]
     },
     "execution_count": 28,
     "metadata": {},
     "output_type": "execute_result"
    }
   ],
   "source": [
    "l=\"well done Nizam\"\n",
    "\n",
    "n=''\n",
    "for i in l:\n",
    "     n=n+i\n",
    "     if i== \" \":\n",
    "        n= str(n+', ')\n",
    "       \n",
    "n"
   ]
  },
  {
   "cell_type": "code",
   "execution_count": 40,
   "id": "2d6c8858",
   "metadata": {},
   "outputs": [],
   "source": [
    "k=str(l.split())"
   ]
  },
  {
   "cell_type": "code",
   "execution_count": 41,
   "id": "e4d38a6d",
   "metadata": {},
   "outputs": [
    {
     "data": {
      "text/plain": [
       "\"d['well', 'done', 'Nizam']a['well', 'done', 'Nizam']t['well', 'done', 'Nizam']a\""
      ]
     },
     "execution_count": 41,
     "metadata": {},
     "output_type": "execute_result"
    }
   ],
   "source": [
    "\n",
    "k.join('data')"
   ]
  },
  {
   "cell_type": "code",
   "execution_count": 36,
   "id": "d88b3d40",
   "metadata": {},
   "outputs": [
    {
     "data": {
      "text/plain": [
       "\"['well', 'done', 'Nizam']\""
      ]
     },
     "execution_count": 36,
     "metadata": {},
     "output_type": "execute_result"
    }
   ],
   "source": []
  },
  {
   "cell_type": "code",
   "execution_count": 42,
   "id": "1f5da8f2",
   "metadata": {},
   "outputs": [],
   "source": [
    "# Write a Python to check if a given string is binary string or not?"
   ]
  },
  {
   "cell_type": "code",
   "execution_count": 43,
   "id": "77ba642f",
   "metadata": {},
   "outputs": [],
   "source": [
    "bi='10101'\n",
    "li='data01'\n",
    "ki='1234'\n"
   ]
  },
  {
   "cell_type": "code",
   "execution_count": 49,
   "id": "3678bdf7",
   "metadata": {},
   "outputs": [],
   "source": [
    "def check (l):\n",
    "    flag=0\n",
    "    for i in l:\n",
    "        if i!='0' and i !='1':\n",
    "            flag=1\n",
    "            break\n",
    "    if flag ==0:\n",
    "        return l, 'is binary string'\n",
    "    else:\n",
    "        return l, 'is not  binary string'"
   ]
  },
  {
   "cell_type": "code",
   "execution_count": 50,
   "id": "d799f3c9",
   "metadata": {},
   "outputs": [
    {
     "data": {
      "text/plain": [
       "('10101', 'is binary string')"
      ]
     },
     "execution_count": 50,
     "metadata": {},
     "output_type": "execute_result"
    }
   ],
   "source": [
    "check(bi)"
   ]
  },
  {
   "cell_type": "code",
   "execution_count": 52,
   "id": "2748502c",
   "metadata": {},
   "outputs": [
    {
     "data": {
      "text/plain": [
       "('data01', 'is not  binary string')"
      ]
     },
     "execution_count": 52,
     "metadata": {},
     "output_type": "execute_result"
    }
   ],
   "source": [
    "check(li)"
   ]
  },
  {
   "cell_type": "code",
   "execution_count": 56,
   "id": "98337422",
   "metadata": {},
   "outputs": [
    {
     "name": "stdout",
     "output_type": "stream",
     "text": [
      "1\n",
      "0\n",
      "1\n",
      "0\n",
      "1\n",
      "10101 is binary string\n"
     ]
    }
   ],
   "source": [
    "#Write a Python program to find uncommon words from two Strings?"
   ]
  },
  {
   "cell_type": "code",
   "execution_count": 57,
   "id": "e267bbe9",
   "metadata": {},
   "outputs": [],
   "source": [
    "a='nizam'\n",
    "b='malik'"
   ]
  },
  {
   "cell_type": "code",
   "execution_count": 59,
   "id": "9b85878b",
   "metadata": {},
   "outputs": [
    {
     "name": "stdout",
     "output_type": "stream",
     "text": [
      "n\n",
      "z\n",
      "l\n",
      "k\n"
     ]
    }
   ],
   "source": [
    "for i in a:\n",
    "    if i in b:\n",
    "        pass\n",
    "    else:\n",
    "        print(i)\n",
    "\n",
    "for j in b:\n",
    "    if j in a:\n",
    "        pass\n",
    "    else:\n",
    "        print(j)"
   ]
  },
  {
   "cell_type": "code",
   "execution_count": 74,
   "id": "ddd88ba9",
   "metadata": {},
   "outputs": [],
   "source": [
    "# Write a Python to find all duplicate characters in string?\n",
    "x= 'nizam_malik'\n",
    "temp=[]\n",
    "for i in x:\n",
    "    if x.count(i)>1:\n",
    "        if i not in temp:\n",
    "            temp.append(i)\n",
    "            \n",
    "       \n",
    "        \n"
   ]
  },
  {
   "cell_type": "code",
   "execution_count": 75,
   "id": "2bf49cad",
   "metadata": {},
   "outputs": [
    {
     "data": {
      "text/plain": [
       "['i', 'a', 'm']"
      ]
     },
     "execution_count": 75,
     "metadata": {},
     "output_type": "execute_result"
    }
   ],
   "source": [
    "temp"
   ]
  },
  {
   "cell_type": "code",
   "execution_count": 76,
   "id": "9801806a",
   "metadata": {},
   "outputs": [],
   "source": [
    "# 7. Write a Python Program to check if a string contains any special character?"
   ]
  },
  {
   "cell_type": "code",
   "execution_count": 83,
   "id": "ee551f47",
   "metadata": {},
   "outputs": [],
   "source": [
    "x= 'nizam#malik'\n",
    "y= 'nizam malik'"
   ]
  },
  {
   "cell_type": "code",
   "execution_count": 78,
   "id": "4b078469",
   "metadata": {},
   "outputs": [],
   "source": [
    "import re"
   ]
  },
  {
   "cell_type": "code",
   "execution_count": 81,
   "id": "12da5984",
   "metadata": {},
   "outputs": [],
   "source": [
    "def special(x):\n",
    "    check= re.compile('[!@#$%^&*()_+]')\n",
    "    if (check.search(x)==None):\n",
    "        print(\"no special charcacter\")\n",
    "    else:\n",
    "        print(\"sepcial character found\")"
   ]
  },
  {
   "cell_type": "code",
   "execution_count": 82,
   "id": "e0b07760",
   "metadata": {},
   "outputs": [
    {
     "name": "stdout",
     "output_type": "stream",
     "text": [
      "sepcial character found\n"
     ]
    }
   ],
   "source": [
    "special(x)"
   ]
  },
  {
   "cell_type": "code",
   "execution_count": 84,
   "id": "8ce2dd06",
   "metadata": {},
   "outputs": [
    {
     "name": "stdout",
     "output_type": "stream",
     "text": [
      "no special charcacter\n"
     ]
    }
   ],
   "source": [
    "special(y)"
   ]
  },
  {
   "cell_type": "code",
   "execution_count": null,
   "id": "0411e8a5",
   "metadata": {},
   "outputs": [],
   "source": []
  }
 ],
 "metadata": {
  "kernelspec": {
   "display_name": "Python 3 (ipykernel)",
   "language": "python",
   "name": "python3"
  },
  "language_info": {
   "codemirror_mode": {
    "name": "ipython",
    "version": 3
   },
   "file_extension": ".py",
   "mimetype": "text/x-python",
   "name": "python",
   "nbconvert_exporter": "python",
   "pygments_lexer": "ipython3",
   "version": "3.9.7"
  }
 },
 "nbformat": 4,
 "nbformat_minor": 5
}
