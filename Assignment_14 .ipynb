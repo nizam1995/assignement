{
 "cells": [
  {
   "cell_type": "code",
   "execution_count": null,
   "id": "5087bf8c",
   "metadata": {},
   "outputs": [],
   "source": [
    "# 1. What does RGBA stand for?\n",
    "\n",
    "Answer: RGBA stands for red, green, blue, and alpha (transparency) in the color\n",
    "An RGBA value is a tuple of 4 integers, each ranging from 0 to 255. The four integers correspond \n",
    "to the amount of red, green, blue, and alpha (transparency) in the color   "
   ]
  },
  {
   "cell_type": "code",
   "execution_count": 1,
   "id": "ec18a698",
   "metadata": {},
   "outputs": [
    {
     "data": {
      "text/plain": [
       "(0, 128, 0, 255)"
      ]
     },
     "execution_count": 1,
     "metadata": {},
     "output_type": "execute_result"
    }
   ],
   "source": [
    "#2. From the Pillow module, how do you get the RGBA value of any images?\n",
    "\n",
    "from PIL import ImageColor\n",
    "ImageColor.getcolor('red', 'RGBA')\n",
    "ImageColor.getcolor('green', 'RGBA')"
   ]
  },
  {
   "cell_type": "code",
   "execution_count": null,
   "id": "b4af46a4",
   "metadata": {},
   "outputs": [],
   "source": [
    "# 3. What is a box tuple, and how does it work?\n",
    "\n",
    "A box tuple is a tuple value of four integers: the left edge x-coordinate, the top edge y-coordinate, the width, and the height, respectively"
   ]
  },
  {
   "cell_type": "code",
   "execution_count": null,
   "id": "6f13a682",
   "metadata": {},
   "outputs": [],
   "source": [
    "#4. Use your image and load in notebook then, How can you find out the width and height of an\n",
    "Image object? \n",
    "\n",
    "from PIL import Image\n",
    "myImg = Image.open('nizam.jpg')\n",
    "w,h = myImg.size\n",
    "w,h\n"
   ]
  },
  {
   "cell_type": "code",
   "execution_count": null,
   "id": "b4748a50",
   "metadata": {},
   "outputs": [],
   "source": [
    "# 5. What method would you call to get Image object for a 100×100 image, excluding the lower-left\n",
    "quarter of it?\n",
    "\n",
    "\n"
   ]
  }
 ],
 "metadata": {
  "kernelspec": {
   "display_name": "Python 3 (ipykernel)",
   "language": "python",
   "name": "python3"
  },
  "language_info": {
   "codemirror_mode": {
    "name": "ipython",
    "version": 3
   },
   "file_extension": ".py",
   "mimetype": "text/x-python",
   "name": "python",
   "nbconvert_exporter": "python",
   "pygments_lexer": "ipython3",
   "version": "3.9.7"
  }
 },
 "nbformat": 4,
 "nbformat_minor": 5
}
