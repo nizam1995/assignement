{
 "cells": [
  {
   "cell_type": "markdown",
   "id": "fbbf440b",
   "metadata": {},
   "source": [
    "Q1. What is the meaning of multiple inheritance?\n",
    "\n",
    "Q2. What is the concept of delegation?\n",
    "\n",
    "Q3. What is the concept of composition?\n",
    "\n",
    "Q4. What are bound methods and how do we use them?\n",
    "\n",
    "Q5. What is the purpose of pseudoprivate attributes?"
   ]
  },
  {
   "cell_type": "code",
   "execution_count": null,
   "id": "1d7694c9",
   "metadata": {},
   "outputs": [],
   "source": [
    "# Q1. What is the meaning of multiple inheritance?"
   ]
  },
  {
   "cell_type": "markdown",
   "id": "2335f229",
   "metadata": {},
   "source": [
    "When a class is derived from more than one base class it is called multiple Inheritance. The derived class inherits all the features of the base case."
   ]
  },
  {
   "cell_type": "code",
   "execution_count": null,
   "id": "4f0cd095",
   "metadata": {},
   "outputs": [],
   "source": [
    "#Q2. What is the concept of delegation?"
   ]
  },
  {
   "cell_type": "markdown",
   "id": "7519e990",
   "metadata": {},
   "source": [
    "Delegation is an OOPS technique, where certain operation on one object are automatically applied to anotehr object. Delegation indicates the dependencey of one object on another object to complete the task.  "
   ]
  },
  {
   "cell_type": "code",
   "execution_count": 1,
   "id": "a121fdbc",
   "metadata": {},
   "outputs": [],
   "source": [
    "#Q3. What is the concept of composition?\n"
   ]
  },
  {
   "cell_type": "markdown",
   "id": "4fb1de99",
   "metadata": {},
   "source": [
    "whenever you deligate some responsiblity  of one class to another class is called composition. Example_ consider there are two class books and chapter ,  achpater can not be a book and book can not be a chapter but we can deligate some responsiblity from chapter to book class.  "
   ]
  },
  {
   "cell_type": "code",
   "execution_count": 2,
   "id": "ec2ddb1d",
   "metadata": {},
   "outputs": [],
   "source": [
    "class salary :\n",
    "    def __init__ (self,pay,bonus):\n",
    "        self.pay= pay\n",
    "        self.bonus = bonus\n",
    "        \n",
    "    def annual_salary(self):\n",
    "        return (self.pay*12)+ self.bonus\n",
    "    \n",
    "class employee:\n",
    "    def __init__ (self, name, age, pay,  bonus):\n",
    "        self.name = name\n",
    "        self.age = age\n",
    "        self.obj_salary = salary(pay, bonus) # example of deligation passing the responsiblity to salary class \n",
    "        \n",
    "    def total_salary (self):\n",
    "        return self.obj_salary.annual_salary()"
   ]
  },
  {
   "cell_type": "code",
   "execution_count": 3,
   "id": "9d7d0c6d",
   "metadata": {},
   "outputs": [],
   "source": [
    "emp = employee('nizam', 29, 10000, 5000)"
   ]
  },
  {
   "cell_type": "code",
   "execution_count": 4,
   "id": "b4baa551",
   "metadata": {},
   "outputs": [
    {
     "name": "stdout",
     "output_type": "stream",
     "text": [
      "125000\n"
     ]
    }
   ],
   "source": [
    "print(emp.total_salary())"
   ]
  },
  {
   "cell_type": "code",
   "execution_count": null,
   "id": "8cd8f508",
   "metadata": {},
   "outputs": [],
   "source": []
  },
  {
   "cell_type": "code",
   "execution_count": null,
   "id": "e1c1cd5b",
   "metadata": {},
   "outputs": [],
   "source": []
  },
  {
   "cell_type": "code",
   "execution_count": null,
   "id": "f31bf5e6",
   "metadata": {},
   "outputs": [],
   "source": [
    "#Q4. What are bound methods and how do we use them?"
   ]
  },
  {
   "cell_type": "markdown",
   "id": "1ed0fda9",
   "metadata": {},
   "source": [
    "A bound method is the one which is dependent on the instance of the class as the first argument. It passes the instance as the first argument which is used to access the variables and functions"
   ]
  },
  {
   "cell_type": "code",
   "execution_count": 5,
   "id": "1d0a9f5c",
   "metadata": {},
   "outputs": [
    {
     "name": "stdout",
     "output_type": "stream",
     "text": [
      "<bound method A.func of <__main__.A object at 0x0000028627BDEB20>>\n"
     ]
    }
   ],
   "source": [
    "class A:\n",
    "  \n",
    "    def func(self, arg):\n",
    "        self.arg = arg\n",
    "        print(\"Value of arg = \", arg)\n",
    "  \n",
    "  \n",
    "# Creating an instance\n",
    "obj = A()  \n",
    "  \n",
    "# bound method\n",
    "print(obj.func)"
   ]
  },
  {
   "cell_type": "code",
   "execution_count": 6,
   "id": "361f7ef7",
   "metadata": {},
   "outputs": [],
   "source": [
    "#Q5. What is the purpose of pseudoprivate attributes?\n",
    "\n"
   ]
  },
  {
   "cell_type": "markdown",
   "id": "9b7fdf0e",
   "metadata": {},
   "source": [
    "Pseudoprivate attributes are  useful in larger frameworks or tools, both to avoid introducing new method names that might accidentally hide definitions elsewhere in the class tree and to reduce the chance of internal methods being replaced by names defined lower in the tre"
   ]
  }
 ],
 "metadata": {
  "kernelspec": {
   "display_name": "Python 3 (ipykernel)",
   "language": "python",
   "name": "python3"
  },
  "language_info": {
   "codemirror_mode": {
    "name": "ipython",
    "version": 3
   },
   "file_extension": ".py",
   "mimetype": "text/x-python",
   "name": "python",
   "nbconvert_exporter": "python",
   "pygments_lexer": "ipython3",
   "version": "3.9.7"
  }
 },
 "nbformat": 4,
 "nbformat_minor": 5
}
