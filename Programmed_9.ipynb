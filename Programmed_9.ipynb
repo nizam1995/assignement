{
 "cells": [
  {
   "cell_type": "markdown",
   "id": "6a686169",
   "metadata": {},
   "source": [
    "1. Write a Python program to check if the given number is a Disarium Number?\n",
    "2. Write a Python program to print all disarium numbers between 1 to 100?\n",
    "3. Write a Python program to check if the given number is Happy Number?\n",
    "4. Write a Python program to print all happy numbers between 1 and 100?\n",
    "5. Write a Python program to determine whether the given number is a Harshad Number?\n",
    "6. Write a Python program to print all pronic numbers between 1 and 100?"
   ]
  },
  {
   "cell_type": "code",
   "execution_count": null,
   "id": "6cc242f9",
   "metadata": {},
   "outputs": [],
   "source": []
  },
  {
   "cell_type": "code",
   "execution_count": null,
   "id": "a2b10e0c",
   "metadata": {},
   "outputs": [],
   "source": [
    "#1. Write a Python program to check if the given number is a Disarium Number?"
   ]
  },
  {
   "cell_type": "markdown",
   "id": "51e53269",
   "metadata": {},
   "source": [
    "Disarium Number _  if the sum of its digit raised to the power of their respective is equal to given number. \n"
   ]
  },
  {
   "cell_type": "code",
   "execution_count": null,
   "id": "51d65b4e",
   "metadata": {},
   "outputs": [],
   "source": [
    "n= int(input(\" Enter the number to check:  \"))\n",
    "sum=0\n",
    "x=n \n",
    "while x>0:\n",
    "    tmp= x%10\n",
    "    tmp= tmp**len(str(x))\n",
    "    sum=sum+tmp\n",
    "    x=x//10\n",
    " \n",
    "\n",
    "if n==sum:\n",
    "    print('\\n you have entered Disarium Number' )\n",
    "else :\n",
    "    print( \" you have not entered  Disarium Number\")\n"
   ]
  },
  {
   "cell_type": "code",
   "execution_count": null,
   "id": "60d2dac2",
   "metadata": {},
   "outputs": [],
   "source": [
    "# 2. Write a Python program to print all disarium numbers between 1 to 100?"
   ]
  },
  {
   "cell_type": "code",
   "execution_count": null,
   "id": "9dfa031e",
   "metadata": {},
   "outputs": [],
   "source": [
    "n= int(input(\" Enter the range  to print the  Disarium Number :  \"))\n",
    "for i in range (n):\n",
    "    y=i\n",
    "   # print(\"i = \", i,\"y= \", y) # it is used to check the flow of the code\n",
    "    sum1=0\n",
    "    while y>0:\n",
    "        tmp= y%10\n",
    "        tmp= tmp**len(str(y))\n",
    "        sum1=sum1+tmp\n",
    "       # print(\"sum1 is_ \", sum1)# it is used to check the flow of the code\n",
    "        y=y//10\n",
    "    if i==sum1:\n",
    "        print(\" Disarium Number  is_\", i)\n",
    "    else: \n",
    "        pass\n",
    "       "
   ]
  },
  {
   "cell_type": "raw",
   "id": "6849333c",
   "metadata": {},
   "source": []
  },
  {
   "cell_type": "code",
   "execution_count": null,
   "id": "5b68718c",
   "metadata": {},
   "outputs": [],
   "source": [
    "#Write a Python program to check if the given number is Happy Number?"
   ]
  },
  {
   "cell_type": "markdown",
   "id": "375ad179",
   "metadata": {},
   "source": [
    "Recursive finding of square of indivdiual digit the sum become single digit and if the final single digit sum == 1 the we call it as happy number"
   ]
  },
  {
   "cell_type": "code",
   "execution_count": null,
   "id": "02ed10c8",
   "metadata": {},
   "outputs": [],
   "source": [
    "n= int (input(\"Enter the number to check if the number is happy number: \"))\n",
    "sum2= 0\n",
    "x=n\n",
    "\n",
    "while  x>=10:\n",
    "    sum2=0\n",
    "    while x>0:\n",
    "        tmp= x%10\n",
    "        sum2 = sum2+ tmp**2\n",
    "        x=x//10\n",
    "    x= sum2 \n",
    "if x==1:\n",
    "    print(n, 'is a happy number ')\n",
    "else:\n",
    "    print(n, 'is not a happy number ')"
   ]
  },
  {
   "cell_type": "code",
   "execution_count": null,
   "id": "6a8aa332",
   "metadata": {},
   "outputs": [],
   "source": [
    "#Write a Python program to print all happy numbers between 1 and 100?"
   ]
  },
  {
   "cell_type": "code",
   "execution_count": null,
   "id": "42143987",
   "metadata": {},
   "outputs": [],
   "source": [
    "n= 100\n",
    "sum2= 0\n",
    "\n",
    "for i in range (100):\n",
    "    #print(i) # these are used to check the flow of the code \n",
    "    x=i\n",
    "    #print(x) # these are used to check the flow of the code \n",
    "    while  x>=10:\n",
    "       # print(\"first while \")  # these are used to check the flow of the code \n",
    "        sum2=0\n",
    "        while x>0:\n",
    "            #print('second loop,where x=', x) # these are used to check the flow of the code \n",
    "            tmp= x%10\n",
    "            #print('tmp=' , tmp) # these are used to check the flow of the code \n",
    "            sum2 = sum2+ tmp**2\n",
    "            #print('sum2=', sum2) # these are used to check the flow of the code \n",
    "            x=x//10\n",
    "        x= sum2 \n",
    "    if x==1:\n",
    "        print(i, 'is a happy number ')\n",
    "    else:\n",
    "        pass"
   ]
  },
  {
   "cell_type": "code",
   "execution_count": null,
   "id": "9396c0e1",
   "metadata": {},
   "outputs": [],
   "source": [
    "# Write a Python program to determine whether the given number is a Harshad Number?"
   ]
  },
  {
   "cell_type": "code",
   "execution_count": null,
   "id": "44afc85e",
   "metadata": {},
   "outputs": [],
   "source": [
    "#number is divisible by sum of individual digit "
   ]
  },
  {
   "cell_type": "code",
   "execution_count": 10,
   "id": "c7cb0a42",
   "metadata": {},
   "outputs": [
    {
     "name": "stdout",
     "output_type": "stream",
     "text": [
      "Enter the number:28\n",
      "number is not hardhsad number \n"
     ]
    }
   ],
   "source": [
    "n= int(input(\"Enter the number:\"))\n",
    "x=n\n",
    "sum=0\n",
    "while x>0:\n",
    "    #print(' you are in while loop x= ',  x)\n",
    "    tmp= x%10\n",
    "    #print('tmp numer is  ', tmp)\n",
    "    sum =sum+tmp\n",
    "    ###print('sum is : ' , sum)\n",
    "    x=x//10\n",
    "    \n",
    "if n%sum==0:\n",
    "    print(\" you have entered the hard number \", n)\n",
    "    \n",
    "else:\n",
    "    print(\"Number is not hardhsad number \")"
   ]
  },
  {
   "cell_type": "code",
   "execution_count": null,
   "id": "f21630ed",
   "metadata": {},
   "outputs": [],
   "source": [
    "#Write a Python program to print all pronic numbers between 1 and 100?"
   ]
  },
  {
   "cell_type": "code",
   "execution_count": 18,
   "id": "0f474da2",
   "metadata": {},
   "outputs": [
    {
     "name": "stdout",
     "output_type": "stream",
     "text": [
      " harshad numebr is   1\n",
      " harshad numebr is   2\n",
      " harshad numebr is   3\n",
      " harshad numebr is   4\n",
      " harshad numebr is   5\n",
      " harshad numebr is   6\n",
      " harshad numebr is   7\n",
      " harshad numebr is   8\n",
      " harshad numebr is   9\n",
      " harshad numebr is   10\n",
      " harshad numebr is   12\n",
      " harshad numebr is   18\n",
      " harshad numebr is   20\n",
      " harshad numebr is   21\n",
      " harshad numebr is   24\n",
      " harshad numebr is   27\n",
      " harshad numebr is   30\n",
      " harshad numebr is   36\n",
      " harshad numebr is   40\n",
      " harshad numebr is   42\n",
      " harshad numebr is   45\n",
      " harshad numebr is   48\n",
      " harshad numebr is   50\n",
      " harshad numebr is   54\n",
      " harshad numebr is   60\n",
      " harshad numebr is   63\n",
      " harshad numebr is   70\n",
      " harshad numebr is   72\n",
      " harshad numebr is   80\n",
      " harshad numebr is   81\n",
      " harshad numebr is   84\n",
      " harshad numebr is   90\n"
     ]
    }
   ],
   "source": [
    "n= 100\n",
    "x=n\n",
    "\n",
    "for i in range(1, 100):\n",
    "    x=i\n",
    "    sum=0\n",
    "\n",
    "    while x>0:\n",
    "        \n",
    "        #print(' you are in while loop x= ',  x)\n",
    "        tmp= x%10\n",
    "        #print('tmp numer is  ', tmp)\n",
    "        sum =sum+tmp\n",
    "        #print('sum is : ' , sum)\n",
    "        x=x//10\n",
    "\n",
    "    if i%sum==0:\n",
    "        print(\" harshad numebr is  \", i)\n",
    "\n",
    "    else:\n",
    "        pass"
   ]
  },
  {
   "cell_type": "code",
   "execution_count": null,
   "id": "46ea35c4",
   "metadata": {},
   "outputs": [],
   "source": []
  }
 ],
 "metadata": {
  "kernelspec": {
   "display_name": "Python 3 (ipykernel)",
   "language": "python",
   "name": "python3"
  },
  "language_info": {
   "codemirror_mode": {
    "name": "ipython",
    "version": 3
   },
   "file_extension": ".py",
   "mimetype": "text/x-python",
   "name": "python",
   "nbconvert_exporter": "python",
   "pygments_lexer": "ipython3",
   "version": "3.9.7"
  }
 },
 "nbformat": 4,
 "nbformat_minor": 5
}
