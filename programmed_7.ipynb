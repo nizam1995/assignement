{
 "cells": [
  {
   "cell_type": "markdown",
   "id": "5e415d24",
   "metadata": {},
   "source": [
    "1. Write a Python Program to find sum of array?\n",
    "2. Write a Python Program to find largest element in an array?\n",
    "3. Write a Python Program for array rotation?\n",
    "4. Write a Python Program to Split the array and add the first part to the end?\n",
    "5. Write a Python Program to check if given array is Monotonic?"
   ]
  },
  {
   "cell_type": "code",
   "execution_count": 1,
   "id": "e6e37637",
   "metadata": {},
   "outputs": [],
   "source": [
    "# Write a Python Program to find sum of array?"
   ]
  },
  {
   "cell_type": "code",
   "execution_count": 25,
   "id": "86da85b5",
   "metadata": {},
   "outputs": [],
   "source": [
    "import array as arr"
   ]
  },
  {
   "cell_type": "code",
   "execution_count": 29,
   "id": "c7358f2e",
   "metadata": {},
   "outputs": [
    {
     "name": "stdout",
     "output_type": "stream",
     "text": [
      "Enter the length of the array: 4\n",
      "Enter the value: 1\n",
      "Enter the value: 2\n",
      "Enter the value: 4\n",
      "Enter the value: 6\n"
     ]
    },
    {
     "data": {
      "text/plain": [
       "13"
      ]
     },
     "execution_count": 29,
     "metadata": {},
     "output_type": "execute_result"
    }
   ],
   "source": [
    "\n",
    "val=arr.array('i',[])\n",
    "n=int(input(\"Enter the length of the array: \"))\n",
    "for i in range (n):\n",
    "    x=int(input(\"Enter the value: \"))\n",
    "    val.append(x)\n",
    "sum(val)"
   ]
  },
  {
   "cell_type": "code",
   "execution_count": null,
   "id": "6b9ec38a",
   "metadata": {},
   "outputs": [],
   "source": [
    "#Write a Python Program to find largest element in an array?"
   ]
  },
  {
   "cell_type": "code",
   "execution_count": 30,
   "id": "b3178e96",
   "metadata": {},
   "outputs": [
    {
     "name": "stdout",
     "output_type": "stream",
     "text": [
      "Enter the length of the array: 3\n",
      "Enter the value: 12\n",
      "Enter the value: 13\n",
      "Enter the value: 11\n"
     ]
    },
    {
     "data": {
      "text/plain": [
       "13"
      ]
     },
     "execution_count": 30,
     "metadata": {},
     "output_type": "execute_result"
    }
   ],
   "source": [
    "\n",
    "val=arr.array('i',[])\n",
    "n=int(input(\"Enter the length of the array: \"))\n",
    "for i in range (n):\n",
    "    x=int(input(\"Enter the value: \"))\n",
    "    val.append(x)\n",
    "max(val)"
   ]
  },
  {
   "cell_type": "code",
   "execution_count": null,
   "id": "c2201375",
   "metadata": {},
   "outputs": [],
   "source": []
  },
  {
   "cell_type": "code",
   "execution_count": null,
   "id": "4f980449",
   "metadata": {},
   "outputs": [],
   "source": []
  },
  {
   "cell_type": "code",
   "execution_count": 33,
   "id": "420da568",
   "metadata": {},
   "outputs": [
    {
     "data": {
      "text/plain": [
       "14"
      ]
     },
     "execution_count": 33,
     "metadata": {},
     "output_type": "execute_result"
    }
   ],
   "source": []
  },
  {
   "cell_type": "code",
   "execution_count": 22,
   "id": "c978491b",
   "metadata": {},
   "outputs": [],
   "source": [
    "#Write a Python Program for array rotation?"
   ]
  },
  {
   "cell_type": "code",
   "execution_count": 32,
   "id": "9416b5ee",
   "metadata": {},
   "outputs": [
    {
     "name": "stdout",
     "output_type": "stream",
     "text": [
      "Enter the length of the array: 3\n",
      "Enter the value: 12\n",
      "Enter the value: 13\n",
      "Enter the value: 14\n",
      "Array before rotation:  array('i', [12, 13, 14])\n",
      "Array after rotation:  array('i', [13, 14, 12])\n"
     ]
    }
   ],
   "source": [
    "val=arr.array('i',[])\n",
    "n=int(input(\"Enter the length of the array: \"))\n",
    "for i in range (n):\n",
    "    x=int(input(\"Enter the value: \"))\n",
    "    val.append(x)\n",
    "print( \"Array before rotation: \", val)\n",
    "temp= val[0]\n",
    "\n",
    "for i in range (1, n):\n",
    "    val[i-1]=val[i]\n",
    "val[n-1]=temp\n",
    "print(\"Array after rotation: \", val)"
   ]
  },
  {
   "cell_type": "code",
   "execution_count": 34,
   "id": "f183af63",
   "metadata": {},
   "outputs": [],
   "source": [
    "# Write a Python Program to Split the array and add the first part to the end?"
   ]
  },
  {
   "cell_type": "code",
   "execution_count": 46,
   "id": "4b640af4",
   "metadata": {},
   "outputs": [
    {
     "name": "stdout",
     "output_type": "stream",
     "text": [
      "5 6 52 36 12 10 "
     ]
    }
   ],
   "source": [
    "def splitArr(arr, n, k): \n",
    "    for i in range(0, k): \n",
    "        x = arr[0]\n",
    "        for j in range(0, n-1):\n",
    "            arr[j] = arr[j + 1]\n",
    "          \n",
    "        arr[n-1] = x\n",
    "          \n",
    "  \n",
    "# main\n",
    "arr = [12, 10, 5, 6, 52, 36]\n",
    "n = len(arr)\n",
    "position = 2\n",
    "  \n",
    "splitArr(arr, n, position)\n",
    "  \n",
    "for i in range(0, n): \n",
    "    print(arr[i], end = ' ')"
   ]
  },
  {
   "cell_type": "code",
   "execution_count": 45,
   "id": "48f3c865",
   "metadata": {},
   "outputs": [
    {
     "name": "stdout",
     "output_type": "stream",
     "text": [
      "True\n"
     ]
    }
   ],
   "source": [
    "def isMonotonic(A):\n",
    "  \n",
    "    return (all(A[i] <= A[i + 1] for i in range(len(A) - 1)) or\n",
    "            all(A[i] >= A[i + 1] for i in range(len(A) - 1)))\n",
    "  \n",
    "\n",
    "A = [6, 5, 4, 4]\n",
    "  \n",
    "\n",
    "print(isMonotonic(A))"
   ]
  },
  {
   "cell_type": "code",
   "execution_count": null,
   "id": "754f2223",
   "metadata": {},
   "outputs": [],
   "source": []
  },
  {
   "cell_type": "code",
   "execution_count": null,
   "id": "73da24a3",
   "metadata": {},
   "outputs": [],
   "source": []
  }
 ],
 "metadata": {
  "kernelspec": {
   "display_name": "Python 3 (ipykernel)",
   "language": "python",
   "name": "python3"
  },
  "language_info": {
   "codemirror_mode": {
    "name": "ipython",
    "version": 3
   },
   "file_extension": ".py",
   "mimetype": "text/x-python",
   "name": "python",
   "nbconvert_exporter": "python",
   "pygments_lexer": "ipython3",
   "version": "3.9.7"
  }
 },
 "nbformat": 4,
 "nbformat_minor": 5
}
