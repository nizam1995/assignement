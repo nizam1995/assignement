{
 "cells": [
  {
   "cell_type": "code",
   "execution_count": null,
   "id": "2f34dbf0",
   "metadata": {},
   "outputs": [],
   "source": [
    "# 1. Set the variable test1 to the string 'This is a test of the emergency text system,' and save test1 to a file named test.txt."
   ]
  },
  {
   "cell_type": "code",
   "execution_count": null,
   "id": "a1d24dee",
   "metadata": {},
   "outputs": [],
   "source": [
    "test1 = 'This is a test of the emergency text system,'\n",
    "fileObj = open('test.txt','w')\n",
    "fileObj.write(test1)"
   ]
  },
  {
   "cell_type": "code",
   "execution_count": null,
   "id": "9cc53ba1",
   "metadata": {},
   "outputs": [],
   "source": [
    "# 2. Read the contents of the file test.txt into the variable test2. Is there a difference between test 1\n",
    "and test 2?"
   ]
  },
  {
   "cell_type": "code",
   "execution_count": null,
   "id": "541afbcc",
   "metadata": {},
   "outputs": [],
   "source": [
    "fileObj2 = open('test.txt','r')\n",
    "test2 = fileObj2.readline()\n",
    "test2"
   ]
  },
  {
   "cell_type": "code",
   "execution_count": null,
   "id": "302d718a",
   "metadata": {},
   "outputs": [],
   "source": [
    "if test1==test2:\n",
    "    print('Both are same')"
   ]
  },
  {
   "cell_type": "code",
   "execution_count": null,
   "id": "b9ff6eec",
   "metadata": {},
   "outputs": [],
   "source": [
    "# 3. Create a CSV file called books.csv by using these lines:\n",
    "title,author,year\n",
    "The Weirdstone of Brisingamen,Alan Garner,1960\n",
    "Perdido Street Station,China Miéville,2000\n",
    "Thud!,Terry Pratchett,2005\n",
    "The Spellman Files,Lisa Lutz,2007\n",
    "Small Gods,Terry Pratchett,1992\n"
   ]
  },
  {
   "cell_type": "code",
   "execution_count": null,
   "id": "6da84d86",
   "metadata": {},
   "outputs": [],
   "source": [
    "import csv\n",
    "rows =[ ['title','author','year'],\n",
    "    ['The Weirdstone of Brisingamen','Alan Garner',1960],\n",
    "    ['Perdido Street Station','China Miéville',2000],\n",
    "    ['Thud!','Terry Pratchett',2005],\n",
    "    ['The Spellman Files','Lisa Lutz',2007],\n",
    "    ['Small Gods','Terry Pratchett',1992]]\n",
    "with open('books.csv','w',newline='') as file:\n",
    "    writer = csv.writer(file)\n",
    "    writer.writerows(rows)"
   ]
  },
  {
   "cell_type": "code",
   "execution_count": null,
   "id": "35ad5837",
   "metadata": {},
   "outputs": [],
   "source": [
    "#4. Use the sqlite3 module to create a SQLite database called books.db, and a table called books with these fields: title (text), author (text), and year (integer)."
   ]
  },
  {
   "cell_type": "code",
   "execution_count": null,
   "id": "13f91acc",
   "metadata": {},
   "outputs": [],
   "source": [
    "import sqlite3\n",
    "conn = sqlite3.connect('books.db')\n",
    "c = conn.cursor()\n",
    "\n",
    "c.execute('create table books(title varchar(20),author varchar(20), year int)')\n",
    "conn.commit()"
   ]
  },
  {
   "cell_type": "code",
   "execution_count": null,
   "id": "cd415df7",
   "metadata": {},
   "outputs": [],
   "source": [
    "# 5. Read books.csv and insert its data into the book table."
   ]
  },
  {
   "cell_type": "code",
   "execution_count": null,
   "id": "cf23e113",
   "metadata": {},
   "outputs": [],
   "source": [
    "import pandas as pd\n",
    "\n",
    "read_books = pd.read_csv('books.csv',encoding='unicode_escape')\n",
    "read_books.to_sql('books', conn, if_exists='append', index = False)"
   ]
  },
  {
   "cell_type": "code",
   "execution_count": null,
   "id": "11483acd",
   "metadata": {},
   "outputs": [],
   "source": [
    "#6. Select and print the title column from the book table in alphabetical order"
   ]
  },
  {
   "cell_type": "code",
   "execution_count": null,
   "id": "8829693b",
   "metadata": {},
   "outputs": [],
   "source": [
    "c.execute('select title from books order by title asc')\n",
    "print(c.fetchall())"
   ]
  },
  {
   "cell_type": "code",
   "execution_count": null,
   "id": "a86fab5d",
   "metadata": {},
   "outputs": [],
   "source": [
    "#7. From the book table, select and print all columns in the order of publication."
   ]
  },
  {
   "cell_type": "code",
   "execution_count": null,
   "id": "2a2f0dca",
   "metadata": {},
   "outputs": [],
   "source": [
    "c.execute('select title, author,year from books order by year')\n",
    "#print(c.fetchall())\n",
    "\n",
    "df = pd.DataFrame(c.fetchall(), columns=['title','author','year'])\n",
    "df"
   ]
  },
  {
   "cell_type": "code",
   "execution_count": null,
   "id": "a3a1c6f5",
   "metadata": {},
   "outputs": [],
   "source": [
    "#8. Use the sqlalchemy module to connect to the sqlite3 database books.db that you just made in exercise 6."
   ]
  },
  {
   "cell_type": "code",
   "execution_count": null,
   "id": "1fbb7aaa",
   "metadata": {},
   "outputs": [],
   "source": [
    "import sqlalchemy\n",
    "engine = sqlalchemy.create_engine(\"sqlite:///books.db\")\n",
    "rows = engine.execute('select * from books')\n",
    "for i in rows:\n",
    "    print(i)"
   ]
  },
  {
   "cell_type": "code",
   "execution_count": null,
   "id": "6e47e1e9",
   "metadata": {},
   "outputs": [],
   "source": [
    "#9. Install the Redis server and the Python redis library (pip install redis) on your computer. Create a Redis hash called test with the fields count (1) and name ('Fester Bestertester'). Print all the fields for test."
   ]
  },
  {
   "cell_type": "code",
   "execution_count": null,
   "id": "69eea5e9",
   "metadata": {},
   "outputs": [],
   "source": [
    "# import redis\n",
    "# conn = redis.Redis()\n",
    "# conn.delete('test')\n",
    "# conn.hset('test',mapping = {'count' : 1, 'name' : 'Fester Bestertester'})\n",
    "# #conn.hset('test',key =  1, value = 'Fester Bestertester')\n",
    "# conn.hgetall('test')"
   ]
  },
  {
   "cell_type": "code",
   "execution_count": null,
   "id": "155ff72b",
   "metadata": {},
   "outputs": [],
   "source": [
    "import redis\n",
    "conn = redis.Redis()\n",
    "conn.delete('test')\n",
    "conn.hmset('test', {'count': 1, 'name': 'Fester Bestertester'})\n",
    "conn.hgetall('test')"
   ]
  },
  {
   "cell_type": "code",
   "execution_count": null,
   "id": "d1e36531",
   "metadata": {},
   "outputs": [],
   "source": [
    "#10. Increment the count field of test and print it."
   ]
  },
  {
   "cell_type": "code",
   "execution_count": null,
   "id": "459b27bb",
   "metadata": {},
   "outputs": [],
   "source": [
    "conn.hincrby('test','count', 3)"
   ]
  }
 ],
 "metadata": {
  "kernelspec": {
   "display_name": "Python 3 (ipykernel)",
   "language": "python",
   "name": "python3"
  },
  "language_info": {
   "codemirror_mode": {
    "name": "ipython",
    "version": 3
   },
   "file_extension": ".py",
   "mimetype": "text/x-python",
   "name": "python",
   "nbconvert_exporter": "python",
   "pygments_lexer": "ipython3",
   "version": "3.9.7"
  }
 },
 "nbformat": 4,
 "nbformat_minor": 5
}
