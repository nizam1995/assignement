{
 "cells": [
  {
   "cell_type": "code",
   "execution_count": null,
   "id": "57a1a635",
   "metadata": {},
   "outputs": [],
   "source": [
    "# 1. What are escape characters, and how do you use them?\n",
    "\n",
    "# Answer: Escape characters represent characters in string values that would otherwise be difficult or impossible to type into code."
   ]
  },
  {
   "cell_type": "code",
   "execution_count": null,
   "id": "d3b68724",
   "metadata": {},
   "outputs": [],
   "source": [
    "# 2. What do the escape characters n and t stand for?\n",
    "# Answer: \\n is a newline; \\t is a tab."
   ]
  },
  {
   "cell_type": "code",
   "execution_count": null,
   "id": "b07bc5f1",
   "metadata": {},
   "outputs": [],
   "source": [
    "#3. What is the way to include backslash characters in a string?\n",
    "\n",
    "#Ans: The \\\\ escape character will represent a backslash character.\n"
   ]
  },
  {
   "cell_type": "code",
   "execution_count": null,
   "id": "fd3b6316",
   "metadata": {},
   "outputs": [],
   "source": [
    "#4. The string \"Howl's Moving Castle\" is a correct value. Why isn't the single quote character in the word Howl's not escaped a problem?\n",
    "\n",
    "#Ans: The single quote in Howl's is fine because we’ve used double quotes to mark the beginning and end of the string."
   ]
  },
  {
   "cell_type": "code",
   "execution_count": null,
   "id": "92fc7b61",
   "metadata": {},
   "outputs": [],
   "source": [
    "#5. How do you write a string of newlines if you don't want to use the n character?\n",
    "\n",
    "#Ans: Multiline strings allow you to use newlines in strings without the \\n escape character"
   ]
  },
  {
   "cell_type": "code",
   "execution_count": null,
   "id": "4a8f3873",
   "metadata": {},
   "outputs": [],
   "source": [
    "#6. What are the values of the given expressions?\n",
    "\n",
    "'Hello, world!'[1]\n",
    "\n",
    "'Hello, world!'[0:5]\n",
    "\n",
    "'Hello, world!'[:5]\n",
    "\n",
    "'Hello, world!'[3:]"
   ]
  },
  {
   "cell_type": "code",
   "execution_count": null,
   "id": "1d395321",
   "metadata": {},
   "outputs": [],
   "source": [
    "#Ans: The expressions evaluate to the following:\n",
    "\n",
    "             # • 'e'\n",
    "\n",
    "             # • 'Hello'\n",
    "\n",
    "             # • 'Hello' \n",
    "\n",
    "             # • 'lo world"
   ]
  },
  {
   "cell_type": "code",
   "execution_count": null,
   "id": "c08cab22",
   "metadata": {},
   "outputs": [],
   "source": [
    "\n",
    "#7. What are the values of the following expressions?\n",
    "\n",
    "'Hello'.upper()\n",
    "\n",
    "'Hello'.upper().isupper()\n",
    "\n",
    "'Hello'.upper().lower()\n",
    "\n",
    "#Ans: The expressions evaluate to the following: \n",
    "\n",
    "         • 'HELLO' \n",
    "\n",
    "          • True \n",
    "\n",
    "          • 'hello'"
   ]
  },
  {
   "cell_type": "code",
   "execution_count": null,
   "id": "b05c0a7b",
   "metadata": {},
   "outputs": [],
   "source": [
    "#8. What are the values of the following expressions?\n",
    "\n",
    "'Remember, remember, the fifth of July.'.split()\n",
    "\n",
    "'-'.join('There can only one.'.split())\n",
    "\n",
    "Ans:   1>[‘Remember,’,’remember,’,’the’,’fifth’,’of’,’july’]\n",
    "\n",
    "           2>’there-can-only-one’\n",
    "\n"
   ]
  },
  {
   "cell_type": "code",
   "execution_count": null,
   "id": "6b6aa825",
   "metadata": {},
   "outputs": [],
   "source": [
    "#9. What are the methods for right-justifying, left-justifying, and centering a string?\n",
    "\n",
    "#Ans: The rjust(), ljust(), and center() string methods, respectively"
   ]
  },
  {
   "cell_type": "code",
   "execution_count": null,
   "id": "fadc2b04",
   "metadata": {},
   "outputs": [],
   "source": [
    "10# 18. What is the best way to remove whitespace characters from the start or end?\n",
    "\n",
    "#Ans: The lstrip() and rstrip() methods remove whitespace from the left and right ends of a string, respectively"
   ]
  }
 ],
 "metadata": {
  "kernelspec": {
   "display_name": "Python 3 (ipykernel)",
   "language": "python",
   "name": "python3"
  },
  "language_info": {
   "codemirror_mode": {
    "name": "ipython",
    "version": 3
   },
   "file_extension": ".py",
   "mimetype": "text/x-python",
   "name": "python",
   "nbconvert_exporter": "python",
   "pygments_lexer": "ipython3",
   "version": "3.9.7"
  }
 },
 "nbformat": 4,
 "nbformat_minor": 5
}
