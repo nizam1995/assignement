{
 "cells": [
  {
   "cell_type": "markdown",
   "id": "1817ca57",
   "metadata": {},
   "source": [
    "1. Write a Python Program to Check if a Number is Positive, Negative or Zero?\n",
    "2. Write a Python Program to Check if a Number is Odd or Even?\n",
    "3. Write a Python Program to Check Leap Year?\n",
    "4. Write a Python Program to Check Prime Number?\n",
    "5. Write a Python Program to Print all Prime Numbers in an Interval of 1-10000?"
   ]
  },
  {
   "cell_type": "code",
   "execution_count": 1,
   "id": "ce223f2b",
   "metadata": {},
   "outputs": [],
   "source": [
    "# Write a Python Program to Check if a Number is Positive, Negative or Zero?"
   ]
  },
  {
   "cell_type": "code",
   "execution_count": 6,
   "id": "bc7f4d99",
   "metadata": {},
   "outputs": [
    {
     "name": "stdout",
     "output_type": "stream",
     "text": [
      "Enter the number for compraision1\n",
      "Entered numebr is positive \n"
     ]
    }
   ],
   "source": [
    "a= int(input(\"Enter the number for compraision\"))\n",
    "\n",
    "if a>0:\n",
    "    print( \"Entered numebr is positive \")\n",
    "elif a<0:\n",
    "    print( \"Entered numebr is Negative \")\n",
    "elif a==0:\n",
    "    print( \"Entered numebr is zero \")\n"
   ]
  },
  {
   "cell_type": "code",
   "execution_count": null,
   "id": "0a498ea7",
   "metadata": {},
   "outputs": [],
   "source": [
    "# Write a Python Program to Check if a Number is Odd or Even?"
   ]
  },
  {
   "cell_type": "code",
   "execution_count": 10,
   "id": "78059a31",
   "metadata": {},
   "outputs": [
    {
     "name": "stdout",
     "output_type": "stream",
     "text": [
      "Enter the number for compraision: 4\n",
      "\n",
      "Enter number is even \n",
      "\n"
     ]
    }
   ],
   "source": [
    "n= int(input(\"Enter the number for compraision: \"))\n",
    "if n%2 ==0:\n",
    "    print(\"\\nEnter number is even \\n\")\n",
    "else:\n",
    "    print(\"\\nEnter numebr os odd \\n \")"
   ]
  },
  {
   "cell_type": "code",
   "execution_count": 11,
   "id": "4509b9e8",
   "metadata": {},
   "outputs": [],
   "source": [
    "# Write a Python Program to Check Leap Year?"
   ]
  },
  {
   "cell_type": "code",
   "execution_count": 18,
   "id": "f5f3141a",
   "metadata": {},
   "outputs": [
    {
     "name": "stdout",
     "output_type": "stream",
     "text": [
      "Enter the year for compraision: 2020\n",
      "2020 is a leap year\n"
     ]
    }
   ],
   "source": [
    "# Python program to check if year is a leap year or not\n",
    "\n",
    "year = int(input(\"Enter the year for compraision: \"))\n",
    "\n",
    "# To get year (integer input) from the user\n",
    "# year = int(input(\"Enter a year: \"))\n",
    "\n",
    "# divided by 100 means century year (ending with 00)\n",
    "# century year divided by 400 is leap year\n",
    "\n",
    "if (year % 400 == 0) and (year % 100 == 0):\n",
    "    print(\"{0} is a leap year\".format(year))\n",
    "\n",
    "# not divided by 100 means not a century year\n",
    "# year divided by 4 is a leap year\n",
    "\n",
    "elif (year % 4 ==0) and (year % 100 != 0):\n",
    "    print(\"{0} is a leap year\".format(year))\n",
    "\n",
    "# if not divided by both 400 (century year) and 4 (not century year)\n",
    "# year is not leap year\n",
    "else:\n",
    "    print(\"{0} is not a leap year\".format(year))"
   ]
  },
  {
   "cell_type": "code",
   "execution_count": 63,
   "id": "b980d934",
   "metadata": {},
   "outputs": [
    {
     "name": "stdout",
     "output_type": "stream",
     "text": [
      "Enter the number to check for prime number :34\n",
      "Entered number is not  prime \n",
      "2 times 17 is 34\n"
     ]
    }
   ],
   "source": [
    "#Write a Python Program to Check Prime Number?\n",
    "\n",
    "n= int(input( \"Enter the number to check for prime number :\"))\n",
    "if n>1:\n",
    "    for i in  range (2, n):\n",
    "         if   n%i ==0:\n",
    "                print(\"Entered number is not  prime \")\n",
    "                print(i,\"times\",n//i,\"is\",n)\n",
    "                break\n",
    "               \n",
    "    else :\n",
    "        print(\"Entered number is   prime \")\n",
    "           \n",
    "            \n",
    "else:\n",
    "    print(\"Entered number is not  prime \")\n",
    "    \n",
    "\n",
    "    "
   ]
  },
  {
   "cell_type": "code",
   "execution_count": null,
   "id": "a426196d",
   "metadata": {},
   "outputs": [],
   "source": []
  },
  {
   "cell_type": "code",
   "execution_count": null,
   "id": "5922c03d",
   "metadata": {},
   "outputs": [],
   "source": [
    "# Write a Python Program to Print all Prime Numbers in an Interval of 1-10000?"
   ]
  },
  {
   "cell_type": "code",
   "execution_count": 83,
   "id": "a911f9cb",
   "metadata": {},
   "outputs": [
    {
     "name": "stdout",
     "output_type": "stream",
     "text": [
      "Enter the  lower range  number to check for prime number :10\n",
      "Enter the  upper range  number to check for prime number :100\n",
      "Prime numbers between 10 and 100 are:\n",
      "11\n",
      "13\n",
      "17\n",
      "19\n",
      "23\n",
      "29\n",
      "31\n",
      "37\n",
      "41\n",
      "43\n",
      "47\n",
      "53\n",
      "59\n",
      "61\n",
      "67\n",
      "71\n",
      "73\n",
      "79\n",
      "83\n",
      "89\n",
      "97\n"
     ]
    }
   ],
   "source": [
    "lower = int(input( \"Enter the  lower range  number to check for prime number :\"))\n",
    "upper = int(input( \"Enter the  upper range  number to check for prime number :\"))\n",
    "\n",
    "print(\"Prime numbers between\", lower, \"and\", upper, \"are:\")\n",
    "\n",
    "for num in range(lower, upper + 1):\n",
    "   # all prime numbers are greater than 1\n",
    "   if num > 1:\n",
    "       for i in range(2, num):\n",
    "           if (num % i) == 0:\n",
    "               break\n",
    "       else:\n",
    "           print(num)\n",
    "       "
   ]
  },
  {
   "cell_type": "code",
   "execution_count": null,
   "id": "252d0ad0",
   "metadata": {},
   "outputs": [],
   "source": []
  },
  {
   "cell_type": "code",
   "execution_count": null,
   "id": "c8cb3328",
   "metadata": {},
   "outputs": [],
   "source": []
  }
 ],
 "metadata": {
  "kernelspec": {
   "display_name": "Python 3 (ipykernel)",
   "language": "python",
   "name": "python3"
  },
  "language_info": {
   "codemirror_mode": {
    "name": "ipython",
    "version": 3
   },
   "file_extension": ".py",
   "mimetype": "text/x-python",
   "name": "python",
   "nbconvert_exporter": "python",
   "pygments_lexer": "ipython3",
   "version": "3.9.7"
  }
 },
 "nbformat": 4,
 "nbformat_minor": 5
}
