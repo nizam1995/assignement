{
 "cells": [
  {
   "cell_type": "markdown",
   "id": "661e7430",
   "metadata": {},
   "source": [
    "1. Write a Python Program to Find LCM?\n",
    "2. Write a Python Program to Find HCF?\n",
    "3. Write a Python Program to Convert Decimal to Binary, Octal and Hexadecimal?\n",
    "4. Write a Python Program To Find ASCII value of a character?\n",
    "5. Write a Python Program to Make a Simple Calculator with 4 basic mathematical operations?\n"
   ]
  },
  {
   "cell_type": "code",
   "execution_count": null,
   "id": "08cff50a",
   "metadata": {},
   "outputs": [],
   "source": [
    "# Write a Python Program to Find LCM?"
   ]
  },
  {
   "cell_type": "code",
   "execution_count": null,
   "id": "ee6a34c7",
   "metadata": {},
   "outputs": [],
   "source": [
    "a = int(input(\"Enter the first number: \"))\n",
    "b = int(input(\"Enter the second number: \"))\n",
    "if a>b:\n",
    "    l=a\n",
    "else:\n",
    "    l=b\n",
    "while(True):\n",
    "    if ((l% a==0) and (l%b==0)):\n",
    "        lcm=l \n",
    "        break\n",
    "    l=l+1\n",
    "    \n",
    "print(\"Lcm of \", a,\"and\",  b,  \"is: \", l ,\"\\n\")"
   ]
  },
  {
   "cell_type": "code",
   "execution_count": null,
   "id": "c4b613f3",
   "metadata": {},
   "outputs": [],
   "source": [
    "# Write a Python Program to Find HCF?\n",
    "\n",
    "x = int(input(\"Enter the first number: \"))\n",
    "y = int(input(\"Enter the second number: \"))\n",
    "\n",
    "if x > y:\n",
    "        smaller = y\n",
    "else:\n",
    "        smaller = x    \n",
    "for i in range(1, smaller+1):\n",
    "        if((x % i == 0) and (y % i == 0)):\n",
    "            hcf = i \n",
    "\n",
    "\n",
    "print(\"The H.C.F. is\",hcf )"
   ]
  },
  {
   "cell_type": "code",
   "execution_count": null,
   "id": "cad9e44f",
   "metadata": {},
   "outputs": [],
   "source": [
    "# Write a Python Program to Convert Decimal to Binary, Octal and Hexadecimal?"
   ]
  },
  {
   "cell_type": "code",
   "execution_count": null,
   "id": "3fad2320",
   "metadata": {},
   "outputs": [],
   "source": [
    "n= int(input(\"Enter the numebr: \"))\n",
    "\n",
    "\n",
    "print(\"The decimal value of\", n, \"is:\\n\")\n",
    "print(bin (n), \"in binary.\\n\")\n",
    "print(oct (n), \"in octal.\\n\")\n",
    "print(hex (n), \"in hexadecimal.\\n\")"
   ]
  },
  {
   "cell_type": "code",
   "execution_count": null,
   "id": "8cd01e52",
   "metadata": {},
   "outputs": [],
   "source": [
    "# Write a Python Program To Find ASCII value of a character?"
   ]
  },
  {
   "cell_type": "code",
   "execution_count": null,
   "id": "f1a05929",
   "metadata": {},
   "outputs": [],
   "source": [
    "\n",
    "c = 'p'\n",
    "print(\"The ASCII value of '\" + c + \"' is\", ord(c))"
   ]
  },
  {
   "cell_type": "code",
   "execution_count": null,
   "id": "6ca16a31",
   "metadata": {},
   "outputs": [],
   "source": [
    "# Write a Python Program to Make a Simple Calculator with 4 basic mathematical operations?"
   ]
  },
  {
   "cell_type": "code",
   "execution_count": null,
   "id": "161cd0f0",
   "metadata": {},
   "outputs": [],
   "source": []
  },
  {
   "cell_type": "code",
   "execution_count": null,
   "id": "3a20243b",
   "metadata": {},
   "outputs": [],
   "source": [
    "print(\"Select operation.\")\n",
    "print(\"1.Add\")\n",
    "print(\"2.Subtract\")\n",
    "print(\"3.Multiply\")\n",
    "print(\"4.Divide\")\n",
    "\n",
    "while (True):\n",
    "    choice = input(\"Enter choice(1/2/3/4): \")\n",
    "    a= int(input(\"Enter the first numebr: \"))\n",
    "    b=int(input(\"Enter the secomd number: \"))\n",
    "    if choice=='1':\n",
    "                 print(\"Addition of \",a,\"and\", b, \"is: \",a+b )\n",
    "    if choice=='2':\n",
    "                 print(\"Subtract of \",a,\"and\", b, \"is: \",a-b )\n",
    "    if choice=='3':\n",
    "                 print(\"Multiply of \",a,\"and\", b, \"is: \",a*b )\n",
    "                 print(\"Subtract of \",a,\"and\", b, \"is: \",a-b )\n",
    "    if choice=='4':\n",
    "                 print(\"Divide of \",a,\"and\", b, \"is: \",a/b )\n",
    "    next_calculation = input(\"Let's do next calculation? (yes/no): \")\n",
    "    if next_calculation == \"no\":\n",
    "          break\n",
    "    \n",
    "    else:\n",
    "        print(\"okay, help me with your choice as dicuss  above\")\n"
   ]
  },
  {
   "cell_type": "code",
   "execution_count": null,
   "id": "93728b61",
   "metadata": {},
   "outputs": [],
   "source": []
  }
 ],
 "metadata": {
  "kernelspec": {
   "display_name": "Python 3 (ipykernel)",
   "language": "python",
   "name": "python3"
  },
  "language_info": {
   "codemirror_mode": {
    "name": "ipython",
    "version": 3
   },
   "file_extension": ".py",
   "mimetype": "text/x-python",
   "name": "python",
   "nbconvert_exporter": "python",
   "pygments_lexer": "ipython3",
   "version": "3.9.7"
  }
 },
 "nbformat": 4,
 "nbformat_minor": 5
}
